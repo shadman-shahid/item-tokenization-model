{
 "cells": [
  {
   "cell_type": "code",
   "execution_count": 328,
   "metadata": {
    "collapsed": true,
    "pycharm": {
     "name": "#%%\n"
    }
   },
   "outputs": [],
   "source": [
    "import re\n",
    "# from nltk.corpus import stopwords\n",
    "from scipy import sparse\n",
    "import numpy as np\n",
    "import holidays\n",
    "from utils import ExtractCalendar\n",
    "from datetime import date\n",
    "import re\n",
    "import pandas as pd\n",
    "from datetime import date\n",
    "from gensim.test.utils import common_texts\n",
    "from gensim.models.doc2vec import Doc2Vec, TaggedDocument\n"
   ]
  },
  {
   "cell_type": "markdown",
   "source": [
    "## Load the data from csv and format correctly"
   ],
   "metadata": {
    "collapsed": false,
    "pycharm": {
     "name": "#%% md\n"
    }
   }
  },
  {
   "cell_type": "code",
   "execution_count": 2,
   "outputs": [
    {
     "data": {
      "text/plain": "                                                      ProductCode  \\\nInvoiceno                                                           \nD0071501010177      [2500464, 2805315, 2805913, 2805913, 3100861]   \nD0071501010182               [2700164, 2700327, 2702241, 2500234]   \nD0071501010192  [3901391, 4203132, 4203156, 2802216, 2802216, ...   \nD0071501010248  [2805453, 2700122, 2400450, 2805452, 2700154, ...   \nD0071501010311               [2801349, 2801347, 2802229, 2300267]   \n...                                                           ...   \nD0072209191015  [2816455, 2816455, 2815330, 2815330, 2815277, ...   \nD0072209191029  [2603361, 2603361, 2603361, 2900006, 2900006, ...   \nD0072209191033               [3017647, 3000680, 3811722, 3000382]   \nD0072209191036               [2702761, 2702450, 2703953, 2702831]   \nD0072209191037                        [3382831, 3382831, 3384516]   \n\n                                                      ProductName  \\\nInvoiceno                                                           \nD0071501010177  [AARONG UHT Full Cream Liquid Milk 500ml, Prot...   \nD0071501010182  [Radhuni Panch Foran 50 gm, Pran Thai Chilli S...   \nD0071501010192  [S201011 Party Spray Cragy Ribbon-PS1/2, S2010...   \nD0071501010248  [IFAD Eggy Instant Noodles Chicken 65Gm, Radhu...   \nD0071501010311  [Golden Harvest Dal Puri 454gm (10 Pcs), GH De...   \n...                                                           ...   \nD0072209191015  [Fresh Healthy Choice Salted Biscuit 100g, Fre...   \nD0072209191029  [Wheel Laundry Soap 125g, Wheel Laundry Soap 1...   \nD0072209191033  [Vaseline Mosquito Defence Original 50ml, Clos...   \nD0072209191036  [Lens Pure Spice Paprika Powder 30g, Haiko Bas...   \nD0072209191037  [S201409 MEN`S POLO SHIRT-BOGO -2 PCS, S201409...   \n\n                           PrepareDate  WeekEndFlag  DayTimeFlag  \nInvoiceno                                                         \nD0071501010177 2015-01-01 09:44:08.857            0            0  \nD0071501010182 2015-01-01 09:56:30.700            0            0  \nD0071501010192 2015-01-01 10:08:11.857            0            0  \nD0071501010248 2015-01-01 11:18:25.920            0            0  \nD0071501010311 2015-01-01 12:07:57.460            0            0  \n...                                ...          ...          ...  \nD0072209191015 2022-09-19 21:14:46.067            0            3  \nD0072209191029 2022-09-19 21:39:07.430            0            3  \nD0072209191033 2022-09-19 21:42:29.560            0            3  \nD0072209191036 2022-09-19 21:49:52.570            0            3  \nD0072209191037 2022-09-19 21:55:02.887            0            3  \n\n[233864 rows x 5 columns]",
      "text/html": "<div>\n<style scoped>\n    .dataframe tbody tr th:only-of-type {\n        vertical-align: middle;\n    }\n\n    .dataframe tbody tr th {\n        vertical-align: top;\n    }\n\n    .dataframe thead th {\n        text-align: right;\n    }\n</style>\n<table border=\"1\" class=\"dataframe\">\n  <thead>\n    <tr style=\"text-align: right;\">\n      <th></th>\n      <th>ProductCode</th>\n      <th>ProductName</th>\n      <th>PrepareDate</th>\n      <th>WeekEndFlag</th>\n      <th>DayTimeFlag</th>\n    </tr>\n    <tr>\n      <th>Invoiceno</th>\n      <th></th>\n      <th></th>\n      <th></th>\n      <th></th>\n      <th></th>\n    </tr>\n  </thead>\n  <tbody>\n    <tr>\n      <th>D0071501010177</th>\n      <td>[2500464, 2805315, 2805913, 2805913, 3100861]</td>\n      <td>[AARONG UHT Full Cream Liquid Milk 500ml, Prot...</td>\n      <td>2015-01-01 09:44:08.857</td>\n      <td>0</td>\n      <td>0</td>\n    </tr>\n    <tr>\n      <th>D0071501010182</th>\n      <td>[2700164, 2700327, 2702241, 2500234]</td>\n      <td>[Radhuni Panch Foran 50 gm, Pran Thai Chilli S...</td>\n      <td>2015-01-01 09:56:30.700</td>\n      <td>0</td>\n      <td>0</td>\n    </tr>\n    <tr>\n      <th>D0071501010192</th>\n      <td>[3901391, 4203132, 4203156, 2802216, 2802216, ...</td>\n      <td>[S201011 Party Spray Cragy Ribbon-PS1/2, S2010...</td>\n      <td>2015-01-01 10:08:11.857</td>\n      <td>0</td>\n      <td>0</td>\n    </tr>\n    <tr>\n      <th>D0071501010248</th>\n      <td>[2805453, 2700122, 2400450, 2805452, 2700154, ...</td>\n      <td>[IFAD Eggy Instant Noodles Chicken 65Gm, Radhu...</td>\n      <td>2015-01-01 11:18:25.920</td>\n      <td>0</td>\n      <td>0</td>\n    </tr>\n    <tr>\n      <th>D0071501010311</th>\n      <td>[2801349, 2801347, 2802229, 2300267]</td>\n      <td>[Golden Harvest Dal Puri 454gm (10 Pcs), GH De...</td>\n      <td>2015-01-01 12:07:57.460</td>\n      <td>0</td>\n      <td>0</td>\n    </tr>\n    <tr>\n      <th>...</th>\n      <td>...</td>\n      <td>...</td>\n      <td>...</td>\n      <td>...</td>\n      <td>...</td>\n    </tr>\n    <tr>\n      <th>D0072209191015</th>\n      <td>[2816455, 2816455, 2815330, 2815330, 2815277, ...</td>\n      <td>[Fresh Healthy Choice Salted Biscuit 100g, Fre...</td>\n      <td>2022-09-19 21:14:46.067</td>\n      <td>0</td>\n      <td>3</td>\n    </tr>\n    <tr>\n      <th>D0072209191029</th>\n      <td>[2603361, 2603361, 2603361, 2900006, 2900006, ...</td>\n      <td>[Wheel Laundry Soap 125g, Wheel Laundry Soap 1...</td>\n      <td>2022-09-19 21:39:07.430</td>\n      <td>0</td>\n      <td>3</td>\n    </tr>\n    <tr>\n      <th>D0072209191033</th>\n      <td>[3017647, 3000680, 3811722, 3000382]</td>\n      <td>[Vaseline Mosquito Defence Original 50ml, Clos...</td>\n      <td>2022-09-19 21:42:29.560</td>\n      <td>0</td>\n      <td>3</td>\n    </tr>\n    <tr>\n      <th>D0072209191036</th>\n      <td>[2702761, 2702450, 2703953, 2702831]</td>\n      <td>[Lens Pure Spice Paprika Powder 30g, Haiko Bas...</td>\n      <td>2022-09-19 21:49:52.570</td>\n      <td>0</td>\n      <td>3</td>\n    </tr>\n    <tr>\n      <th>D0072209191037</th>\n      <td>[3382831, 3382831, 3384516]</td>\n      <td>[S201409 MEN`S POLO SHIRT-BOGO -2 PCS, S201409...</td>\n      <td>2022-09-19 21:55:02.887</td>\n      <td>0</td>\n      <td>3</td>\n    </tr>\n  </tbody>\n</table>\n<p>233864 rows × 5 columns</p>\n</div>"
     },
     "execution_count": 2,
     "metadata": {},
     "output_type": "execute_result"
    }
   ],
   "source": [
    "invoice_data = pd.read_csv('./input/invoice_data_final.csv')\n",
    "\n",
    "baskets = invoice_data.loc[invoice_data.index.repeat(invoice_data['SalesQTY'])].groupby('Invoiceno')['ProductCode'].apply(list)\n",
    "products_in_basket = invoice_data.loc[invoice_data.index.repeat(invoice_data['SalesQTY'])].groupby('Invoiceno')['ProductName'].apply(list)\n",
    "other_elements = invoice_data[['Invoiceno','PrepareDate', 'WeekEndFlag', 'DayTimeFlag']].drop_duplicates().set_index(['Invoiceno'])\n",
    "other_elements['PrepareDate'] = pd.to_datetime(other_elements.PrepareDate)\n",
    "basket_corpus = pd.concat([baskets, products_in_basket, other_elements], axis=1)\n",
    "daytime_dict = {key: i for i, key in enumerate(basket_corpus.DayTimeFlag.unique())}\n",
    "basket_corpus.DayTimeFlag = basket_corpus.DayTimeFlag.map(daytime_dict)\n",
    "basket_corpus"
   ],
   "metadata": {
    "collapsed": false,
    "pycharm": {
     "name": "#%%\n"
    }
   }
  },
  {
   "cell_type": "markdown",
   "source": [
    "## Add festival/Holiday flag"
   ],
   "metadata": {
    "collapsed": false,
    "pycharm": {
     "name": "#%% md\n"
    }
   }
  },
  {
   "cell_type": "code",
   "execution_count": 3,
   "outputs": [
    {
     "name": "stderr",
     "output_type": "stream",
     "text": [
      "/tmp/ipykernel_6244/3142944248.py:3: FutureWarning: Comparison of Timestamp with datetime.date is deprecated in order to match the standard library behavior. In a future version these will be considered non-comparable. Use 'ts == pd.Timestamp(date)' or 'ts.date() == date' instead.\n",
      "  return _date in calendar.festivals\n"
     ]
    }
   ],
   "source": [
    "calendar = ExtractCalendar([2015, 2016, 2017, 2018, 2019, 2021, 2022], 'bangladesh')\n",
    "def is_festival(_date):\n",
    "    return _date in calendar.festivals\n",
    "\n",
    "basket_corpus = pd.concat([basket_corpus, basket_corpus.PrepareDate.rename('FestivalFlag').apply(is_festival).astype(int)], axis=1)"
   ],
   "metadata": {
    "collapsed": false,
    "pycharm": {
     "name": "#%%\n"
    }
   }
  },
  {
   "cell_type": "code",
   "execution_count": 4,
   "outputs": [
    {
     "data": {
      "text/plain": "                                                      ProductCode  \\\nInvoiceno                                                           \nD0071501010177      [2500464, 2805315, 2805913, 2805913, 3100861]   \nD0071501010182               [2700164, 2700327, 2702241, 2500234]   \nD0071501010192  [3901391, 4203132, 4203156, 2802216, 2802216, ...   \nD0071501010248  [2805453, 2700122, 2400450, 2805452, 2700154, ...   \nD0071501010311               [2801349, 2801347, 2802229, 2300267]   \n...                                                           ...   \nD0072209191015  [2816455, 2816455, 2815330, 2815330, 2815277, ...   \nD0072209191029  [2603361, 2603361, 2603361, 2900006, 2900006, ...   \nD0072209191033               [3017647, 3000680, 3811722, 3000382]   \nD0072209191036               [2702761, 2702450, 2703953, 2702831]   \nD0072209191037                        [3382831, 3382831, 3384516]   \n\n                                                      ProductName  \\\nInvoiceno                                                           \nD0071501010177  [AARONG UHT Full Cream Liquid Milk 500ml, Prot...   \nD0071501010182  [Radhuni Panch Foran 50 gm, Pran Thai Chilli S...   \nD0071501010192  [S201011 Party Spray Cragy Ribbon-PS1/2, S2010...   \nD0071501010248  [IFAD Eggy Instant Noodles Chicken 65Gm, Radhu...   \nD0071501010311  [Golden Harvest Dal Puri 454gm (10 Pcs), GH De...   \n...                                                           ...   \nD0072209191015  [Fresh Healthy Choice Salted Biscuit 100g, Fre...   \nD0072209191029  [Wheel Laundry Soap 125g, Wheel Laundry Soap 1...   \nD0072209191033  [Vaseline Mosquito Defence Original 50ml, Clos...   \nD0072209191036  [Lens Pure Spice Paprika Powder 30g, Haiko Bas...   \nD0072209191037  [S201409 MEN`S POLO SHIRT-BOGO -2 PCS, S201409...   \n\n                WeekEndFlag  DayTimeFlag  FestivalFlag  \nInvoiceno                                               \nD0071501010177            0            0             0  \nD0071501010182            0            0             0  \nD0071501010192            0            0             0  \nD0071501010248            0            0             0  \nD0071501010311            0            0             0  \n...                     ...          ...           ...  \nD0072209191015            0            3             0  \nD0072209191029            0            3             0  \nD0072209191033            0            3             0  \nD0072209191036            0            3             0  \nD0072209191037            0            3             0  \n\n[233864 rows x 5 columns]",
      "text/html": "<div>\n<style scoped>\n    .dataframe tbody tr th:only-of-type {\n        vertical-align: middle;\n    }\n\n    .dataframe tbody tr th {\n        vertical-align: top;\n    }\n\n    .dataframe thead th {\n        text-align: right;\n    }\n</style>\n<table border=\"1\" class=\"dataframe\">\n  <thead>\n    <tr style=\"text-align: right;\">\n      <th></th>\n      <th>ProductCode</th>\n      <th>ProductName</th>\n      <th>WeekEndFlag</th>\n      <th>DayTimeFlag</th>\n      <th>FestivalFlag</th>\n    </tr>\n    <tr>\n      <th>Invoiceno</th>\n      <th></th>\n      <th></th>\n      <th></th>\n      <th></th>\n      <th></th>\n    </tr>\n  </thead>\n  <tbody>\n    <tr>\n      <th>D0071501010177</th>\n      <td>[2500464, 2805315, 2805913, 2805913, 3100861]</td>\n      <td>[AARONG UHT Full Cream Liquid Milk 500ml, Prot...</td>\n      <td>0</td>\n      <td>0</td>\n      <td>0</td>\n    </tr>\n    <tr>\n      <th>D0071501010182</th>\n      <td>[2700164, 2700327, 2702241, 2500234]</td>\n      <td>[Radhuni Panch Foran 50 gm, Pran Thai Chilli S...</td>\n      <td>0</td>\n      <td>0</td>\n      <td>0</td>\n    </tr>\n    <tr>\n      <th>D0071501010192</th>\n      <td>[3901391, 4203132, 4203156, 2802216, 2802216, ...</td>\n      <td>[S201011 Party Spray Cragy Ribbon-PS1/2, S2010...</td>\n      <td>0</td>\n      <td>0</td>\n      <td>0</td>\n    </tr>\n    <tr>\n      <th>D0071501010248</th>\n      <td>[2805453, 2700122, 2400450, 2805452, 2700154, ...</td>\n      <td>[IFAD Eggy Instant Noodles Chicken 65Gm, Radhu...</td>\n      <td>0</td>\n      <td>0</td>\n      <td>0</td>\n    </tr>\n    <tr>\n      <th>D0071501010311</th>\n      <td>[2801349, 2801347, 2802229, 2300267]</td>\n      <td>[Golden Harvest Dal Puri 454gm (10 Pcs), GH De...</td>\n      <td>0</td>\n      <td>0</td>\n      <td>0</td>\n    </tr>\n    <tr>\n      <th>...</th>\n      <td>...</td>\n      <td>...</td>\n      <td>...</td>\n      <td>...</td>\n      <td>...</td>\n    </tr>\n    <tr>\n      <th>D0072209191015</th>\n      <td>[2816455, 2816455, 2815330, 2815330, 2815277, ...</td>\n      <td>[Fresh Healthy Choice Salted Biscuit 100g, Fre...</td>\n      <td>0</td>\n      <td>3</td>\n      <td>0</td>\n    </tr>\n    <tr>\n      <th>D0072209191029</th>\n      <td>[2603361, 2603361, 2603361, 2900006, 2900006, ...</td>\n      <td>[Wheel Laundry Soap 125g, Wheel Laundry Soap 1...</td>\n      <td>0</td>\n      <td>3</td>\n      <td>0</td>\n    </tr>\n    <tr>\n      <th>D0072209191033</th>\n      <td>[3017647, 3000680, 3811722, 3000382]</td>\n      <td>[Vaseline Mosquito Defence Original 50ml, Clos...</td>\n      <td>0</td>\n      <td>3</td>\n      <td>0</td>\n    </tr>\n    <tr>\n      <th>D0072209191036</th>\n      <td>[2702761, 2702450, 2703953, 2702831]</td>\n      <td>[Lens Pure Spice Paprika Powder 30g, Haiko Bas...</td>\n      <td>0</td>\n      <td>3</td>\n      <td>0</td>\n    </tr>\n    <tr>\n      <th>D0072209191037</th>\n      <td>[3382831, 3382831, 3384516]</td>\n      <td>[S201409 MEN`S POLO SHIRT-BOGO -2 PCS, S201409...</td>\n      <td>0</td>\n      <td>3</td>\n      <td>0</td>\n    </tr>\n  </tbody>\n</table>\n<p>233864 rows × 5 columns</p>\n</div>"
     },
     "execution_count": 4,
     "metadata": {},
     "output_type": "execute_result"
    }
   ],
   "source": [
    "basket_corpus[['ProductCode', 'ProductName', 'WeekEndFlag', 'DayTimeFlag', 'FestivalFlag']]"
   ],
   "metadata": {
    "collapsed": false,
    "pycharm": {
     "name": "#%%\n"
    }
   }
  },
  {
   "cell_type": "code",
   "execution_count": 270,
   "outputs": [],
   "source": [
    "invoice_data[['SalesQTY']] = invoice_data[['SalesQTY']].astype(int)\n",
    "product_code2name =invoice_data[['ProductCode','ProductName']].drop_duplicates().set_index('ProductCode').to_dict()['ProductName']\n",
    "product_name2code =invoice_data[['ProductCode','ProductName']].drop_duplicates().set_index('ProductName').to_dict()['ProductCode']\n",
    "unique_product_code = [value for key, value in invoice_data[['ProductCode']].drop_duplicates(ignore_index=True).to_dict()['ProductCode'].items()]\n",
    "unique_product_name = [value for key, value in invoice_data[['ProductName']].drop_duplicates(ignore_index=True).to_dict()['ProductName'].items()]"
   ],
   "metadata": {
    "collapsed": false,
    "pycharm": {
     "name": "#%%\n"
    }
   }
  },
  {
   "cell_type": "code",
   "execution_count": 272,
   "outputs": [
    {
     "data": {
      "text/plain": "['AARONG UHT Full Cream Liquid Milk 500ml',\n 'Protiva Chui Pitha 200g',\n 'Satej Coconut Naru 200g',\n 'X-Shonalika Chicken Dressed Large (Pcs)',\n 'Radhuni Panch Foran 50 gm',\n 'Pran Thai Chilli Sauce 340gm',\n 'Pran Soy Sauce 650ml',\n 'No.1Sweetened condensed milk 400 gm',\n 'S201011 Party Spray Cragy Ribbon-PS1/2',\n 'S201011 Love Balloon Thai 20 Pcs BL 1/7',\n 'S201011 Balloon Thai BL 1/2',\n 'MARS Fun Size 18gm',\n 'IFAD Eggy Instant Noodles Chicken 65Gm',\n 'Radhuni Turmeric Regular 50 gm',\n 'Shwapno Sugar (P) 1Kg',\n 'IFAD Eggy Instant Noodles Masala 65Gm',\n 'Radhuni Chilli 100g',\n 'ACI Pure Salt 1kg',\n 'Harpic Power Plus 500 ML',\n 'Ispahani Mirzapore Bestleaf 200g(P.Bag)',\n 'Mama Instant Noodles Chicken Flav. 248g',\n 'Rupchanda Soyabean Oil 2ltr',\n 'Teer Suji 500gm',\n 'Golden Harvest Dal Puri 454gm (10 Pcs)',\n 'GH Deshi Paratha 20pcs 1300g',\n 'Ruchi Barbecue Chanachur 170 gm',\n 'Mac Coffee Mix 3B1 Original 20g 25pcs',\n 'Shan Karachi Beef Biryani Mix 60g',\n 'Cerelac3 Fruits, Wheat & Milk 400 gm BIB',\n 'Lactogen 2 BIB 350gm',\n 'Teer Soyabean Oil 1ltr',\n 'Dano Power F.C.Milk Powder 400g(BIB)',\n 'Radhuni Haleem Mix 200 gm',\n 'X-Shwapno Brown Egg (4 Pcs) (B)',\n 'Nestle Koko Krunch Chocolate Flv. 170g',\n 'Maggi Healthy Soup Thai 35 gm',\n 'Radhuni Chilli 200g',\n 'Fay Facial Tissue 160±20x2 Sheet',\n 'Maggi 2MN masala ndls 248gm (FamilyPack)',\n 'Fresh Refined Sugar 1Kg',\n 'Rupchanda Chinigura Rice 1 kg',\n 'My Hot & Sour 22g',\n 'Lavender Bread 300 gm',\n 'B.dhara Paper Napkin 13\"x1ply 100pcs (W)',\n 'X-S200517 Borkha Pin-C-1211',\n 'Vaseline Hair Tonic & Scalp Cond. 300ml',\n 'S201366 Usha Chaina Nighty',\n 'Tic Tac Strawberry Fields 12.6g',\n 'S201282\\xa0 Boys T-Shirt F/S Multi',\n 'B.dhara Classic P Napkin 15X15X80Pcs',\n 'Gatsby Hair Gel Soft White 150gm',\n 'Radhuni Coriander 1000 gm',\n 'Aarong Mushur Dal 1kg',\n 'Teer Soyabean Oil 5ltr',\n 'Wheel Laundry Soap 130g',\n 'Shwapno Super Miniket Family Pack 19.5Kg',\n 'B.dhara Toilet Tissue (Pink)',\n 'Wheel Lemon Power Detergent Powder 500g',\n 'Vim Dish Wash Bar 325±25g',\n 'Imperial Leather Soap 200gm',\n 'Fay Facial Tissue 2 Plyx100pcs',\n 'Teer Mustard Oil 1ltr',\n 'Rupchanda Soyabean Oil 5ltr',\n 'Shwapno Darchini(Cinamon)100gm',\n 'BTM Cake Decoration 10g',\n 'AP Honey 500 gm',\n 'Nutkao Duo With Cocoa and Hazelnuts 200g',\n 'Milk vita Butter 100gm',\n 'Nestle Cream Original 160g',\n 'Aarong white Curd 500 ml',\n 'Indian Spinach (Palong Shak) PCS',\n 'Cabbage/Badhacoy (Kolatia) Pcs',\n 'PROTIVA Darchini (Cinnamon) 50gm',\n 'Fulcopy (P) Pcs',\n 'X-Red Amaranth (Lal Shak) PCS',\n 'Radhuni Turmeric Regular 200 gm',\n 'Radhuni Coriander 200 gm',\n 'Shwapno Kismis(Raisins)200gm',\n 'PROTIVA Kismis (Died Grapes) 200Gm',\n 'Complan Royal Chocolate 500g Jar',\n 'Shwapno Pesta Badam(Pestacio)50gm',\n 'Aarong Butter 200gm',\n 'Savlon Liquid Antiseptic 1000ml',\n 'J.M Special Badam Bhaja 200gm',\n 'Colgate Max Fresh Red Gel T.Paste 150g',\n 'Womens Plus Horlicks 400g Jar(Local)',\n 'Savlon Ocean Blue Handwash 500ml',\n 'Green Banana (Kacha Kola) PCS',\n 'Lavender Sandwich Bread 850 gm',\n 'Kobutorer Mangsho Regular (Pcs)',\n 'Rupchanda Mustard Oil 200 ml Pet btl',\n 'Ispahani Mirzapore Tea Bag 100g',\n 'B.dhara Kitchen Towel Double Pack White',\n 'Richi Prawn Samucha 10 pcs',\n 'Fanta 1250 ml',\n 'Sundrop Mango Fruit Drink Juice 250ml',\n 'Richi Chicken Spring Roll 10 pcs',\n 'B.dhara Kitchen Towel Single Pack White',\n 'Nestle Gold Corn Flakes 275g BIB',\n 'Cowhead Pure Milk 1Ltr.',\n 'Banana(Shagor)Yellow',\n 'Horlicks 200gm Jar',\n 'Aarong Liquid Milk 1000 ml',\n 'Lavender Bread 400 gm',\n 'GoldMark Fruit Papaya Biscuits 80g',\n 'BD FOOD  FRIED DAL 25(+/-5)gm',\n 'ProDental B Vision Toothbrush 1 pcs',\n 'Cocola Milk Banana Wafer Biscuit 18g',\n 'Haiko Cocoa Powder 100g',\n 'Tic Tac Mintensity 13.1g',\n 'Kiddo custurd (Butter)25 gm',\n 'Danish Doreo Blackchoc Sandwich 140g',\n 'Sun Chips Tomato Tango 80 gm',\n 'Sun Chips Wasabi 80 gm',\n 'Pringles Original 40(±3)gm',\n 'Bisk Club Potato Biscuit 160g',\n 'Shwapno Premium Boot Dal (Broken) 1kg',\n 'Fresh Atta 2Kg',\n 'Gillette Foam 418gm Regular',\n 'Pran Tomato Ketchup 1000 gm',\n 'Pran White Vinegar- 650 ml',\n 'Radhuni Kasondi 265±20 ml',\n 'S200798 Gents Woolen Cap-250',\n 'Shwapno Premium Nazirshail Rice 19.5Kg',\n 'Nestle Kit Kat Chocolate 18g',\n 'Golden Harvest SB Beef Samosa 500gm',\n 'Protiva Cinnamon (Darchini) 100g',\n 'Brooke Bond Taaza\\xa0Danedar Tea 400g',\n 'Radhuni Mustard Oil 500ml',\n 'Odonil Mystic Rose Air Freshner50g(Hang)',\n 'Lord Tooth Brush Crystal-Z21 ',\n 'Golden Harvest Rice flour Roti 600g',\n 'Golden Harvest SB Chicken Samosa 500gm',\n 'Golden Harvest SB Mutton Samosa 500gm',\n 'Meril Chap Stick Lemon 4.8g',\n 'Brac Chicken Sausage 300gm',\n 'Golden Harvest Chicken Burger Patty200gm',\n 'Aftab Chicken Nuggets 250g',\n 'Nestle Milkybar Chocolate 17g',\n 'Nestle Munch Rollz 12g',\n 'Brac Chicken Kebab 500gm',\n 'Brac Chicken BAR B-Q 500g',\n 'PROTIVA Jeera Black (Cumin) 100Gm',\n 'Herman White Oats Tin 500g',\n 'Thai Choice Crispy N.Chicken Flv.55g',\n 'Olympic Festi Coffee Biscuit 250g',\n 'Clear A-D C.A.C Shampoo 375±25ml',\n 'Protiva Fennel Seed (Misti Jeera) 50g',\n 'Golden Harvest Mini Singara 600g (40pcs)',\n 'GOLDEN HARVEST Daal Paratha 300gm (3Pcs)',\n 'GOLDEN HARVEST Aloo Paratha 250gm (2Pcs)',\n 'Bellycious Special Paratha 5 Pcs',\n 'Dettol Skin Care Hand Wash Pump 225ml',\n 'Bisk Club Fit Masala Flv.70g',\n 'Ruchi BBQ Chanachur 350±50g',\n 'Well Food Mint leaf toast Biscuits 250gm',\n 'S201047 Glass Coster (6 pcs)',\n 'S201047 13.5\" Fish Plate',\n 'Danish FnF Crackers 130g',\n 'Danish Mango Juice 250ml Tetra Pack',\n 'Harvest Rich Chicken Sausage 250g',\n 'IFAD Mixed Fruit Cream Biscuit 90Gm',\n 'Pozzy Baby Wet Towel Wipes 72Pcs',\n 'Rani Chili 200 gm',\n 'Well`s Castor Oil 70ml B.P.',\n 'X-S200517 Punech Clip C-0321',\n 'Veola Soyabean Oil 2Ltr.',\n 'Maggi 2MN Masala Noodles 496 gm',\n 'Tibet Ball Soap 125±5g',\n 'X-S200517 Punch Clip M Thai-242',\n 'Bombay Chanchur 350±50g',\n 'Tigerich Breakfast Cereal 330 gm',\n 'Sunlite Heavy Duty UM4 AAA 2pack',\n 'S200381 P.Khata Math Plain-55(M)120 Page',\n 'Cadbury Dairy Milk Silk Fruit&Nut 145±8g',\n 'S200381 P.Khata Bangla-55(S)120 Page',\n 'S200381 P.Khata English-55(M)160 Page',\n 'S201362 Character eraser',\n 'S200381 P. Khata Math Plain-55(S)120Page',\n 'Ispahani Premium Toast Biscuit 275g',\n 'BD Food Toast Biscuits 300±50g',\n 'Elit Gourmet Col. Ass. Choco. Pink 170g',\n 'Dove Hair Therapy H.F.R Shampoo 700ml',\n 'Ruchi Chananchur Hot 170 gm',\n 'BRAC Chicken Mini Nuggets 250gm',\n 'Gandour Safari Chocolate (15±3)g',\n 'Huggies Diaper Dry L-8Pcs-8-14kg',\n 'Bounty Double 57gm',\n 'ELIT Dark Bitter Chocolate 40±4gm',\n 'S201011 Wrapping Paper-Normal',\n 'S200712 HEIGAR BLENDER HGB-689',\n 'Parle Hide&Seek Chocolate Chip Coki 120g',\n 'Dano Power Full Cream Milk Powder 200g',\n 'Sunfeast D.C Strawberry &Vanilla 150±30g',\n 'Protiva Jhal Badam Vaza 100g',\n 'Lavender Dry Cake 400 gm',\n 'Huggies W. Pant L-5Pcs-9-14kg',\n 'Lactogen 3 BIB 350gm',\n 'Surf Excel 500g (New)',\n 'Bisk Club Stick Biscuit 60g',\n 'Pran Mango Fruit Drink Tetra 250ml',\n 'J.M Special Dal(Mug) Bhaja 200gm',\n 'Pran Peanut Bar 24g',\n 'Freedom Super Dry Regular F.Wings 10Pads',\n 'Gold Mark Borfi Biscuits Jar 650g',\n 'Krack Heel Repair Cream 25 gm',\n 'Creation Lamis Men B.S Cuban Glory 200ml',\n 'Pepsodent Expert Pro. Relief&Repair 150g',\n 'Gold Mark Original F.Cookie Biscuit 115g',\n 'ProDental B Luxury Toothbrush 1 pcs',\n 'DENIM BODY SPRAY 150ML MUSK',\n 'J.M Special Dal(Ankar) Bhaja 200gm',\n 'Multi Ovaltine 300gm',\n 'S201362 Pocha',\n 'Meril Petrolium jelly 50 ml',\n 'Win2 Strawberry Magic Crunch 70g',\n 'X-S201017 Baby Socks 1-9 month',\n 'S201143 CAP BABY SINGLE',\n 'Haque Lemon Puff Biscuit 150g',\n 'Vaseline Original Petrolium Jelly 60ml',\n 'Mamee Express Cup Vegetarian Flavour 60g',\n 'Koka Curry Flavour Noodles 70g (Cup)',\n 'Thai Choice Nistant Shrimp Noodles 60g',\n 'Chui Hiang Mixed Nuts 150g',\n 'Remia Garlic Salad Dressing 250ml',\n 'Khong Guan Marie Biscuits 400g',\n 'Thai Choice Nistant Tom Yum Noodles 60g',\n 'Super Napthalene\\xa0(30Pcs+Pack)',\n 'Munchys Captain Munch O.Chocolate 180g',\n 'Mamee Express Cup Curry Flavour 60g',\n 'Pur Baby Feeding Bottle 50(±10)ml',\n 'X-Knorr Chicken Ginger Soup 21g (B)',\n 'Maggi Healthy Soup Vegetable 25 gm',\n 'PROTIVA Jeera (Cumin) 200Gm',\n 'Diploma I.F.C.M.P 500g (Foil Pack)',\n 'Aftab Chicken Burger Pattie 500 gm',\n 'Lifebuoy Total10 H.Wash 180±10ml(Refill)',\n 'S201047 Tea Strainer Mid R.R',\n 'PROTIVA Testing Salt 50gm',\n 'SHWAPNO Labongo (Cloves) 25Gm',\n 'Teer Atta 2Kg',\n 'ACI Nutrilife Rice Bran Oil 5Ltr. (HDPE)',\n 'Shwapno Deshi Red Lentil 1Kg',\n 'Protiva Cardamom (Elach) 50g',\n 'Rin Power White Detergent Powder 450±50g',\n 'Pran Hot Tomato Sauce Pet 1kg',\n 'S201047 7\" Round Bati',\n 'A-1 Cotton Buds',\n 'Harvest Rich Aloo Puri(10pcs)400gm',\n 'S201047 8.5\" Round Bati',\n 'Himalaya Oil Clear Lemon Face Wash 50ml',\n 'Satej Murali 200g',\n 'S201047 8² star half plate',\n 'Ifad Orange Biscuits 160±10g',\n 'Bajaj Almond Drops Hair Oil 100ml',\n 'Amul Pasteurised Butter 10g X 10Pcs',\n 'Pran Mama Milk Wafer 18 gm',\n 'Cadbury Dairy Milk Chocolate 34g',\n 'Spa Drinking Water 500ml',\n 'Schweppes Tonic Water Can 325(±5)ml',\n 'Coca Cola 250 ml can',\n 'Schweppes Dry Ginger Ale Can 330±10ml',\n 'Sprite Sparkl Lem Lime Can 330±10ml(Imp)',\n 'Maggi Healthy Soup Corn w/chicken 25gm',\n 'MAGGI 2 Minute Noodles Masala 744gm',\n 'PRAN Mr. Noodles Easy Magic Masala 496gm',\n 'Lux Soap Rose & Vitamin E 100g',\n 'Lux Jasmin&Vitamin-E Soap 100g',\n 'S201047 Vacum flasks 308',\n 'Chaka Ball Soap 125±5g',\n 'Haque Chocolate Digestive Biscuits 145g',\n 'S201047 Shoe Brush',\n 'Glaxose-D Glucose 400g (BIB)',\n 'Cadbary Oreo Original 150g',\n 'ROK Floor Cleaner 1.5 Ltr (Pine)',\n 'X-DOVE DamageThrpyH.F.Res Sha375ml (B)',\n 'Aarong Low Fat Milk (500 ml)',\n 'S200461 BengalStainer-Racktangular2 part',\n 'Gala Scrubs 1Pcs',\n 'Ploy & Pailin Mini Cotton Bud 100 Pcs',\n 'Hit Anti Roach Gel 20g',\n 'kazi&kazi looseGreentea-orthodox  100 gm',\n 'Cute Refined Petrolium Jelly 110 gm',\n 'Nescafe Gold Original 100g',\n 'Milk Vita Liquid Milk 500 Ml',\n 'Cadbury Temptations Almond treat 72g',\n 'MORTEIN PowerGard Mosquito&F.Killer450ml',\n 'Neem Natural Skin Care Soap 90g',\n 'Mars 300g (6 PcsX45g)',\n 'Mr. Chicken & Mushroom Soup Low Fat 22g',\n 'S201047 Gas Lighter',\n 'S201047 Fedder Brush',\n 'Clear Men Shampoo HFD 350ml (Local)',\n 'S201047 Freshness bag (120 pcs)',\n 'Igloo Milk Chocolate 16g',\n 'S201047 Meat Hammer 0543',\n 'S201047 Kitchen scissor',\n 'Trix Liquid - 500 ml Lemon',\n 'Ultra Compact T.P. Wet W.Aloevera 20pcs',\n 'Nescafe Classic Coffee 100g (Glass botl)',\n 'Huggies W. Pant L-20Pcs-9-14kg',\n 'S200988 Bath Mat-3 60cm*90cm Brown',\n 'Lifebuoy Mild Care Hand Wash 200ml(Pump)',\n 'S201047 Net Scourer',\n 'DENIM AFTER SHAVE 100 ML ORIGINAL',\n 'Farm Egg Brown 6Pcs Box',\n 'Wheel Lemon Power Detergent Powder 1 kg',\n 'Schick Exacta 2Pouch(2+1 Free)',\n 'Nestle Munch Rollz 6g',\n 'SCHICK EXACTA 2 RAZOR ',\n 'Fu-Wang Noodles Premium Pack 520 gm',\n 'Cerelac Wheat Honey 400 gm BIB',\n 'B.dhara Toilet Tissue (White)',\n 'Golden Harvest Aloo Puri 454gm (10 Pcs)',\n 'Golden Harvest French Fries 1 Kg',\n 'X-Set Wet Body Spray Cool 150ml (B)',\n 'Golden HarvestCrinkleCutFrenchFries1000g',\n 'PRAN Choco Bean 40Gm (Tube)',\n 'Golden Harvest SB Mutton Samosa 250gm',\n 'Ovaltine Malted Chocolate Drink 400g',\n 'Set Wet Body Spray Sexy 150ml',\n 'Golden Harvest SB Beef Samosa 250gm',\n 'GOLDEN HARVEST Chicken Nugget 300g',\n 'Milk Vita Liquid Milk 1000 Ml',\n 'Lavender Fruit Cake 450 gm',\n 'Harpic Power Plus 750 ML',\n 'Britannia Bourbon Original 169±19g',\n 'Snickers Minis 227g',\n 'Fresh&More Glass Cleaner 500ml',\n 'Vim Dish Wash Liquid 500ml (Bottle)',\n 'Bombay Chanchur 150g',\n 'Parachute Coconut Oil 500+/-25ml',\n 'Cadbury Dairy Milk Silk Fruit&Nut 60 ±5g',\n 'X-Rich Mini Vegetable Samosa 400g(B)',\n 'Nivea Intensive Mois.Body Milk 400ml',\n 'WELL FOOD MF OVALTINE BISCUIT 270g',\n 'Purnava Omega 3 enriched Egg(12pcs pack)',\n 'Gold Mark Toastee R.Butter Biscuit 200g',\n 'Shwapno Red Lentil (Kangaroo)1Kg',\n 'Marks Young Star F.C Milk Powder 400g',\n 'Tiffany Crunch Strawberry CreamWafer 76g',\n 'Ispahani Premium SweetToast Biscuit 250g',\n 'Dettol Liquid H.W Poly Pack Orig. 170ml',\n 'Swarna Rice Bran Oil 1 Ltr.',\n 'Vim Dish Wash Liquid 250ml (Pouch)',\n 'A.A Eye Pencil 1gm # 369(Blk)',\n 'Jackelin Liquid Eye Liner All Color 4ml',\n 'Flormar Nail Polish All Flav.',\n 'Farmasi Nail Enamel All 12ml',\n 'Flormar Nails Neon Nail Enamel',\n 'Best Tomato Ketchup 330 gm',\n 'WHISPER ULTRA CLEAN 8pad WINGS ',\n 'Mr. Brasso GC - 350 ml Refill',\n 'Radhuni Coriander 100 gm',\n 'Radhuni Mustard Oil 250 ml',\n 'white plus toothpaste 100gm',\n 'ACI Pure Atta(Laminated Pack)2 kg',\n 'Vim Dish Wash Bar 125g',\n 'Olympic Nutty Peanut Biscuits 50±5g',\n 'Cerelac Wheat & Milk 400 gm BIB',\n 'Coca Cola 2.25 Ltr. pet',\n 'Umami Tomato Ketchup 300 ml',\n 'Haiko Soy Sauce (bottle) 250 ml',\n 'Golden Harvest Chicken Sausage 300(±40)g',\n 'Shakti Mango Doi 80gm',\n 'Pran Junior Mango Drink 125ml',\n 'Golden Harvest French Fries 500gm',\n 'Pran Lassi 170ml',\n 'Farmasi Perfum Deo Seducci (W)150ml',\n 'CAMEL Roasted Salted PEANUTS  40gm',\n 'Savlon Fresh Antiseptic Soap 100g',\n 'Shakti Plain Doi 80gm',\n 'Keya Ball Soap Single 130g',\n 'Tibet Laundry Soap (Blue)130±5g',\n 'Ponds Pure Detox Facial Foam 100ml',\n 'Haque Sooper Creamy Choc Biscuit 105gm',\n 'Brooke Bond Taaza Danedar Tea 200g',\n 'X-Pepsodent Expert Protection 80g(B)',\n 'Haque New Ceram Crackers 125g',\n 'Pran Pineapple Cream Biscuit 100gm',\n 'Ifad Cheesy Bites Crackers 50g',\n 'Bisk Club(Pran) Fit Crackers MFB 130±5g',\n 'DENIM SHAVING GEL ORIGINAL 200 ML',\n 'Cerelac Wheat Apple Cornflakes 400gmBIB',\n 'Himalaya Diaper Rash Cream 20g',\n 'Juju Cotton Buds 100 Pcs JD014 (ND)',\n 'Pozzy Baby Wet Towel Wipes 90Pcs',\n 'Creation Lamis Men B.S Catsuit 200ml',\n 'Creation Lamis Men B.S Opulence 200ml',\n 'Teer Sugar 1Kg',\n 'Igloo Pasteurized Milk 1000ml',\n 'Ahmed White Vinegar 330±5ml',\n 'Kiswan Vermicelli 200 gm',\n 'BiskClub Europa Sandw Biscuit Orange 80g',\n 'Heinz Chili Sauce 310g',\n 'ROMANIA Elachi Cream Biscuit 200(±5)Gm',\n 'Fresh Coriander Powder 200gm',\n 'Dove Intensive Cream N.Care 75ml (IMP)',\n 'Danish Toast Biscuits 250g',\n 'BiskClub Europa Sandw Biscuit Straw. 80g',\n 'Pantene Anti Dandruff Shampoo 340ml',\n 'Shwapno Moog Dal 1Kg',\n 'Meril Nail Polish Remover 40ml',\n 'Harpic Total Power - 400 gm',\n 'Haiko Kheer Mix 160gm',\n 'Seylon Family Blend Tea 400g',\n 'Kolson Lachha Shemai 200 gm',\n 'INT. CAMAY 125GM CLASSIC',\n 'Colgate Visible White Mint T.Paste 100g',\n 'S200801 Donlim Electric Kettle-DKE 7511',\n 'S201384 AlloyBuilding Block -M- 6+592-2D',\n 'S201011 Wrapping Paper-Premium',\n 'Stop Not Tamato Tufan Chips 18g',\n 'Pringles Jalapeno Chips 158g US',\n 'Kazi & Kazi Green Tea Bag 60 gm',\n 'FUN Potato Crackers Spicy Tomato 20g',\n 'Danish FnF Crackers 65g',\n 'Sajeeb Bar-B-Q Noodles 170±10g',\n 'Mama Instant Noodles Shrimp Flav. 248g',\n 'Golden Harvest SB Chicken Samosa 250gm',\n 'White Tone Face Powder 30g',\n 'Golden Harvest Deshi Parata Regular Pack',\n 'Radhuni Meat Curry Masala 20gm',\n 'X-Rani Mejbani Beef Masala 50 gm (B)',\n 'Gillette Blue3 Disposable Razors-2',\n 'Red Bull Energy Drinks 250ml',\n 'Masafi Mango Juice 1 Ltr',\n 'Pran Hot Chanachur 150 gm',\n 'Richi Vegetable Roll 10 pcs',\n 'Teer Soyabean Oil 2ltr',\n '7 up 1000ml (Plastic Bot)',\n 'Mithai Soan Papri 250g',\n 'Richi Beef Kabab 12 pcs',\n 'Vaseline Intensive C.Deep Restore 300ml',\n 'INT. CAMAY 125GM NATUREL',\n 'Golden Harvest Chilli Sauce 340g',\n 'Lowan Tropical Fruit Muesli 750g',\n 'Cute Petrolium Jelly 45 gm',\n 'Pran Kofi House Instant Coffee 3in1 14g',\n 'Golden Harvest Garlic Chilli Sauce 340g',\n 'Radhuni Jorda Mix 400g',\n 'Crispy Chocolatey Rice Cereal 66g',\n 'Fresh Mozarella Cheese 250gm',\n 'Haiko Icing Sugar (Packet) 250 gm',\n 'Heinz Distilled White Vinegar 473ml(US)',\n 'BTM Sweet Candy Cake Decoration 30g',\n 'Protiva White Pepper (Golmorich) 50gm',\n 'SHWAPNO Golmorich (Peper) Black 25Gm',\n 'Foster Clark Soda 150gm (Can)',\n 'Ifad Choco Chips Biscuit 250g',\n 'Nutri Rich Diabetic Biscuits 210g',\n 'Cottee`s Inst Pudding Chocolate Flv 100g',\n 'Foster Clark Gelatin Dessert Lemon 85gm',\n 'HP Sauce Original 255g(UK)',\n 'Gillette Series Cool Cleansing Gel 195Gm',\n 'Fair & Lovely Winter Fairness 50g',\n 'Nivea Men After Shave Fluid 100ml',\n 'H.&S.Anti-Dandruff Shampoo 700ml+200ml',\n 'Roast Chicken',\n 'H&S Smooth&Silky Shampoo 350+/-20ml',\n 'Dove Beauty Cream Bar 100g Pink (IMP)',\n 'MARKS FULL CREAM MILK POWDER 500gm',\n 'WHISPER ULTRA CLEAN 15pad WINGS ',\n 'Trix Liquid - 250 ml Mint',\n 'Veola Soyabean Oil 1Ltr.',\n 'Radhuni Coriander 50 gm',\n 'Radhuni Garam Masala 15 gm',\n 'Gamebit body spray 200ml',\n 'Olay Total Effects Cleanser 100g',\n 'Yong Chin Dark Spot FaceScrub Papaya175m',\n 'Aarong Powder Milk 500gm',\n 'OLAY Natural White Foaming Cleanser 50gm',\n 'Golden H. Chicken Spring Roll 300g 15pcs',\n 'S200736 Belt (911-55)',\n 'H&S.Clean Balance Shampoo 180±10ml',\n 'Herbal Essences Hello Hyd. Shampoo 400ml',\n 'Vaseline Healthy White Lotion 100ml',\n 'Lavender Pizza Base 150 gm',\n 'Golden Harvest Mini Singara 300g (20pcs)',\n 'Vaseline Intensive Care P.Pet. Jelly 9ml',\n 'Horlicks Chocolate Flavour 200g (BIB)',\n 'Aarong Butter 100gm',\n 'CP Chicken HOT Sausage 400 gm',\n 'Nescafe 3 in 1 Coffee Mix 14gm',\n 'Shape Up Non Fat Milk Powder 400g',\n 'HAQUE Chocolate Finger 54gm',\n 'Tang Powder Drink Orange 125g (Foil Pkt)',\n 'QUAKER WHITE OATS 500 gm',\n 'Savlon Active Handwash 200ml (Refill)',\n 'MARS Single 51g',\n 'Romania Lite Milk Crackers 70g',\n 'Danish Lexus Vegetable Cracker 65g',\n 'Tong Garden Salted Cashew Nuts 40Gm',\n 'Pran Chinigura Rice 1Kg',\n 'Amul Fruit n Nut Chocolate 40g',\n 'Sun Chips Garlic & Chilli 80 gm',\n 'X-S201266 Thai Ring Chicken Bra - A-1-38',\n 'Jackelin Lip Liner All Color',\n 'X-S201098 Love Panty- Free Size',\n 'Bonjour Forest Fruits Jam 290g',\n 'Nutella Ferrero Hazelnut Spread 180g PL',\n 'Pran Hot Tomato Sauce 340 gm',\n 'Johnson Milk+Rice Baby Bath 200ml MY',\n 'Cadbury Caramel Bar 49±4g(uk)',\n 'IFAD Jeera Biscuit 60Gm',\n 'IFAD Choco Delight Biscuit 60Gm',\n 'Kishwan Luxury Cookies 50gm',\n 'Ifad Choco Cream Biscuit 80g',\n 'J.M.Special Murir Mua 12pcs',\n 'S201047 Glass Lid',\n 'Farm Fresh UHT Milk 500ml',\n 'IFAD Butter Delight Biscuit 60Gm',\n 'X-S201343 L.Gold.Black SleperWEVG201003-41',\n 'Cadbury Dairy Milk Silk RoastAlmond60±2g',\n 'S201362 Little Doll Key Ring',\n 'Chemtrek Turbo Kitchen Cleaner 500ml',\n 'X-Robin Liquid Blue - 50 ml(B)',\n 'Kimball Thai Chili Sauce 355g',\n 'C.H. Bean Curds (Topu) Tray 180g',\n 'Chasi Chinigura Rice 1kg',\n 'Aarong Ghee 200 gm',\n 'Aci Pure Garammasala 15 gm',\n 'S201011 Round Balloon Small 10PcsBL1/15',\n 'S201143 COLOURFUL HOODY 2 Y/12Y',\n 'S201143 T-Shirt Girls-2',\n 'X-S201307 Girls White&Black Frock F/S-6Yr',\n 'S201307 Kids Set-5yr',\n 'X-S201143 Kids Multi Hoody 5-6Y',\n 'LUX White Impress Body Wash 220ml',\n 'Vaseline Pure Pet.Jelly Original 50ml',\n 'Equal Intense Body Spray Men 150ml',\n 'Boro Plus A.P Daily Face Wash 50ml',\n 'Dulgon 3 in 1 Soft Cream 200ml',\n 'Layer Shot Power Play Body Spray 135ml',\n 'Palmolive Shower Gel ABSOLUTE RELAX250ml',\n 'Ever youth walnut facewash scrub100gm',\n 'Boroline Antiseptic Ayurvedic Cream 20g',\n 'She Miss Body Mist Strawberry 150ml',\n 'Vaseline Aloe Fresh Hydrting Lotion250ml',\n 'Pran Special Toast 300g',\n 'Lavender Brown Bread 450 gm',\n 'Banana(Shobri)Yellow',\n 'GoldMark Cho.Chips Cookies Biscuit 140g',\n 'Anchor Fortified IFCM Powder 500gm',\n 'Romania Lexus Vegetable Crackers 200g',\n 'Gillette Foam Lemon 196±04g',\n 'Lavender Multigrain Bread 500gm',\n 'Domee Mushroom Choice Whole 425g',\n 'Nyle Naturals Dryness Shampoo 400ml',\n 'S201392 Glass(S)80 MI',\n 'Shahi Rainbo Mouth Freshener 25 Pkt',\n 'Sunsilk Perfect Straight N.Con.160m(IMP)',\n 'Aftab Crispy Chicken Drumstick 500 gm',\n 'Pepsi 500ml (Pet)',\n 'Munchys Lexus Vege. Biscuit 200g (Box)',\n 'C&C FOAMING FACIAL WASH 50ml',\n 'ACI Pure Brown Atta 1 Kg',\n 'Shaad Fine Maida 2kg',\n 'Knorr  Chicken Mushroom Soup 22g',\n 'Hibiscus Mushrooms (Whole) 425g Can',\n 'Knorr Chicken Stock 20g',\n 'Diploma -I FCMP 1 kg Foil Pack',\n 'Huggies Wonder Pants 7-12Kg (M 5)',\n 'Rok FC.JS(By1.5L.Gt 500ml Rok Sol Free)',\n 'X-S200517 Safety Pin C-0333',\n 'Teer Soyabean Oil 8ltr',\n 'Rok Floor Cleaner 900ml(Rojanigandha)',\n 'Pran Full Cream Milk Powder 500 gm',\n 'Choco Chip Cookies 104g',\n 'Orbit Sugar Free Chewing Gum 6.6gm',\n 'ACT II Butter Flv Popcorn 33g',\n 'Skittles Fruits Chocolates 55g',\n 'Rupchanda Soyabean Oil 1 ltr (Pouch)',\n 'Satej Nimki 200g',\n 'S201047 SS flaks 500 ML',\n 'ROMANIA Star Park 195(±5)Gm',\n 'Fay Toilet Paper',\n 'S201047 Round Bati ( Tia) Mid',\n 'Sun Chips Salt & Pepper 22 gm',\n 'Dove Beauty Cream Bar 135g White (IMP)',\n 'Dettol Soap Skin Care 125gm',\n 'Dove H.F.R Condition 180±5ml',\n 'Tong Garden Salted Almonds 40±5g',\n 'Ifad Wavy Chips Bar-B-Q 30g',\n 'Purnava Low GI Rice 5 Kg',\n 'Harpic Flushmatic - 50 gm',\n 'B.dhara Toilet Tissue (Gold)',\n 'Mr. Muscle F. Cleaner Floral 1000±50ml',\n 'WELL FOOD Ovaltine Cookies 300Gm',\n 'Danish Dry Cake Biscuits(300±50g)',\n 'K.Rogers Raspberry A.C.B.Cookies 150g',\n 'X-Knorr Classic Thai Soup 4pcs With Bowl',\n 'My Chiken & Corn Soup 22g',\n 'KENT Boringer Chicken Noodle Soup 66g',\n 'Sunsilk Shine & Strenght Shampoo 700ml',\n 'Ultra Compact Make-Up C.W. S.&Care 20pcs',\n 'Safe Baby Wet Wipes Jar 80Pcs',\n 'X-S201329 Men sShirtF/SNavyGraySmlChek15.5',\n 'S201047 Curry spoon',\n 'ACI Aerosol Insect Spray 800ml',\n 'C&C Foaming Facial Wash 100 ml',\n 'Jet Detergent Powder 400gm',\n 'Pepsodent Germi Check Plus 100g',\n 'Parachute Coconut Oil 190+/-10ml',\n 'Ruchi Chananchur Hot 350±50g',\n 'She Pretty Shower Gel 400ml',\n 'Banoful Super Special Toast 350g',\n 'Johnsons Baby Cream Jar 100g',\n 'Lifebuoy Total 10 Hand Wash 200ml (Pump)',\n 'ORAL-B Crisscross\\xa0Medium',\n 'Savlon Liquid Antiseptic 56ml',\n 'Whisper Maxi Fit Wings 15Pads',\n 'X-S201329 Men s Shirt F/SWhitBlakCheck15.5',\n 'S201047 Round Bati ( Tia) Big',\n 'S201047 Crystal mug Lid',\n 'S201254 9\" Soup Plate',\n 'Teer Maida 2Kg',\n 'Kishwan Horlicks Biscuit 300g',\n 'Olympic Crack Jack 70 gm',\n 'Haque Digestive Biscuits 120g',\n 'Dates (Khejur) Tunisian 500 gm',\n 'X-Banana (Chini Champa Small)\\xa0 PCS',\n 'X-S201094 Karishma IND Lady Shwal',\n 'X-S201094 ARI Pashmia Lady Shwal',\n 'Massalama Bed Cleaner',\n 'Pran Mango Fruit Drink 1 Litre',\n 'Vim Dish Wash Powder 500g',\n 'Sunsilk Stunning Black Shine Shampo350ml',\n 'Denim Soap Musk 125g',\n 'Himalaya Purifying Neem Face Wash 100ml',\n 'Garnier Men Power White Face Wash 50g',\n 'Clear C.S Menthol A.D Shampoo Men 180ml',\n 'S200988 T.Towel Design(Hand)Gray',\n 'Harpic Power Plus Toilet Cleaner 1Litre',\n 'Radhuni Cumin 200 gm',\n 'IKO High Fibre Daily 700g (Tin)',\n 'K.Rogers Choco Hazel Nut C.B.Cookies 150',\n 'J.M.Special Chirar Mua 20pcs',\n 'Modhumita Dry Cake 400gm',\n 'Satej Chira Vaza 300g (Box)',\n 'Lavender Banana Biscuit 200 gm',\n 'Maltova Yummy C.Caramel Drink 400g (BIB)',\n 'Horlicks Original Jafran Badam 400g Jar',\n 'Pran Moshur Dal 1Kg',\n 'Jovan Sex Appeal Deo Spray for Men 150ml',\n 'Swarna Rice Bran Oil 5 Ltr(HDPE)',\n 'Protiva Died Grapes (Kismis) 100g',\n 'PROTIVA Jeera Black (Cumin) 50Gm',\n 'Shwapno Chinigura Rice 1Kg',\n 'SHWAPNO Darchini 50gm',\n 'Xtra Power WhiteDetergent Powder 450±50g',\n 'PROTIVA Labongo (Clove) 50Gm',\n 'Caring Spray Net Hair Spray Blue 220ml',\n 'Cocola Egg Noodles 180g',\n 'Colgate Strong Teeth Toothpaste 100gm',\n 'Kolson Egg Noodles 170±10g',\n 'Parachute Shubidha Pack CoconutOil 150ml',\n 'Nido Fortigrow FCMP Tin 2.5kg',\n 'Olitalia Pure Olive Oil 100 ml',\n 'FA Deodorant Natural&Pure 200ml',\n 'Royalty Non Alcohol. Cocktail Ruby 750ml',\n 'Dove Nourishing Oil C.Shampoo 170ml',\n 'Revlon Color Silk-10 USA',\n 'Foxs Crystal Clear Spring Tea 125g',\n 'X-Goodmeal Pure Gawa Ghee 100gm (B)',\n 'Mr. Cookie (Big) Haque Biscuit 125 gm',\n 'X-S200517 Pail C3-2713',\n 'C.H. Chicken Roll Box`s 12 Pcs',\n 'Jhatpat Mini Spring Roll 200g',\n 'Komla Chinese Pcs',\n 'Aftab Fish Nuggets 250 gm',\n 'Aftab Mini Chicken Nuggets 250 gm',\n 'Matador Scourer Blister pcs',\n 'CP Spicy Chicken Ball 500gm',\n 'CP Chicken Frank Cocktail 340gm',\n 'CP Italian Chilli Bologna Sausage&B 120G',\n 'Jackelin Nail Polish All Color 14ml',\n 'S200568 Glass Vase-901-4',\n 'Septex Dishwash Bar 325g',\n 'Nestle Koko Krunch Chocolate Flv 80gm',\n 'S200461 Bengal Slim Jug 1.25 Ltr.B-73501',\n 'Khong Guan Ais Jem Biscuit 110g',\n 'S201047 Water bottle (2000 ml)',\n 'Ruchi Jhuribhaja 30±10g',\n 'Ispahani Mirzapore Bestleaf 400g(P.Bag)',\n 'Pran Miniket Rice 5Kg',\n 'Sun Chips Cream & Onion 38 gm',\n 'Sun Chips Mix Masala 80 gm',\n 'Lux Jasmin&Vitamin-E Soap 150g',\n 'Ruchi Dal Bhaja 30 gm',\n 'Shan Chicken Tikka Masala 50g',\n 'S200479 RFL Elite Jug - Trans',\n 'Rin Power White Detergnt Powder 900±100g',\n 'Bombay Chanchur 80(±15)g',\n 'Sun Chips Wasabi 38 gm',\n 'Doreo BlackChocSandwichCrem Biscuit 320g',\n 'X-Lux Sandal & Cream Soap 125g(B)',\n 'Harmony Peach Extract Fruity Soap 75gm',\n 'Meril Baby Shampoo 110 ml',\n 'JuJu Baby Nose Cleaner-JI001',\n 'Kolson Macaroni 200 gm',\n 'Pran Crispy Chanachur 350 gm',\n 'Shwapno Brown Egg (6PCs)',\n 'Meril Milk & Kiwi Soap 100g',\n 'Meril Milk\\xa0 Soap Bar 100g',\n 'J.M Special Dabli Bhaja 200gm',\n 'J.M.F Special Badam Vaja 200g',\n 'Shwapno Brown Egg (12Pcs)',\n 'Satej Muri Moya 12pcs Pack',\n 'Meril Beauty Soap Blackberry 100g',\n 'Foxs Crystal Clear Fruits 90 gm Bag',\n 'Cadbury Dairy Milk Chocolate(5.8±0.5)g',\n 'Toblerone Swiss Milk Chocolate 100g',\n 'S201047 Tray-106',\n 'Cadbury Perk Chocolate 16±3g',\n 'Snickers 300g (6pcsx50g)',\n 'Ponds T.V Moisturising Body Lotion 200ml',\n 'GILLETTE BLUE II',\n 'Horlicks 450 gm BIB',\n 'Olympic Tip Crispy Salted Biscuits 70g',\n 'Fay Air Freshener Anti Tobacco 300 ml',\n 'Olympic Energy Plus 62±6g',\n 'Ovaltine Malted Milk 200g (Box)',\n 'Watsons MINT Dental Flossers 50 pcs',\n 'Bombay Chanachur 500±50g',\n 'GK Advance Power Activ+Refill 1pcs',\n 'Good Knight Ad.Riffel+Cinthol Soap Combo',\n 'Listerine Mouth Wash Cool Mint 500ml',\n 'J.M Bason 500 gm',\n 'ACI Pure Suji(Laminated Pack)500 gm',\n 'Marlen Japanese Hair Color Powder 6g',\n 'Sunlite Heavy duty red UM-3',\n 'S201047 3D Mat China',\n 'Sensodyne Tooth Paste Fresh Mint 150g',\n 'Fu-Wang Dry Cake Biscuit 420Gm',\n 'Lavender Fruit Cake 400 gm',\n 'Sajeeb Tandury Noodles 300gm',\n 'Satej Til Papri 4 Pcs',\n 'Lux Soap Soft Touch 75g',\n 'Cocola Cook Chicken Tanduri 400g',\n 'Tiara Culinary Essence Strawberry 28ml',\n 'Dano Power Full Cream Milk Powder 500g',\n 'Chaka Washing Powder 1000 gm',\n 'Saltcheese Crackers Biscuit 200 gm',\n 'Maggi 2MN curry noodles 62 gm',\n 'J.M.F Special Shon Papri 500g',\n 'ROMANIA Orange Cream 65(±5)Gm',\n 'J.M.F Special Chui Pitha 200g',\n 'Satej Shahi Khurma 500g (Box)',\n 'Nestle Kit Kat  45Gm',\n 'Lavender Fruit Cake 200 gm',\n 'Olympic Festi Coffee Biscuit 100g',\n 'Cadbury 5 Star 22.4g',\n 'Haldirams Sonpapdi 500gm',\n 'Brac Chicken Masala Nugget 250gm',\n 'Danish BAR B Q Chanachur 150gm',\n 'Tang Powder Drink Orange 750g (Jar)',\n 'Lavender Sugar Free Bread 600gm',\n 'GH Mega Deshi Paratha 20pcs 1600g',\n 'Parle Fab Chocolate Biscuits 100g',\n 'S201181 My Table Book F/F',\n 'Gold Mark Straw-V Cream Biscuit 480g',\n 'Nestle Koko Krunch Chocolate Flv. 330g',\n 'Tulsi Pati Caffeine Free 30g*30T.Bags',\n 'Zerocal Sachet 25`s',\n 'K.Rogers S.Free Cumin Seed Cookies 105g',\n 'K.Roger s S.F.Almond Butter Cookies 105g',\n 'GoldMark Sp.Choco.Cookies Biscuit 270g',\n 'Kiswan Sugar Free Biscuit 300g',\n 'S201165 Baby Towel BM',\n 'X-S201165 Napy',\n 'X-S200921 Katha Set-350',\n 'S201143 Kids Romper-350',\n 'S201047 W-801-40 Cake Spoon (6 pcs)',\n 'X-S200878 Baby Romper Pink AOP-BBRMPR 001',\n 'Tong Garden Cocktail Nut S 150Gm Can',\n 'X-S201094 Shada Jul Pashmia Lady Shwal',\n 'Savlon Aloe Vera Handwash 500ml',\n 'Yong Chin Cucumber Soap 100g',\n 'Satej White Peanut 200g',\n 'Julies Cheese Crackers 600±20g',\n 'BPM Biroi Rice 1 Kg',\n 'Uncle Barns Tempura Flour 500gm',\n 'Oreo Biscuit Chocolate Creme 133±9.5g',\n 'IFAD Eggy Instant Noodles Chicken 390Gm',\n 'Lavender Burger Bun 2 Pcs',\n 'Kwality 1000 ML Container Double Sundaes',\n 'Mama Instant Noodles Shrimp Tom Yum 70gm',\n 'Cadbury Oreo Choco Creame 150g',\n 'Tatawa TeaTime Assorted Cookies 800g Tin',\n 'Pran Mr.Noodles Spicy Tomato 310g (5Pkt)',\n 'Mama Instant Noodles Vegetable Flv (Cup)',\n 'Pantene Silky & Smooth Condit. 165(±5)ml',\n 'Aarong Sweet Curd 500 ml',\n 'Nawar Sun Flower Margarine 250g',\n 'Jackers Potato Crisps Original 160 gm',\n 'Mushroom 100g (P) PolyPack',\n 'Shwapno Mixed Dal 1Kg',\n 'Heinz Fruity Apple&Oat Pudding 4X100g',\n 'Bruggen Gourmet Fruchte Musli 600g',\n 'Carman`s Apricot&Almond Muesli Bars 270g',\n 'S201173 Magazine Bornil Biya',\n 'Haiko Kabab Masala 35gm',\n 'Farm Fresh PasteurizedMilk 1000 Ml',\n 'K.Rogers Pineapple Jam Cookies 125g',\n 'Cadbury Whole Nut 49±04g(U.K)',\n 'Mr Best Salted Pistachios 120g (Can)',\n 'Aarong Choco Milk UHT Flav. 250ml',\n 'Fu-Wang Milk Marie Biscuit 290g',\n 'Yardley English Jasmine A.Freshnr 100ml',\n 'Molfix Jumbo Junior (11-18Kg)\\xa044Pcs',\n 'Yardley English S.Wood A.Freshner 100ml',\n 'Jhatpat Deshi Paratha 325g(5 Pcs)',\n 'Danish Lexus Vegetable Biscuit 180±60g',\n 'Party Cream & Onion Chips 75g',\n 'H&S Cool Menthol Shampoo 350(±20)ml',\n 'Garnier Fructis Shampoo Fall Fight 175ml',\n 'Kool Shaving Foam Ultra Glide 400ml',\n 'NICOBENA Kacha Moricher Hot Pickle 300 gm',\n 'Mediplus Tooth paste 70gm',\n 'Starship Milk powder 400gm',\n 'Senora sanitary napkin eco (panty) 15 pa',\n 'Savlon Antiseptic Cream 60gm',\n 'X-Pepsodent Sensitive Expert 100g (IMP)(B)',\n 'Schick Exacta 2 Sensitive 5+2 Razor',\n 'Nestle Munch Rollz Gift Box 102g',\n 'S201343 L.Silver Brn SleperWALS101005-36',\n 'X-S201343 L.Gold.Brown SleperWALM101001-36',\n 'Nestle KitKat Chocolate 27.5g',\n 'S201366 Lady Choshma Bag',\n 'Dettol K.Dish&S.Gel Refill Lime S.130ml',\n 'Finlays Gold Tea 200gm',\n 'Chasi Chinigura Rice 2kg',\n 'Aci Nutrilife Multi Grain Atta 1kg',\n 'Chaka Laundry Bar 130g',\n 'Trix Dish Washing Bar 325±25g',\n 'Starship Mango Fruit Drinks 250ml Tetra Pack',\n 'Marks Active School 400g(BIB)',\n 'SchickExacta2 Sensitive with Vit E Razor',\n 'English Antilice Soap 75gm',\n 'Sunsilk Hair Fall Sol. Conditioner 90ml',\n 'Fair&Lovely AMV.Body Glow Milk 200g',\n 'PROTIVA Peanut (Fried) 200gm',\n 'Colgate Strong Teeth Toothpaste 200gm',\n 'Fire Box (12 Box)',\n 'S200798 Socks Boyes-4',\n 'S200798 Socks Boyes-3',\n 'Protiva Jhal Badam Vaza 200g',\n 'Lavender Sweet Biscuit 200 gm',\n 'Rupchanda Soyabean Oil 1ltr',\n 'Dove Hair Fall Rescue Shampoo 350±10ml',\n 'Sepnil Hand Wash Pump 200ml',\n 'Horlicks 450 gm Jar',\n 'Gandour Safari Chocolate 28g',\n 'Olympic Dry Cake Biscuits 130g',\n 'Mama Instant Noodles Shrimp Flav. 62g',\n 'Horlicks Biscuits Regular 75g',\n 'PRAN UHT MILK 1000 ML TETRA',\n 'Foster Clark Inst.Drink Pineaple 750gBIB',\n 'Frutika Mango Tetra Pack 250ml',\n 'Haldirams Ghee Soan Papdi 500g',\n 'Maggi Chicken Stock 20±2g',\n 'Pran Sour Curd 500g',\n 'Pantene Shampoo Silky Smooth Care 340ml',\n 'Ligion sandal pack 50 gm',\n 'Ponds Bright Beauty Face Wash 50g',\n 'Hosen Pure honey 400g',\n 'ORAL-B T.B Bacteria Fighter C.Defense M',\n 'Ponds Daily Face Wash 100g',\n 'Lotus Apriscrub Fresh Apricot Scrub 100g',\n 'Ligion ladies uptan (regular) pack 70 gm',\n 'Garnier Men Power White FM 50±5g SPF-15',\n 'S201047 Water Pot Football',\n 'Dove Beauty Cream 150ml',\n 'Garnier Men Power white Face Wash 100g',\n 'Igloo Chocolate Orange Ice Cream 120ml',\n 'Protiva Badam Tana',\n 'Meridian Real Thai Shrimp Chips 20(±5)gm',\n 'Olympic Digestive Biscuits 110g',\n 'Satej Shahi Khurma 150g',\n 'Coca Cola Can\\xa0Classic 330±10ml (Imp) ',\n 'Adidas Vitality M.Pearl Shower Gel 250ml',\n 'HRESHEYS CHOCOLATE SYRUP 680ml',\n 'RD Mango Milk UHT 200ml',\n 'RD Mango Milk 200ml Poly Pack (UHT)',\n 'Haiko Falooda mix vanilla flavor 250 gm',\n 'Alfa Mayonnaise 473ml',\n 'Olympic Tip Crispy Salted Biscuits 200g',\n 'Adidas Cool Mint Fresh S.Gel Women 250ml',\n 'Olay Body Soap White Bar 113g (USA)',\n 'H&S.Cool Ment. Shampoo 180±10ml',\n 'Farmasi Style Body Spray Women 150ml',\n 'Adidas C.Milk Protect S.Gel Women 250ml',\n 'Oral-B Vision Tooth Brush Soft',\n 'Moov Spray Pain Relief Specialist 80g',\n 'ATM Air Freshener Jasmin 70 GM',\n 'Santa Sophia La Pasta Spaghetti 500 gm',\n 'Dabur Amla Hair oil 300ml(India)',\n 'S201047 Salad Cutter Six Corner',\n 'Coca Cola 600 ml',\n 'RD Banana Milk 200ml Poly Pack (UHT)',\n 'RD Chocolate Milk UHT 200ml',\n 'Parachute Deep Nourish B.Lotion 250ml',\n 'S200059 Panasonic Alkaline AAA 4 Battery',\n 'S201047 Chad Mat Mid',\n 'S201047 Bath Gloves',\n 'Angelic Airfreshener Fruit Punch 300ml',\n 'S201047 Water Pot 1805',\n 'Loreal Fall Resist 3x Shampoo 330±50ml',\n 'Polar Choco Delight 100ml',\n 'Johnson Baby Blossoms Soap 75gm',\n 'Ponds White Beauty Cream 25g (Local)',\n 'Johnsons Baby Soft&Shiny Shampoo 500ml',\n 'Protiva Til Papri',\n 'ELIT Magnifico Strawberry Chocolate 40gm',\n 'Romania Lite Slim Crackers 130g',\n 'Revlon Flex N.to Dry Shampoo 20FL. OZ',\n 'J.M.F Rice Flour 1 Kg',\n 'Olympic Energy Plus Biscuit F 203g',\n 'Fresh Maida 2Kg',\n 'Shwapno Boot Dal 1Kg',\n 'Vanish Liquid Toilet Cleaner 500ml',\n 'MARKS FULL CREAM MILK POWDER 250gm',\n 'Haque Ghee Biscuit 250g',\n 'Veola Soyabean Oil 5Ltr.',\n 'Mehran Kernal Gold Basmoti Rice 2 kg',\n 'E.F Imitation Crab Stick 500g',\n 'Foster Clark Corn Flour 400g(Packet)',\n 'E.F Fish Tofu Square 500g',\n 'Rupchanda Mustard Oil 500ml',\n 'ACI Pure Maida (Lami) 2 Kg',\n 'Munchys Vege Crackers 330±60g',\n 'Olympic Daily Toast 300g',\n 'Tetley Tea Bag 100g',\n 'MARKS FULL CREAM MILK POWDER 1000gm',\n 'Multi Grand Cheese Salted Biscuits 75g',\n 'Lux Cherry & Cream Soap 175g',\n 'Mediplus Toothpaste TGP 140 gm',\n 'Camel Natural Fruits & Nutty Mix 150gm',\n 'Finlays English Breakfast Tea 25 Sachets',\n 'Tiffany Chunch Vanilla Cream Wafers 153g',\n 'Lux Shake Me Up Soap 170g',\n 'Lavender Salted Biscuit 250 gm',\n 'Stop Not Markute Masala Chips 18g',\n 'Fu-Wang Nutritious Biscuit  80gm',\n 'Clemon 250ml (Pet Bottle)',\n 'Clemon 500ml (Pet Bottle)',\n 'Ringo Peri P.M.Chilli Potato Chips 25g',\n 'Zerocal Tablet 100`s',\n 'Johnson Baby Oil 200 ml (Ind)',\n 'Aci Cockroach Spray 475 ml',\n 'Shakti Liquid Toilet Cleaner 750ml',\n 'Junior Horlicks 400±50g(BIB)',\n 'S200834 Green Eye CD-100',\n 'Cowhead Pure Milk Low Fat\\xa01 Ltr.',\n 'TIARA White Oats 500gm Tin',\n 'K.Rogers S.Free Chocolate Cookies 105g',\n 'Camel Roasted Cashews P.Quality 150g',\n 'S200834 Green Eye DVD-80',\n 'S201249 FLAIR WRITOMETER BALL PEN 1 pcs',\n 'Lotte Anytime Milk Mint Candy 74g',\n 'S201249 FLAIR OSMIUM BALL PEN 1 pcs',\n 'Harpic Ultra Power Toilet Cleaner 450ml',\n 'Shwapno Premium Deshi Chini 1kg',\n 'IGLOO Nature Fresh Mango Roll 100gm',\n 'Orchid Air Freshener rajanigandha 50g',\n 'Lotte Spout Chwing Gum 23.8gm',\n 'Rupchanda Soyabean Oil 3ltr',\n 'Modhumita Foods Salt Biscuit 400 gm',\n 'Harvest Rich Vegetable Samucha 12 pcs',\n 'Orchid Air Freshener Mystic Rose 50g',\n 'Freedom Super Dry Heavy Flo.wings 8 pads',\n 'Party Crazy Masala Chips 75g',\n 'Lavender Bread 600 gm',\n 'Nutella Ferrero 350gm',\n 'Chicken Soup Dressed(Pcs)',\n 'Pran Muri 500 gm',\n 'Fresh Refined Sugar 2 kg',\n 'X-Coconut (Narikel) PCS',\n 'Lays Spanish Tomato Tango 52±2g',\n 'Mama Instant Noodles S.C Tom Yum Flv 55g',\n 'PROTIVA Coconut Naru 100gm',\n 'IFAD Eggy Instant Noodles Masala 390Gm',\n 'S200834 Green Eye DVD-70',\n 'CG Lip Care Regular Lip Balm 4g',\n 'X-S200517 Round Band Stone Barity FA-13101',\n 'X-S200517 Back Clip C-137',\n 'ELIT Bohem Assorted Chocolate 200gm',\n 'Bombay Sweets Dalmoth Chanchur 200±50g',\n 'Garnier Fructis Shampoo Fall Fight 340ml',\n 'Johnson Baby Soap 75g',\n 'Rok\\xa0Floor Clnr(Rose)450ml Refill(BOGOF)',\n 'Golden H. Beef Spring Roll 300g 15pcs',\n 'Keya Soap pink 100gm',\n 'Brac Chicken Nugget 250gm',\n 'Golden Harvest Singara (Veg) Regular Pac',\n 'Danish Condensed Milk 397 gm',\n 'Finis Insect Powder 40 gm',\n 'Protiva Black Pepper (Golmorich) 25g',\n 'Palmolive Moisture Care S/H Soap 170g',\n ...]"
     },
     "execution_count": 272,
     "metadata": {},
     "output_type": "execute_result"
    }
   ],
   "source": [
    "product_code2name\n",
    "product_name2code\n",
    "unique_product_name"
   ],
   "metadata": {
    "collapsed": false,
    "pycharm": {
     "name": "#%%\n"
    }
   }
  },
  {
   "cell_type": "code",
   "execution_count": 76,
   "outputs": [],
   "source": [
    "product_codes_by_SalesQTY = invoice_data.groupby('ProductCode')['SalesQTY'].sum('SalesQTY').sort_values(ascending=False).reset_index()['ProductCode'].to_list()"
   ],
   "metadata": {
    "collapsed": false,
    "pycharm": {
     "name": "#%%\n"
    }
   }
  },
  {
   "cell_type": "code",
   "execution_count": 7,
   "outputs": [
    {
     "data": {
      "text/plain": "{'AARONG UHT Full Cream Liquid Milk 500ml': 0,\n 'Protiva Chui Pitha 200g': 1,\n 'Satej Coconut Naru 200g': 2,\n 'X-Shonalika Chicken Dressed Large (Pcs)': 3,\n 'Radhuni Panch Foran 50 gm': 4,\n 'Pran Thai Chilli Sauce 340gm': 5,\n 'Pran Soy Sauce 650ml': 6,\n 'No.1Sweetened condensed milk 400 gm': 7,\n 'S201011 Party Spray Cragy Ribbon-PS1/2': 8,\n 'S201011 Love Balloon Thai 20 Pcs BL 1/7': 9,\n 'S201011 Balloon Thai BL 1/2': 10,\n 'MARS Fun Size 18gm': 11,\n 'IFAD Eggy Instant Noodles Chicken 65Gm': 12,\n 'Radhuni Turmeric Regular 50 gm': 13,\n 'Shwapno Sugar (P) 1Kg': 14,\n 'IFAD Eggy Instant Noodles Masala 65Gm': 15,\n 'Radhuni Chilli 100g': 16,\n 'ACI Pure Salt 1kg': 17,\n 'Harpic Power Plus 500 ML': 18,\n 'Ispahani Mirzapore Bestleaf 200g(P.Bag)': 19,\n 'Mama Instant Noodles Chicken Flav. 248g': 20,\n 'Rupchanda Soyabean Oil 2ltr': 21,\n 'Teer Suji 500gm': 22,\n 'Golden Harvest Dal Puri 454gm (10 Pcs)': 23,\n 'GH Deshi Paratha 20pcs 1300g': 24,\n 'Ruchi Barbecue Chanachur 170 gm': 25,\n 'Mac Coffee Mix 3B1 Original 20g 25pcs': 26,\n 'Shan Karachi Beef Biryani Mix 60g': 27,\n 'Cerelac3 Fruits, Wheat & Milk 400 gm BIB': 28,\n 'Lactogen 2 BIB 350gm': 29,\n 'Teer Soyabean Oil 1ltr': 30,\n 'Dano Power F.C.Milk Powder 400g(BIB)': 31,\n 'Radhuni Haleem Mix 200 gm': 32,\n 'X-Shwapno Brown Egg (4 Pcs) (B)': 33,\n 'Nestle Koko Krunch Chocolate Flv. 170g': 34,\n 'Maggi Healthy Soup Thai 35 gm': 35,\n 'Radhuni Chilli 200g': 36,\n 'Fay Facial Tissue 160±20x2 Sheet': 37,\n 'Maggi 2MN masala ndls 248gm (FamilyPack)': 38,\n 'Fresh Refined Sugar 1Kg': 39,\n 'Rupchanda Chinigura Rice 1 kg': 40,\n 'My Hot & Sour 22g': 41,\n 'Lavender Bread 300 gm': 42,\n 'B.dhara Paper Napkin 13\"x1ply 100pcs (W)': 43,\n 'X-S200517 Borkha Pin-C-1211': 44,\n 'Vaseline Hair Tonic & Scalp Cond. 300ml': 45,\n 'S201366 Usha Chaina Nighty': 46,\n 'Tic Tac Strawberry Fields 12.6g': 47,\n 'S201282\\xa0 Boys T-Shirt F/S Multi': 48,\n 'B.dhara Classic P Napkin 15X15X80Pcs': 49,\n 'Gatsby Hair Gel Soft White 150gm': 50,\n 'Radhuni Coriander 1000 gm': 51,\n 'Aarong Mushur Dal 1kg': 52,\n 'Teer Soyabean Oil 5ltr': 53,\n 'Wheel Laundry Soap 130g': 54,\n 'Shwapno Super Miniket Family Pack 19.5Kg': 55,\n 'B.dhara Toilet Tissue (Pink)': 56,\n 'Wheel Lemon Power Detergent Powder 500g': 57,\n 'Vim Dish Wash Bar 325±25g': 58,\n 'Imperial Leather Soap 200gm': 59,\n 'Fay Facial Tissue 2 Plyx100pcs': 60,\n 'Teer Mustard Oil 1ltr': 61,\n 'Rupchanda Soyabean Oil 5ltr': 62,\n 'Shwapno Darchini(Cinamon)100gm': 63,\n 'BTM Cake Decoration 10g': 64,\n 'AP Honey 500 gm': 65,\n 'Nutkao Duo With Cocoa and Hazelnuts 200g': 66,\n 'Milk vita Butter 100gm': 67,\n 'Nestle Cream Original 160g': 68,\n 'Aarong white Curd 500 ml': 69,\n 'Indian Spinach (Palong Shak) PCS': 70,\n 'Cabbage/Badhacoy (Kolatia) Pcs': 71,\n 'PROTIVA Darchini (Cinnamon) 50gm': 72,\n 'Fulcopy (P) Pcs': 73,\n 'X-Red Amaranth (Lal Shak) PCS': 74,\n 'Radhuni Turmeric Regular 200 gm': 75,\n 'Radhuni Coriander 200 gm': 76,\n 'Shwapno Kismis(Raisins)200gm': 77,\n 'PROTIVA Kismis (Died Grapes) 200Gm': 78,\n 'Complan Royal Chocolate 500g Jar': 79,\n 'Shwapno Pesta Badam(Pestacio)50gm': 80,\n 'Aarong Butter 200gm': 81,\n 'Savlon Liquid Antiseptic 1000ml': 82,\n 'J.M Special Badam Bhaja 200gm': 83,\n 'Colgate Max Fresh Red Gel T.Paste 150g': 84,\n 'Womens Plus Horlicks 400g Jar(Local)': 85,\n 'Savlon Ocean Blue Handwash 500ml': 86,\n 'Green Banana (Kacha Kola) PCS': 87,\n 'Lavender Sandwich Bread 850 gm': 88,\n 'Kobutorer Mangsho Regular (Pcs)': 89,\n 'Rupchanda Mustard Oil 200 ml Pet btl': 90,\n 'Ispahani Mirzapore Tea Bag 100g': 91,\n 'B.dhara Kitchen Towel Double Pack White': 92,\n 'Richi Prawn Samucha 10 pcs': 93,\n 'Fanta 1250 ml': 94,\n 'Sundrop Mango Fruit Drink Juice 250ml': 95,\n 'Richi Chicken Spring Roll 10 pcs': 96,\n 'B.dhara Kitchen Towel Single Pack White': 97,\n 'Nestle Gold Corn Flakes 275g BIB': 98,\n 'Cowhead Pure Milk 1Ltr.': 99,\n 'Banana(Shagor)Yellow': 100,\n 'Horlicks 200gm Jar': 101,\n 'Aarong Liquid Milk 1000 ml': 102,\n 'Lavender Bread 400 gm': 103,\n 'GoldMark Fruit Papaya Biscuits 80g': 104,\n 'BD FOOD  FRIED DAL 25(+/-5)gm': 105,\n 'ProDental B Vision Toothbrush 1 pcs': 106,\n 'Cocola Milk Banana Wafer Biscuit 18g': 107,\n 'Haiko Cocoa Powder 100g': 108,\n 'Tic Tac Mintensity 13.1g': 109,\n 'Kiddo custurd (Butter)25 gm': 110,\n 'Danish Doreo Blackchoc Sandwich 140g': 111,\n 'Sun Chips Tomato Tango 80 gm': 112,\n 'Sun Chips Wasabi 80 gm': 113,\n 'Pringles Original 40(±3)gm': 114,\n 'Bisk Club Potato Biscuit 160g': 115,\n 'Shwapno Premium Boot Dal (Broken) 1kg': 116,\n 'Fresh Atta 2Kg': 117,\n 'Gillette Foam 418gm Regular': 118,\n 'Pran Tomato Ketchup 1000 gm': 119,\n 'Pran White Vinegar- 650 ml': 120,\n 'Radhuni Kasondi 265±20 ml': 121,\n 'S200798 Gents Woolen Cap-250': 122,\n 'Shwapno Premium Nazirshail Rice 19.5Kg': 123,\n 'Nestle Kit Kat Chocolate 18g': 124,\n 'Golden Harvest SB Beef Samosa 500gm': 125,\n 'Protiva Cinnamon (Darchini) 100g': 126,\n 'Brooke Bond Taaza\\xa0Danedar Tea 400g': 127,\n 'Radhuni Mustard Oil 500ml': 128,\n 'Odonil Mystic Rose Air Freshner50g(Hang)': 129,\n 'Lord Tooth Brush Crystal-Z21 ': 130,\n 'Golden Harvest Rice flour Roti 600g': 131,\n 'Golden Harvest SB Chicken Samosa 500gm': 132,\n 'Golden Harvest SB Mutton Samosa 500gm': 133,\n 'Meril Chap Stick Lemon 4.8g': 134,\n 'Brac Chicken Sausage 300gm': 135,\n 'Golden Harvest Chicken Burger Patty200gm': 136,\n 'Aftab Chicken Nuggets 250g': 137,\n 'Nestle Milkybar Chocolate 17g': 138,\n 'Nestle Munch Rollz 12g': 139,\n 'Brac Chicken Kebab 500gm': 140,\n 'Brac Chicken BAR B-Q 500g': 141,\n 'PROTIVA Jeera Black (Cumin) 100Gm': 142,\n 'Herman White Oats Tin 500g': 143,\n 'Thai Choice Crispy N.Chicken Flv.55g': 144,\n 'Olympic Festi Coffee Biscuit 250g': 145,\n 'Clear A-D C.A.C Shampoo 375±25ml': 146,\n 'Protiva Fennel Seed (Misti Jeera) 50g': 147,\n 'Golden Harvest Mini Singara 600g (40pcs)': 148,\n 'GOLDEN HARVEST Daal Paratha 300gm (3Pcs)': 149,\n 'GOLDEN HARVEST Aloo Paratha 250gm (2Pcs)': 150,\n 'Bellycious Special Paratha 5 Pcs': 151,\n 'Dettol Skin Care Hand Wash Pump 225ml': 152,\n 'Bisk Club Fit Masala Flv.70g': 153,\n 'Ruchi BBQ Chanachur 350±50g': 154,\n 'Well Food Mint leaf toast Biscuits 250gm': 155,\n 'S201047 Glass Coster (6 pcs)': 156,\n 'S201047 13.5\" Fish Plate': 157,\n 'Danish FnF Crackers 130g': 158,\n 'Danish Mango Juice 250ml Tetra Pack': 159,\n 'Harvest Rich Chicken Sausage 250g': 160,\n 'IFAD Mixed Fruit Cream Biscuit 90Gm': 161,\n 'Pozzy Baby Wet Towel Wipes 72Pcs': 162,\n 'Rani Chili 200 gm': 163,\n 'Well`s Castor Oil 70ml B.P.': 164,\n 'X-S200517 Punech Clip C-0321': 165,\n 'Veola Soyabean Oil 2Ltr.': 166,\n 'Maggi 2MN Masala Noodles 496 gm': 167,\n 'Tibet Ball Soap 125±5g': 168,\n 'X-S200517 Punch Clip M Thai-242': 169,\n 'Bombay Chanchur 350±50g': 170,\n 'Tigerich Breakfast Cereal 330 gm': 171,\n 'Sunlite Heavy Duty UM4 AAA 2pack': 172,\n 'S200381 P.Khata Math Plain-55(M)120 Page': 173,\n 'Cadbury Dairy Milk Silk Fruit&Nut 145±8g': 174,\n 'S200381 P.Khata Bangla-55(S)120 Page': 175,\n 'S200381 P.Khata English-55(M)160 Page': 176,\n 'S201362 Character eraser': 177,\n 'S200381 P. Khata Math Plain-55(S)120Page': 178,\n 'Ispahani Premium Toast Biscuit 275g': 179,\n 'BD Food Toast Biscuits 300±50g': 180,\n 'Elit Gourmet Col. Ass. Choco. Pink 170g': 181,\n 'Dove Hair Therapy H.F.R Shampoo 700ml': 182,\n 'Ruchi Chananchur Hot 170 gm': 183,\n 'BRAC Chicken Mini Nuggets 250gm': 184,\n 'Gandour Safari Chocolate (15±3)g': 185,\n 'Huggies Diaper Dry L-8Pcs-8-14kg': 186,\n 'Bounty Double 57gm': 187,\n 'ELIT Dark Bitter Chocolate 40±4gm': 188,\n 'S201011 Wrapping Paper-Normal': 189,\n 'S200712 HEIGAR BLENDER HGB-689': 190,\n 'Parle Hide&Seek Chocolate Chip Coki 120g': 191,\n 'Dano Power Full Cream Milk Powder 200g': 192,\n 'Sunfeast D.C Strawberry &Vanilla 150±30g': 193,\n 'Protiva Jhal Badam Vaza 100g': 194,\n 'Lavender Dry Cake 400 gm': 195,\n 'Huggies W. Pant L-5Pcs-9-14kg': 196,\n 'Lactogen 3 BIB 350gm': 197,\n 'Surf Excel 500g (New)': 198,\n 'Bisk Club Stick Biscuit 60g': 199,\n 'Pran Mango Fruit Drink Tetra 250ml': 200,\n 'J.M Special Dal(Mug) Bhaja 200gm': 201,\n 'Pran Peanut Bar 24g': 202,\n 'Freedom Super Dry Regular F.Wings 10Pads': 203,\n 'Gold Mark Borfi Biscuits Jar 650g': 204,\n 'Krack Heel Repair Cream 25 gm': 205,\n 'Creation Lamis Men B.S Cuban Glory 200ml': 206,\n 'Pepsodent Expert Pro. Relief&Repair 150g': 207,\n 'Gold Mark Original F.Cookie Biscuit 115g': 208,\n 'ProDental B Luxury Toothbrush 1 pcs': 209,\n 'DENIM BODY SPRAY 150ML MUSK': 210,\n 'J.M Special Dal(Ankar) Bhaja 200gm': 211,\n 'Multi Ovaltine 300gm': 212,\n 'S201362 Pocha': 213,\n 'Meril Petrolium jelly 50 ml': 214,\n 'Win2 Strawberry Magic Crunch 70g': 215,\n 'X-S201017 Baby Socks 1-9 month': 216,\n 'S201143 CAP BABY SINGLE': 217,\n 'Haque Lemon Puff Biscuit 150g': 218,\n 'Vaseline Original Petrolium Jelly 60ml': 219,\n 'Mamee Express Cup Vegetarian Flavour 60g': 220,\n 'Koka Curry Flavour Noodles 70g (Cup)': 221,\n 'Thai Choice Nistant Shrimp Noodles 60g': 222,\n 'Chui Hiang Mixed Nuts 150g': 223,\n 'Remia Garlic Salad Dressing 250ml': 224,\n 'Khong Guan Marie Biscuits 400g': 225,\n 'Thai Choice Nistant Tom Yum Noodles 60g': 226,\n 'Super Napthalene\\xa0(30Pcs+Pack)': 227,\n 'Munchys Captain Munch O.Chocolate 180g': 228,\n 'Mamee Express Cup Curry Flavour 60g': 229,\n 'Pur Baby Feeding Bottle 50(±10)ml': 230,\n 'X-Knorr Chicken Ginger Soup 21g (B)': 231,\n 'Maggi Healthy Soup Vegetable 25 gm': 232,\n 'PROTIVA Jeera (Cumin) 200Gm': 233,\n 'Diploma I.F.C.M.P 500g (Foil Pack)': 234,\n 'Aftab Chicken Burger Pattie 500 gm': 235,\n 'Lifebuoy Total10 H.Wash 180±10ml(Refill)': 236,\n 'S201047 Tea Strainer Mid R.R': 237,\n 'PROTIVA Testing Salt 50gm': 238,\n 'SHWAPNO Labongo (Cloves) 25Gm': 239,\n 'Teer Atta 2Kg': 240,\n 'ACI Nutrilife Rice Bran Oil 5Ltr. (HDPE)': 241,\n 'Shwapno Deshi Red Lentil 1Kg': 242,\n 'Protiva Cardamom (Elach) 50g': 243,\n 'Rin Power White Detergent Powder 450±50g': 244,\n 'Pran Hot Tomato Sauce Pet 1kg': 245,\n 'S201047 7\" Round Bati': 246,\n 'A-1 Cotton Buds': 247,\n 'Harvest Rich Aloo Puri(10pcs)400gm': 248,\n 'S201047 8.5\" Round Bati': 249,\n 'Himalaya Oil Clear Lemon Face Wash 50ml': 250,\n 'Satej Murali 200g': 251,\n 'S201047 8² star half plate': 252,\n 'Ifad Orange Biscuits 160±10g': 253,\n 'Bajaj Almond Drops Hair Oil 100ml': 254,\n 'Amul Pasteurised Butter 10g X 10Pcs': 255,\n 'Pran Mama Milk Wafer 18 gm': 256,\n 'Cadbury Dairy Milk Chocolate 34g': 257,\n 'Spa Drinking Water 500ml': 258,\n 'Schweppes Tonic Water Can 325(±5)ml': 259,\n 'Coca Cola 250 ml can': 260,\n 'Schweppes Dry Ginger Ale Can 330±10ml': 261,\n 'Sprite Sparkl Lem Lime Can 330±10ml(Imp)': 262,\n 'Maggi Healthy Soup Corn w/chicken 25gm': 263,\n 'MAGGI 2 Minute Noodles Masala 744gm': 264,\n 'PRAN Mr. Noodles Easy Magic Masala 496gm': 265,\n 'Lux Soap Rose & Vitamin E 100g': 266,\n 'Lux Jasmin&Vitamin-E Soap 100g': 267,\n 'S201047 Vacum flasks 308': 268,\n 'Chaka Ball Soap 125±5g': 269,\n 'Haque Chocolate Digestive Biscuits 145g': 270,\n 'S201047 Shoe Brush': 271,\n 'Glaxose-D Glucose 400g (BIB)': 272,\n 'Cadbary Oreo Original 150g': 273,\n 'ROK Floor Cleaner 1.5 Ltr (Pine)': 274,\n 'X-DOVE DamageThrpyH.F.Res Sha375ml (B)': 275,\n 'Aarong Low Fat Milk (500 ml)': 276,\n 'S200461 BengalStainer-Racktangular2 part': 277,\n 'Gala Scrubs 1Pcs': 278,\n 'Ploy & Pailin Mini Cotton Bud 100 Pcs': 279,\n 'Hit Anti Roach Gel 20g': 280,\n 'kazi&kazi looseGreentea-orthodox  100 gm': 281,\n 'Cute Refined Petrolium Jelly 110 gm': 282,\n 'Nescafe Gold Original 100g': 283,\n 'Milk Vita Liquid Milk 500 Ml': 284,\n 'Cadbury Temptations Almond treat 72g': 285,\n 'MORTEIN PowerGard Mosquito&F.Killer450ml': 286,\n 'Neem Natural Skin Care Soap 90g': 287,\n 'Mars 300g (6 PcsX45g)': 288,\n 'Mr. Chicken & Mushroom Soup Low Fat 22g': 289,\n 'S201047 Gas Lighter': 290,\n 'S201047 Fedder Brush': 291,\n 'Clear Men Shampoo HFD 350ml (Local)': 292,\n 'S201047 Freshness bag (120 pcs)': 293,\n 'Igloo Milk Chocolate 16g': 294,\n 'S201047 Meat Hammer 0543': 295,\n 'S201047 Kitchen scissor': 296,\n 'Trix Liquid - 500 ml Lemon': 297,\n 'Ultra Compact T.P. Wet W.Aloevera 20pcs': 298,\n 'Nescafe Classic Coffee 100g (Glass botl)': 299,\n 'Huggies W. Pant L-20Pcs-9-14kg': 300,\n 'S200988 Bath Mat-3 60cm*90cm Brown': 301,\n 'Lifebuoy Mild Care Hand Wash 200ml(Pump)': 302,\n 'S201047 Net Scourer': 303,\n 'DENIM AFTER SHAVE 100 ML ORIGINAL': 304,\n 'Farm Egg Brown 6Pcs Box': 305,\n 'Wheel Lemon Power Detergent Powder 1 kg': 306,\n 'Schick Exacta 2Pouch(2+1 Free)': 307,\n 'Nestle Munch Rollz 6g': 308,\n 'SCHICK EXACTA 2 RAZOR ': 309,\n 'Fu-Wang Noodles Premium Pack 520 gm': 310,\n 'Cerelac Wheat Honey 400 gm BIB': 311,\n 'B.dhara Toilet Tissue (White)': 312,\n 'Golden Harvest Aloo Puri 454gm (10 Pcs)': 313,\n 'Golden Harvest French Fries 1 Kg': 314,\n 'X-Set Wet Body Spray Cool 150ml (B)': 315,\n 'Golden HarvestCrinkleCutFrenchFries1000g': 316,\n 'PRAN Choco Bean 40Gm (Tube)': 317,\n 'Golden Harvest SB Mutton Samosa 250gm': 318,\n 'Ovaltine Malted Chocolate Drink 400g': 319,\n 'Set Wet Body Spray Sexy 150ml': 320,\n 'Golden Harvest SB Beef Samosa 250gm': 321,\n 'GOLDEN HARVEST Chicken Nugget 300g': 322,\n 'Milk Vita Liquid Milk 1000 Ml': 323,\n 'Lavender Fruit Cake 450 gm': 324,\n 'Harpic Power Plus 750 ML': 325,\n 'Britannia Bourbon Original 169±19g': 326,\n 'Snickers Minis 227g': 327,\n 'Fresh&More Glass Cleaner 500ml': 328,\n 'Vim Dish Wash Liquid 500ml (Bottle)': 329,\n 'Bombay Chanchur 150g': 330,\n 'Parachute Coconut Oil 500+/-25ml': 331,\n 'Cadbury Dairy Milk Silk Fruit&Nut 60 ±5g': 332,\n 'X-Rich Mini Vegetable Samosa 400g(B)': 333,\n 'Nivea Intensive Mois.Body Milk 400ml': 334,\n 'WELL FOOD MF OVALTINE BISCUIT 270g': 335,\n 'Purnava Omega 3 enriched Egg(12pcs pack)': 336,\n 'Gold Mark Toastee R.Butter Biscuit 200g': 337,\n 'Shwapno Red Lentil (Kangaroo)1Kg': 338,\n 'Marks Young Star F.C Milk Powder 400g': 339,\n 'Tiffany Crunch Strawberry CreamWafer 76g': 340,\n 'Ispahani Premium SweetToast Biscuit 250g': 341,\n 'Dettol Liquid H.W Poly Pack Orig. 170ml': 342,\n 'Swarna Rice Bran Oil 1 Ltr.': 343,\n 'Vim Dish Wash Liquid 250ml (Pouch)': 344,\n 'A.A Eye Pencil 1gm # 369(Blk)': 345,\n 'Jackelin Liquid Eye Liner All Color 4ml': 346,\n 'Flormar Nail Polish All Flav.': 347,\n 'Farmasi Nail Enamel All 12ml': 348,\n 'Flormar Nails Neon Nail Enamel': 349,\n 'Best Tomato Ketchup 330 gm': 350,\n 'WHISPER ULTRA CLEAN 8pad WINGS ': 351,\n 'Mr. Brasso GC - 350 ml Refill': 352,\n 'Radhuni Coriander 100 gm': 353,\n 'Radhuni Mustard Oil 250 ml': 354,\n 'white plus toothpaste 100gm': 355,\n 'ACI Pure Atta(Laminated Pack)2 kg': 356,\n 'Vim Dish Wash Bar 125g': 357,\n 'Olympic Nutty Peanut Biscuits 50±5g': 358,\n 'Cerelac Wheat & Milk 400 gm BIB': 359,\n 'Coca Cola 2.25 Ltr. pet': 360,\n 'Umami Tomato Ketchup 300 ml': 361,\n 'Haiko Soy Sauce (bottle) 250 ml': 362,\n 'Golden Harvest Chicken Sausage 300(±40)g': 363,\n 'Shakti Mango Doi 80gm': 364,\n 'Pran Junior Mango Drink 125ml': 365,\n 'Golden Harvest French Fries 500gm': 366,\n 'Pran Lassi 170ml': 367,\n 'Farmasi Perfum Deo Seducci (W)150ml': 368,\n 'CAMEL Roasted Salted PEANUTS  40gm': 369,\n 'Savlon Fresh Antiseptic Soap 100g': 370,\n 'Shakti Plain Doi 80gm': 371,\n 'Keya Ball Soap Single 130g': 372,\n 'Tibet Laundry Soap (Blue)130±5g': 373,\n 'Ponds Pure Detox Facial Foam 100ml': 374,\n 'Haque Sooper Creamy Choc Biscuit 105gm': 375,\n 'Brooke Bond Taaza Danedar Tea 200g': 376,\n 'X-Pepsodent Expert Protection 80g(B)': 377,\n 'Haque New Ceram Crackers 125g': 378,\n 'Pran Pineapple Cream Biscuit 100gm': 379,\n 'Ifad Cheesy Bites Crackers 50g': 380,\n 'Bisk Club(Pran) Fit Crackers MFB 130±5g': 381,\n 'DENIM SHAVING GEL ORIGINAL 200 ML': 382,\n 'Cerelac Wheat Apple Cornflakes 400gmBIB': 383,\n 'Himalaya Diaper Rash Cream 20g': 384,\n 'Juju Cotton Buds 100 Pcs JD014 (ND)': 385,\n 'Pozzy Baby Wet Towel Wipes 90Pcs': 386,\n 'Creation Lamis Men B.S Catsuit 200ml': 387,\n 'Creation Lamis Men B.S Opulence 200ml': 388,\n 'Teer Sugar 1Kg': 389,\n 'Igloo Pasteurized Milk 1000ml': 390,\n 'Ahmed White Vinegar 330±5ml': 391,\n 'Kiswan Vermicelli 200 gm': 392,\n 'BiskClub Europa Sandw Biscuit Orange 80g': 393,\n 'Heinz Chili Sauce 310g': 394,\n 'ROMANIA Elachi Cream Biscuit 200(±5)Gm': 395,\n 'Fresh Coriander Powder 200gm': 396,\n 'Dove Intensive Cream N.Care 75ml (IMP)': 397,\n 'Danish Toast Biscuits 250g': 398,\n 'BiskClub Europa Sandw Biscuit Straw. 80g': 399,\n 'Pantene Anti Dandruff Shampoo 340ml': 400,\n 'Shwapno Moog Dal 1Kg': 401,\n 'Meril Nail Polish Remover 40ml': 402,\n 'Harpic Total Power - 400 gm': 403,\n 'Haiko Kheer Mix 160gm': 404,\n 'Seylon Family Blend Tea 400g': 405,\n 'Kolson Lachha Shemai 200 gm': 406,\n 'INT. CAMAY 125GM CLASSIC': 407,\n 'Colgate Visible White Mint T.Paste 100g': 408,\n 'S200801 Donlim Electric Kettle-DKE 7511': 409,\n 'S201384 AlloyBuilding Block -M- 6+592-2D': 410,\n 'S201011 Wrapping Paper-Premium': 411,\n 'Stop Not Tamato Tufan Chips 18g': 412,\n 'Pringles Jalapeno Chips 158g US': 413,\n 'Kazi & Kazi Green Tea Bag 60 gm': 414,\n 'FUN Potato Crackers Spicy Tomato 20g': 415,\n 'Danish FnF Crackers 65g': 416,\n 'Sajeeb Bar-B-Q Noodles 170±10g': 417,\n 'Mama Instant Noodles Shrimp Flav. 248g': 418,\n 'Golden Harvest SB Chicken Samosa 250gm': 419,\n 'White Tone Face Powder 30g': 420,\n 'Golden Harvest Deshi Parata Regular Pack': 421,\n 'Radhuni Meat Curry Masala 20gm': 422,\n 'X-Rani Mejbani Beef Masala 50 gm (B)': 423,\n 'Gillette Blue3 Disposable Razors-2': 424,\n 'Red Bull Energy Drinks 250ml': 425,\n 'Masafi Mango Juice 1 Ltr': 426,\n 'Pran Hot Chanachur 150 gm': 427,\n 'Richi Vegetable Roll 10 pcs': 428,\n 'Teer Soyabean Oil 2ltr': 429,\n '7 up 1000ml (Plastic Bot)': 430,\n 'Mithai Soan Papri 250g': 431,\n 'Richi Beef Kabab 12 pcs': 432,\n 'Vaseline Intensive C.Deep Restore 300ml': 433,\n 'INT. CAMAY 125GM NATUREL': 434,\n 'Golden Harvest Chilli Sauce 340g': 435,\n 'Lowan Tropical Fruit Muesli 750g': 436,\n 'Cute Petrolium Jelly 45 gm': 437,\n 'Pran Kofi House Instant Coffee 3in1 14g': 438,\n 'Golden Harvest Garlic Chilli Sauce 340g': 439,\n 'Radhuni Jorda Mix 400g': 440,\n 'Crispy Chocolatey Rice Cereal 66g': 441,\n 'Fresh Mozarella Cheese 250gm': 442,\n 'Haiko Icing Sugar (Packet) 250 gm': 443,\n 'Heinz Distilled White Vinegar 473ml(US)': 444,\n 'BTM Sweet Candy Cake Decoration 30g': 445,\n 'Protiva White Pepper (Golmorich) 50gm': 446,\n 'SHWAPNO Golmorich (Peper) Black 25Gm': 447,\n 'Foster Clark Soda 150gm (Can)': 448,\n 'Ifad Choco Chips Biscuit 250g': 449,\n 'Nutri Rich Diabetic Biscuits 210g': 450,\n 'Cottee`s Inst Pudding Chocolate Flv 100g': 451,\n 'Foster Clark Gelatin Dessert Lemon 85gm': 452,\n 'HP Sauce Original 255g(UK)': 453,\n 'Gillette Series Cool Cleansing Gel 195Gm': 454,\n 'Fair & Lovely Winter Fairness 50g': 455,\n 'Nivea Men After Shave Fluid 100ml': 456,\n 'H.&S.Anti-Dandruff Shampoo 700ml+200ml': 457,\n 'Roast Chicken': 458,\n 'H&S Smooth&Silky Shampoo 350+/-20ml': 459,\n 'Dove Beauty Cream Bar 100g Pink (IMP)': 460,\n 'MARKS FULL CREAM MILK POWDER 500gm': 461,\n 'WHISPER ULTRA CLEAN 15pad WINGS ': 462,\n 'Trix Liquid - 250 ml Mint': 463,\n 'Veola Soyabean Oil 1Ltr.': 464,\n 'Radhuni Coriander 50 gm': 465,\n 'Radhuni Garam Masala 15 gm': 466,\n 'Gamebit body spray 200ml': 467,\n 'Olay Total Effects Cleanser 100g': 468,\n 'Yong Chin Dark Spot FaceScrub Papaya175m': 469,\n 'Aarong Powder Milk 500gm': 470,\n 'OLAY Natural White Foaming Cleanser 50gm': 471,\n 'Golden H. Chicken Spring Roll 300g 15pcs': 472,\n 'S200736 Belt (911-55)': 473,\n 'H&S.Clean Balance Shampoo 180±10ml': 474,\n 'Herbal Essences Hello Hyd. Shampoo 400ml': 475,\n 'Vaseline Healthy White Lotion 100ml': 476,\n 'Lavender Pizza Base 150 gm': 477,\n 'Golden Harvest Mini Singara 300g (20pcs)': 478,\n 'Vaseline Intensive Care P.Pet. Jelly 9ml': 479,\n 'Horlicks Chocolate Flavour 200g (BIB)': 480,\n 'Aarong Butter 100gm': 481,\n 'CP Chicken HOT Sausage 400 gm': 482,\n 'Nescafe 3 in 1 Coffee Mix 14gm': 483,\n 'Shape Up Non Fat Milk Powder 400g': 484,\n 'HAQUE Chocolate Finger 54gm': 485,\n 'Tang Powder Drink Orange 125g (Foil Pkt)': 486,\n 'QUAKER WHITE OATS 500 gm': 487,\n 'Savlon Active Handwash 200ml (Refill)': 488,\n 'MARS Single 51g': 489,\n 'Romania Lite Milk Crackers 70g': 490,\n 'Danish Lexus Vegetable Cracker 65g': 491,\n 'Tong Garden Salted Cashew Nuts 40Gm': 492,\n 'Pran Chinigura Rice 1Kg': 493,\n 'Amul Fruit n Nut Chocolate 40g': 494,\n 'Sun Chips Garlic & Chilli 80 gm': 495,\n 'X-S201266 Thai Ring Chicken Bra - A-1-38': 496,\n 'Jackelin Lip Liner All Color': 497,\n 'X-S201098 Love Panty- Free Size': 498,\n 'Bonjour Forest Fruits Jam 290g': 499,\n 'Nutella Ferrero Hazelnut Spread 180g PL': 500,\n 'Pran Hot Tomato Sauce 340 gm': 501,\n 'Johnson Milk+Rice Baby Bath 200ml MY': 502,\n 'Cadbury Caramel Bar 49±4g(uk)': 503,\n 'IFAD Jeera Biscuit 60Gm': 504,\n 'IFAD Choco Delight Biscuit 60Gm': 505,\n 'Kishwan Luxury Cookies 50gm': 506,\n 'Ifad Choco Cream Biscuit 80g': 507,\n 'J.M.Special Murir Mua 12pcs': 508,\n 'S201047 Glass Lid': 509,\n 'Farm Fresh UHT Milk 500ml': 510,\n 'IFAD Butter Delight Biscuit 60Gm': 511,\n 'X-S201343 L.Gold.Black SleperWEVG201003-41': 512,\n 'Cadbury Dairy Milk Silk RoastAlmond60±2g': 513,\n 'S201362 Little Doll Key Ring': 514,\n 'Chemtrek Turbo Kitchen Cleaner 500ml': 515,\n 'X-Robin Liquid Blue - 50 ml(B)': 516,\n 'Kimball Thai Chili Sauce 355g': 517,\n 'C.H. Bean Curds (Topu) Tray 180g': 518,\n 'Chasi Chinigura Rice 1kg': 519,\n 'Aarong Ghee 200 gm': 520,\n 'Aci Pure Garammasala 15 gm': 521,\n 'S201011 Round Balloon Small 10PcsBL1/15': 522,\n 'S201143 COLOURFUL HOODY 2 Y/12Y': 523,\n 'S201143 T-Shirt Girls-2': 524,\n 'X-S201307 Girls White&Black Frock F/S-6Yr': 525,\n 'S201307 Kids Set-5yr': 526,\n 'X-S201143 Kids Multi Hoody 5-6Y': 527,\n 'LUX White Impress Body Wash 220ml': 528,\n 'Vaseline Pure Pet.Jelly Original 50ml': 529,\n 'Equal Intense Body Spray Men 150ml': 530,\n 'Boro Plus A.P Daily Face Wash 50ml': 531,\n 'Dulgon 3 in 1 Soft Cream 200ml': 532,\n 'Layer Shot Power Play Body Spray 135ml': 533,\n 'Palmolive Shower Gel ABSOLUTE RELAX250ml': 534,\n 'Ever youth walnut facewash scrub100gm': 535,\n 'Boroline Antiseptic Ayurvedic Cream 20g': 536,\n 'She Miss Body Mist Strawberry 150ml': 537,\n 'Vaseline Aloe Fresh Hydrting Lotion250ml': 538,\n 'Pran Special Toast 300g': 539,\n 'Lavender Brown Bread 450 gm': 540,\n 'Banana(Shobri)Yellow': 541,\n 'GoldMark Cho.Chips Cookies Biscuit 140g': 542,\n 'Anchor Fortified IFCM Powder 500gm': 543,\n 'Romania Lexus Vegetable Crackers 200g': 544,\n 'Gillette Foam Lemon 196±04g': 545,\n 'Lavender Multigrain Bread 500gm': 546,\n 'Domee Mushroom Choice Whole 425g': 547,\n 'Nyle Naturals Dryness Shampoo 400ml': 548,\n 'S201392 Glass(S)80 MI': 549,\n 'Shahi Rainbo Mouth Freshener 25 Pkt': 550,\n 'Sunsilk Perfect Straight N.Con.160m(IMP)': 551,\n 'Aftab Crispy Chicken Drumstick 500 gm': 552,\n 'Pepsi 500ml (Pet)': 553,\n 'Munchys Lexus Vege. Biscuit 200g (Box)': 554,\n 'C&C FOAMING FACIAL WASH 50ml': 555,\n 'ACI Pure Brown Atta 1 Kg': 556,\n 'Shaad Fine Maida 2kg': 557,\n 'Knorr  Chicken Mushroom Soup 22g': 558,\n 'Hibiscus Mushrooms (Whole) 425g Can': 559,\n 'Knorr Chicken Stock 20g': 560,\n 'Diploma -I FCMP 1 kg Foil Pack': 561,\n 'Huggies Wonder Pants 7-12Kg (M 5)': 562,\n 'Rok FC.JS(By1.5L.Gt 500ml Rok Sol Free)': 563,\n 'X-S200517 Safety Pin C-0333': 564,\n 'Teer Soyabean Oil 8ltr': 565,\n 'Rok Floor Cleaner 900ml(Rojanigandha)': 566,\n 'Pran Full Cream Milk Powder 500 gm': 567,\n 'Choco Chip Cookies 104g': 568,\n 'Orbit Sugar Free Chewing Gum 6.6gm': 569,\n 'ACT II Butter Flv Popcorn 33g': 570,\n 'Skittles Fruits Chocolates 55g': 571,\n 'Rupchanda Soyabean Oil 1 ltr (Pouch)': 572,\n 'Satej Nimki 200g': 573,\n 'S201047 SS flaks 500 ML': 574,\n 'ROMANIA Star Park 195(±5)Gm': 575,\n 'Fay Toilet Paper': 576,\n 'S201047 Round Bati ( Tia) Mid': 577,\n 'Sun Chips Salt & Pepper 22 gm': 578,\n 'Dove Beauty Cream Bar 135g White (IMP)': 579,\n 'Dettol Soap Skin Care 125gm': 580,\n 'Dove H.F.R Condition 180±5ml': 581,\n 'Tong Garden Salted Almonds 40±5g': 582,\n 'Ifad Wavy Chips Bar-B-Q 30g': 583,\n 'Purnava Low GI Rice 5 Kg': 584,\n 'Harpic Flushmatic - 50 gm': 585,\n 'B.dhara Toilet Tissue (Gold)': 586,\n 'Mr. Muscle F. Cleaner Floral 1000±50ml': 587,\n 'WELL FOOD Ovaltine Cookies 300Gm': 588,\n 'Danish Dry Cake Biscuits(300±50g)': 589,\n 'K.Rogers Raspberry A.C.B.Cookies 150g': 590,\n 'X-Knorr Classic Thai Soup 4pcs With Bowl': 591,\n 'My Chiken & Corn Soup 22g': 592,\n 'KENT Boringer Chicken Noodle Soup 66g': 593,\n 'Sunsilk Shine & Strenght Shampoo 700ml': 594,\n 'Ultra Compact Make-Up C.W. S.&Care 20pcs': 595,\n 'Safe Baby Wet Wipes Jar 80Pcs': 596,\n 'X-S201329 Men sShirtF/SNavyGraySmlChek15.5': 597,\n 'S201047 Curry spoon': 598,\n 'ACI Aerosol Insect Spray 800ml': 599,\n 'C&C Foaming Facial Wash 100 ml': 600,\n 'Jet Detergent Powder 400gm': 601,\n 'Pepsodent Germi Check Plus 100g': 602,\n 'Parachute Coconut Oil 190+/-10ml': 603,\n 'Ruchi Chananchur Hot 350±50g': 604,\n 'She Pretty Shower Gel 400ml': 605,\n 'Banoful Super Special Toast 350g': 606,\n 'Johnsons Baby Cream Jar 100g': 607,\n 'Lifebuoy Total 10 Hand Wash 200ml (Pump)': 608,\n 'ORAL-B Crisscross\\xa0Medium': 609,\n 'Savlon Liquid Antiseptic 56ml': 610,\n 'Whisper Maxi Fit Wings 15Pads': 611,\n 'X-S201329 Men s Shirt F/SWhitBlakCheck15.5': 612,\n 'S201047 Round Bati ( Tia) Big': 613,\n 'S201047 Crystal mug Lid': 614,\n 'S201254 9\" Soup Plate': 615,\n 'Teer Maida 2Kg': 616,\n 'Kishwan Horlicks Biscuit 300g': 617,\n 'Olympic Crack Jack 70 gm': 618,\n 'Haque Digestive Biscuits 120g': 619,\n 'Dates (Khejur) Tunisian 500 gm': 620,\n 'X-Banana (Chini Champa Small)\\xa0 PCS': 621,\n 'X-S201094 Karishma IND Lady Shwal': 622,\n 'X-S201094 ARI Pashmia Lady Shwal': 623,\n 'Massalama Bed Cleaner': 624,\n 'Pran Mango Fruit Drink 1 Litre': 625,\n 'Vim Dish Wash Powder 500g': 626,\n 'Sunsilk Stunning Black Shine Shampo350ml': 627,\n 'Denim Soap Musk 125g': 628,\n 'Himalaya Purifying Neem Face Wash 100ml': 629,\n 'Garnier Men Power White Face Wash 50g': 630,\n 'Clear C.S Menthol A.D Shampoo Men 180ml': 631,\n 'S200988 T.Towel Design(Hand)Gray': 632,\n 'Harpic Power Plus Toilet Cleaner 1Litre': 633,\n 'Radhuni Cumin 200 gm': 634,\n 'IKO High Fibre Daily 700g (Tin)': 635,\n 'K.Rogers Choco Hazel Nut C.B.Cookies 150': 636,\n 'J.M.Special Chirar Mua 20pcs': 637,\n 'Modhumita Dry Cake 400gm': 638,\n 'Satej Chira Vaza 300g (Box)': 639,\n 'Lavender Banana Biscuit 200 gm': 640,\n 'Maltova Yummy C.Caramel Drink 400g (BIB)': 641,\n 'Horlicks Original Jafran Badam 400g Jar': 642,\n 'Pran Moshur Dal 1Kg': 643,\n 'Jovan Sex Appeal Deo Spray for Men 150ml': 644,\n 'Swarna Rice Bran Oil 5 Ltr(HDPE)': 645,\n 'Protiva Died Grapes (Kismis) 100g': 646,\n 'PROTIVA Jeera Black (Cumin) 50Gm': 647,\n 'Shwapno Chinigura Rice 1Kg': 648,\n 'SHWAPNO Darchini 50gm': 649,\n 'Xtra Power WhiteDetergent Powder 450±50g': 650,\n 'PROTIVA Labongo (Clove) 50Gm': 651,\n 'Caring Spray Net Hair Spray Blue 220ml': 652,\n 'Cocola Egg Noodles 180g': 653,\n 'Colgate Strong Teeth Toothpaste 100gm': 654,\n 'Kolson Egg Noodles 170±10g': 655,\n 'Parachute Shubidha Pack CoconutOil 150ml': 656,\n 'Nido Fortigrow FCMP Tin 2.5kg': 657,\n 'Olitalia Pure Olive Oil 100 ml': 658,\n 'FA Deodorant Natural&Pure 200ml': 659,\n 'Royalty Non Alcohol. Cocktail Ruby 750ml': 660,\n 'Dove Nourishing Oil C.Shampoo 170ml': 661,\n 'Revlon Color Silk-10 USA': 662,\n 'Foxs Crystal Clear Spring Tea 125g': 663,\n 'X-Goodmeal Pure Gawa Ghee 100gm (B)': 664,\n 'Mr. Cookie (Big) Haque Biscuit 125 gm': 665,\n 'X-S200517 Pail C3-2713': 666,\n 'C.H. Chicken Roll Box`s 12 Pcs': 667,\n 'Jhatpat Mini Spring Roll 200g': 668,\n 'Komla Chinese Pcs': 669,\n 'Aftab Fish Nuggets 250 gm': 670,\n 'Aftab Mini Chicken Nuggets 250 gm': 671,\n 'Matador Scourer Blister pcs': 672,\n 'CP Spicy Chicken Ball 500gm': 673,\n 'CP Chicken Frank Cocktail 340gm': 674,\n 'CP Italian Chilli Bologna Sausage&B 120G': 675,\n 'Jackelin Nail Polish All Color 14ml': 676,\n 'S200568 Glass Vase-901-4': 677,\n 'Septex Dishwash Bar 325g': 678,\n 'Nestle Koko Krunch Chocolate Flv 80gm': 679,\n 'S200461 Bengal Slim Jug 1.25 Ltr.B-73501': 680,\n 'Khong Guan Ais Jem Biscuit 110g': 681,\n 'S201047 Water bottle (2000 ml)': 682,\n 'Ruchi Jhuribhaja 30±10g': 683,\n 'Ispahani Mirzapore Bestleaf 400g(P.Bag)': 684,\n 'Pran Miniket Rice 5Kg': 685,\n 'Sun Chips Cream & Onion 38 gm': 686,\n 'Sun Chips Mix Masala 80 gm': 687,\n 'Lux Jasmin&Vitamin-E Soap 150g': 688,\n 'Ruchi Dal Bhaja 30 gm': 689,\n 'Shan Chicken Tikka Masala 50g': 690,\n 'S200479 RFL Elite Jug - Trans': 691,\n 'Rin Power White Detergnt Powder 900±100g': 692,\n 'Bombay Chanchur 80(±15)g': 693,\n 'Sun Chips Wasabi 38 gm': 694,\n 'Doreo BlackChocSandwichCrem Biscuit 320g': 695,\n 'X-Lux Sandal & Cream Soap 125g(B)': 696,\n 'Harmony Peach Extract Fruity Soap 75gm': 697,\n 'Meril Baby Shampoo 110 ml': 698,\n 'JuJu Baby Nose Cleaner-JI001': 699,\n 'Kolson Macaroni 200 gm': 700,\n 'Pran Crispy Chanachur 350 gm': 701,\n 'Shwapno Brown Egg (6PCs)': 702,\n 'Meril Milk & Kiwi Soap 100g': 703,\n 'Meril Milk\\xa0 Soap Bar 100g': 704,\n 'J.M Special Dabli Bhaja 200gm': 705,\n 'J.M.F Special Badam Vaja 200g': 706,\n 'Shwapno Brown Egg (12Pcs)': 707,\n 'Satej Muri Moya 12pcs Pack': 708,\n 'Meril Beauty Soap Blackberry 100g': 709,\n 'Foxs Crystal Clear Fruits 90 gm Bag': 710,\n 'Cadbury Dairy Milk Chocolate(5.8±0.5)g': 711,\n 'Toblerone Swiss Milk Chocolate 100g': 712,\n 'S201047 Tray-106': 713,\n 'Cadbury Perk Chocolate 16±3g': 714,\n 'Snickers 300g (6pcsx50g)': 715,\n 'Ponds T.V Moisturising Body Lotion 200ml': 716,\n 'GILLETTE BLUE II': 717,\n 'Horlicks 450 gm BIB': 718,\n 'Olympic Tip Crispy Salted Biscuits 70g': 719,\n 'Fay Air Freshener Anti Tobacco 300 ml': 720,\n 'Olympic Energy Plus 62±6g': 721,\n 'Ovaltine Malted Milk 200g (Box)': 722,\n 'Watsons MINT Dental Flossers 50 pcs': 723,\n 'Bombay Chanachur 500±50g': 724,\n 'GK Advance Power Activ+Refill 1pcs': 725,\n 'Good Knight Ad.Riffel+Cinthol Soap Combo': 726,\n 'Listerine Mouth Wash Cool Mint 500ml': 727,\n 'J.M Bason 500 gm': 728,\n 'ACI Pure Suji(Laminated Pack)500 gm': 729,\n 'Marlen Japanese Hair Color Powder 6g': 730,\n 'Sunlite Heavy duty red UM-3': 731,\n 'S201047 3D Mat China': 732,\n 'Sensodyne Tooth Paste Fresh Mint 150g': 733,\n 'Fu-Wang Dry Cake Biscuit 420Gm': 734,\n 'Lavender Fruit Cake 400 gm': 735,\n 'Sajeeb Tandury Noodles 300gm': 736,\n 'Satej Til Papri 4 Pcs': 737,\n 'Lux Soap Soft Touch 75g': 738,\n 'Cocola Cook Chicken Tanduri 400g': 739,\n 'Tiara Culinary Essence Strawberry 28ml': 740,\n 'Dano Power Full Cream Milk Powder 500g': 741,\n 'Chaka Washing Powder 1000 gm': 742,\n 'Saltcheese Crackers Biscuit 200 gm': 743,\n 'Maggi 2MN curry noodles 62 gm': 744,\n 'J.M.F Special Shon Papri 500g': 745,\n 'ROMANIA Orange Cream 65(±5)Gm': 746,\n 'J.M.F Special Chui Pitha 200g': 747,\n 'Satej Shahi Khurma 500g (Box)': 748,\n 'Nestle Kit Kat  45Gm': 749,\n 'Lavender Fruit Cake 200 gm': 750,\n 'Olympic Festi Coffee Biscuit 100g': 751,\n 'Cadbury 5 Star 22.4g': 752,\n 'Haldirams Sonpapdi 500gm': 753,\n 'Brac Chicken Masala Nugget 250gm': 754,\n 'Danish BAR B Q Chanachur 150gm': 755,\n 'Tang Powder Drink Orange 750g (Jar)': 756,\n 'Lavender Sugar Free Bread 600gm': 757,\n 'GH Mega Deshi Paratha 20pcs 1600g': 758,\n 'Parle Fab Chocolate Biscuits 100g': 759,\n 'S201181 My Table Book F/F': 760,\n 'Gold Mark Straw-V Cream Biscuit 480g': 761,\n 'Nestle Koko Krunch Chocolate Flv. 330g': 762,\n 'Tulsi Pati Caffeine Free 30g*30T.Bags': 763,\n 'Zerocal Sachet 25`s': 764,\n 'K.Rogers S.Free Cumin Seed Cookies 105g': 765,\n 'K.Roger s S.F.Almond Butter Cookies 105g': 766,\n 'GoldMark Sp.Choco.Cookies Biscuit 270g': 767,\n 'Kiswan Sugar Free Biscuit 300g': 768,\n 'S201165 Baby Towel BM': 769,\n 'X-S201165 Napy': 770,\n 'X-S200921 Katha Set-350': 771,\n 'S201143 Kids Romper-350': 772,\n 'S201047 W-801-40 Cake Spoon (6 pcs)': 773,\n 'X-S200878 Baby Romper Pink AOP-BBRMPR 001': 774,\n 'Tong Garden Cocktail Nut S 150Gm Can': 775,\n 'X-S201094 Shada Jul Pashmia Lady Shwal': 776,\n 'Savlon Aloe Vera Handwash 500ml': 777,\n 'Yong Chin Cucumber Soap 100g': 778,\n 'Satej White Peanut 200g': 779,\n 'Julies Cheese Crackers 600±20g': 780,\n 'BPM Biroi Rice 1 Kg': 781,\n 'Uncle Barns Tempura Flour 500gm': 782,\n 'Oreo Biscuit Chocolate Creme 133±9.5g': 783,\n 'IFAD Eggy Instant Noodles Chicken 390Gm': 784,\n 'Lavender Burger Bun 2 Pcs': 785,\n 'Kwality 1000 ML Container Double Sundaes': 786,\n 'Mama Instant Noodles Shrimp Tom Yum 70gm': 787,\n 'Cadbury Oreo Choco Creame 150g': 788,\n 'Tatawa TeaTime Assorted Cookies 800g Tin': 789,\n 'Pran Mr.Noodles Spicy Tomato 310g (5Pkt)': 790,\n 'Mama Instant Noodles Vegetable Flv (Cup)': 791,\n 'Pantene Silky & Smooth Condit. 165(±5)ml': 792,\n 'Aarong Sweet Curd 500 ml': 793,\n 'Nawar Sun Flower Margarine 250g': 794,\n 'Jackers Potato Crisps Original 160 gm': 795,\n 'Mushroom 100g (P) PolyPack': 796,\n 'Shwapno Mixed Dal 1Kg': 797,\n 'Heinz Fruity Apple&Oat Pudding 4X100g': 798,\n 'Bruggen Gourmet Fruchte Musli 600g': 799,\n 'Carman`s Apricot&Almond Muesli Bars 270g': 800,\n 'S201173 Magazine Bornil Biya': 801,\n 'Haiko Kabab Masala 35gm': 802,\n 'Farm Fresh PasteurizedMilk 1000 Ml': 803,\n 'K.Rogers Pineapple Jam Cookies 125g': 804,\n 'Cadbury Whole Nut 49±04g(U.K)': 805,\n 'Mr Best Salted Pistachios 120g (Can)': 806,\n 'Aarong Choco Milk UHT Flav. 250ml': 807,\n 'Fu-Wang Milk Marie Biscuit 290g': 808,\n 'Yardley English Jasmine A.Freshnr 100ml': 809,\n 'Molfix Jumbo Junior (11-18Kg)\\xa044Pcs': 810,\n 'Yardley English S.Wood A.Freshner 100ml': 811,\n 'Jhatpat Deshi Paratha 325g(5 Pcs)': 812,\n 'Danish Lexus Vegetable Biscuit 180±60g': 813,\n 'Party Cream & Onion Chips 75g': 814,\n 'H&S Cool Menthol Shampoo 350(±20)ml': 815,\n 'Garnier Fructis Shampoo Fall Fight 175ml': 816,\n 'Kool Shaving Foam Ultra Glide 400ml': 817,\n 'NICOBENA Kacha Moricher Hot Pickle 300 gm': 818,\n 'Mediplus Tooth paste 70gm': 819,\n 'Starship Milk powder 400gm': 820,\n 'Senora sanitary napkin eco (panty) 15 pa': 821,\n 'Savlon Antiseptic Cream 60gm': 822,\n 'X-Pepsodent Sensitive Expert 100g (IMP)(B)': 823,\n 'Schick Exacta 2 Sensitive 5+2 Razor': 824,\n 'Nestle Munch Rollz Gift Box 102g': 825,\n 'S201343 L.Silver Brn SleperWALS101005-36': 826,\n 'X-S201343 L.Gold.Brown SleperWALM101001-36': 827,\n 'Nestle KitKat Chocolate 27.5g': 828,\n 'S201366 Lady Choshma Bag': 829,\n 'Dettol K.Dish&S.Gel Refill Lime S.130ml': 830,\n 'Finlays Gold Tea 200gm': 831,\n 'Chasi Chinigura Rice 2kg': 832,\n 'Aci Nutrilife Multi Grain Atta 1kg': 833,\n 'Chaka Laundry Bar 130g': 834,\n 'Trix Dish Washing Bar 325±25g': 835,\n 'Starship Mango Fruit Drinks 250ml Tetra Pack': 836,\n 'Marks Active School 400g(BIB)': 837,\n 'SchickExacta2 Sensitive with Vit E Razor': 838,\n 'English Antilice Soap 75gm': 839,\n 'Sunsilk Hair Fall Sol. Conditioner 90ml': 840,\n 'Fair&Lovely AMV.Body Glow Milk 200g': 841,\n 'PROTIVA Peanut (Fried) 200gm': 842,\n 'Colgate Strong Teeth Toothpaste 200gm': 843,\n 'Fire Box (12 Box)': 844,\n 'S200798 Socks Boyes-4': 845,\n 'S200798 Socks Boyes-3': 846,\n 'Protiva Jhal Badam Vaza 200g': 847,\n 'Lavender Sweet Biscuit 200 gm': 848,\n 'Rupchanda Soyabean Oil 1ltr': 849,\n 'Dove Hair Fall Rescue Shampoo 350±10ml': 850,\n 'Sepnil Hand Wash Pump 200ml': 851,\n 'Horlicks 450 gm Jar': 852,\n 'Gandour Safari Chocolate 28g': 853,\n 'Olympic Dry Cake Biscuits 130g': 854,\n 'Mama Instant Noodles Shrimp Flav. 62g': 855,\n 'Horlicks Biscuits Regular 75g': 856,\n 'PRAN UHT MILK 1000 ML TETRA': 857,\n 'Foster Clark Inst.Drink Pineaple 750gBIB': 858,\n 'Frutika Mango Tetra Pack 250ml': 859,\n 'Haldirams Ghee Soan Papdi 500g': 860,\n 'Maggi Chicken Stock 20±2g': 861,\n 'Pran Sour Curd 500g': 862,\n 'Pantene Shampoo Silky Smooth Care 340ml': 863,\n 'Ligion sandal pack 50 gm': 864,\n 'Ponds Bright Beauty Face Wash 50g': 865,\n 'Hosen Pure honey 400g': 866,\n 'ORAL-B T.B Bacteria Fighter C.Defense M': 867,\n 'Ponds Daily Face Wash 100g': 868,\n 'Lotus Apriscrub Fresh Apricot Scrub 100g': 869,\n 'Ligion ladies uptan (regular) pack 70 gm': 870,\n 'Garnier Men Power White FM 50±5g SPF-15': 871,\n 'S201047 Water Pot Football': 872,\n 'Dove Beauty Cream 150ml': 873,\n 'Garnier Men Power white Face Wash 100g': 874,\n 'Igloo Chocolate Orange Ice Cream 120ml': 875,\n 'Protiva Badam Tana': 876,\n 'Meridian Real Thai Shrimp Chips 20(±5)gm': 877,\n 'Olympic Digestive Biscuits 110g': 878,\n 'Satej Shahi Khurma 150g': 879,\n 'Coca Cola Can\\xa0Classic 330±10ml (Imp) ': 880,\n 'Adidas Vitality M.Pearl Shower Gel 250ml': 881,\n 'HRESHEYS CHOCOLATE SYRUP 680ml': 882,\n 'RD Mango Milk UHT 200ml': 883,\n 'RD Mango Milk 200ml Poly Pack (UHT)': 884,\n 'Haiko Falooda mix vanilla flavor 250 gm': 885,\n 'Alfa Mayonnaise 473ml': 886,\n 'Olympic Tip Crispy Salted Biscuits 200g': 887,\n 'Adidas Cool Mint Fresh S.Gel Women 250ml': 888,\n 'Olay Body Soap White Bar 113g (USA)': 889,\n 'H&S.Cool Ment. Shampoo 180±10ml': 890,\n 'Farmasi Style Body Spray Women 150ml': 891,\n 'Adidas C.Milk Protect S.Gel Women 250ml': 892,\n 'Oral-B Vision Tooth Brush Soft': 893,\n 'Moov Spray Pain Relief Specialist 80g': 894,\n 'ATM Air Freshener Jasmin 70 GM': 895,\n 'Santa Sophia La Pasta Spaghetti 500 gm': 896,\n 'Dabur Amla Hair oil 300ml(India)': 897,\n 'S201047 Salad Cutter Six Corner': 898,\n 'Coca Cola 600 ml': 899,\n 'RD Banana Milk 200ml Poly Pack (UHT)': 900,\n 'RD Chocolate Milk UHT 200ml': 901,\n 'Parachute Deep Nourish B.Lotion 250ml': 902,\n 'S200059 Panasonic Alkaline AAA 4 Battery': 903,\n 'S201047 Chad Mat Mid': 904,\n 'S201047 Bath Gloves': 905,\n 'Angelic Airfreshener Fruit Punch 300ml': 906,\n 'S201047 Water Pot 1805': 907,\n 'Loreal Fall Resist 3x Shampoo 330±50ml': 908,\n 'Polar Choco Delight 100ml': 909,\n 'Johnson Baby Blossoms Soap 75gm': 910,\n 'Ponds White Beauty Cream 25g (Local)': 911,\n 'Johnsons Baby Soft&Shiny Shampoo 500ml': 912,\n 'Protiva Til Papri': 913,\n 'ELIT Magnifico Strawberry Chocolate 40gm': 914,\n 'Romania Lite Slim Crackers 130g': 915,\n 'Revlon Flex N.to Dry Shampoo 20FL. OZ': 916,\n 'J.M.F Rice Flour 1 Kg': 917,\n 'Olympic Energy Plus Biscuit F 203g': 918,\n 'Fresh Maida 2Kg': 919,\n 'Shwapno Boot Dal 1Kg': 920,\n 'Vanish Liquid Toilet Cleaner 500ml': 921,\n 'MARKS FULL CREAM MILK POWDER 250gm': 922,\n 'Haque Ghee Biscuit 250g': 923,\n 'Veola Soyabean Oil 5Ltr.': 924,\n 'Mehran Kernal Gold Basmoti Rice 2 kg': 925,\n 'E.F Imitation Crab Stick 500g': 926,\n 'Foster Clark Corn Flour 400g(Packet)': 927,\n 'E.F Fish Tofu Square 500g': 928,\n 'Rupchanda Mustard Oil 500ml': 929,\n 'ACI Pure Maida (Lami) 2 Kg': 930,\n 'Munchys Vege Crackers 330±60g': 931,\n 'Olympic Daily Toast 300g': 932,\n 'Tetley Tea Bag 100g': 933,\n 'MARKS FULL CREAM MILK POWDER 1000gm': 934,\n 'Multi Grand Cheese Salted Biscuits 75g': 935,\n 'Lux Cherry & Cream Soap 175g': 936,\n 'Mediplus Toothpaste TGP 140 gm': 937,\n 'Camel Natural Fruits & Nutty Mix 150gm': 938,\n 'Finlays English Breakfast Tea 25 Sachets': 939,\n 'Tiffany Chunch Vanilla Cream Wafers 153g': 940,\n 'Lux Shake Me Up Soap 170g': 941,\n 'Lavender Salted Biscuit 250 gm': 942,\n 'Stop Not Markute Masala Chips 18g': 943,\n 'Fu-Wang Nutritious Biscuit  80gm': 944,\n 'Clemon 250ml (Pet Bottle)': 945,\n 'Clemon 500ml (Pet Bottle)': 946,\n 'Ringo Peri P.M.Chilli Potato Chips 25g': 947,\n 'Zerocal Tablet 100`s': 948,\n 'Johnson Baby Oil 200 ml (Ind)': 949,\n 'Aci Cockroach Spray 475 ml': 950,\n 'Shakti Liquid Toilet Cleaner 750ml': 951,\n 'Junior Horlicks 400±50g(BIB)': 952,\n 'S200834 Green Eye CD-100': 953,\n 'Cowhead Pure Milk Low Fat\\xa01 Ltr.': 954,\n 'TIARA White Oats 500gm Tin': 955,\n 'K.Rogers S.Free Chocolate Cookies 105g': 956,\n 'Camel Roasted Cashews P.Quality 150g': 957,\n 'S200834 Green Eye DVD-80': 958,\n 'S201249 FLAIR WRITOMETER BALL PEN 1 pcs': 959,\n 'Lotte Anytime Milk Mint Candy 74g': 960,\n 'S201249 FLAIR OSMIUM BALL PEN 1 pcs': 961,\n 'Harpic Ultra Power Toilet Cleaner 450ml': 962,\n 'Shwapno Premium Deshi Chini 1kg': 963,\n 'IGLOO Nature Fresh Mango Roll 100gm': 964,\n 'Orchid Air Freshener rajanigandha 50g': 965,\n 'Lotte Spout Chwing Gum 23.8gm': 966,\n 'Rupchanda Soyabean Oil 3ltr': 967,\n 'Modhumita Foods Salt Biscuit 400 gm': 968,\n 'Harvest Rich Vegetable Samucha 12 pcs': 969,\n 'Orchid Air Freshener Mystic Rose 50g': 970,\n 'Freedom Super Dry Heavy Flo.wings 8 pads': 971,\n 'Party Crazy Masala Chips 75g': 972,\n 'Lavender Bread 600 gm': 973,\n 'Nutella Ferrero 350gm': 974,\n 'Chicken Soup Dressed(Pcs)': 975,\n 'Pran Muri 500 gm': 976,\n 'Fresh Refined Sugar 2 kg': 977,\n 'X-Coconut (Narikel) PCS': 978,\n 'Lays Spanish Tomato Tango 52±2g': 979,\n 'Mama Instant Noodles S.C Tom Yum Flv 55g': 980,\n 'PROTIVA Coconut Naru 100gm': 981,\n 'IFAD Eggy Instant Noodles Masala 390Gm': 982,\n 'S200834 Green Eye DVD-70': 983,\n 'CG Lip Care Regular Lip Balm 4g': 984,\n 'X-S200517 Round Band Stone Barity FA-13101': 985,\n 'X-S200517 Back Clip C-137': 986,\n 'ELIT Bohem Assorted Chocolate 200gm': 987,\n 'Bombay Sweets Dalmoth Chanchur 200±50g': 988,\n 'Garnier Fructis Shampoo Fall Fight 340ml': 989,\n 'Johnson Baby Soap 75g': 990,\n 'Rok\\xa0Floor Clnr(Rose)450ml Refill(BOGOF)': 991,\n 'Golden H. Beef Spring Roll 300g 15pcs': 992,\n 'Keya Soap pink 100gm': 993,\n 'Brac Chicken Nugget 250gm': 994,\n 'Golden Harvest Singara (Veg) Regular Pac': 995,\n 'Danish Condensed Milk 397 gm': 996,\n 'Finis Insect Powder 40 gm': 997,\n 'Protiva Black Pepper (Golmorich) 25g': 998,\n 'Palmolive Moisture Care S/H Soap 170g': 999,\n ...}"
     },
     "execution_count": 7,
     "metadata": {},
     "output_type": "execute_result"
    }
   ],
   "source": [
    "unique_product_name_dict"
   ],
   "metadata": {
    "collapsed": false,
    "pycharm": {
     "name": "#%%\n"
    }
   }
  },
  {
   "cell_type": "code",
   "execution_count": 8,
   "outputs": [
    {
     "data": {
      "text/plain": "{2500464: 0,\n 2805315: 1,\n 2805913: 2,\n 3100861: 3,\n 2700164: 4,\n 2700327: 5,\n 2702241: 6,\n 2500234: 7,\n 3901391: 8,\n 4203132: 9,\n 4203156: 10,\n 2802216: 11,\n 2805453: 12,\n 2700122: 13,\n 2400450: 14,\n 2805452: 15,\n 2700154: 16,\n 2400029: 17,\n 2600082: 18,\n 2300193: 19,\n 2805707: 20,\n 2400017: 21,\n 2400066: 22,\n 2801349: 23,\n 2801347: 24,\n 2802229: 25,\n 2300267: 26,\n 2701861: 27,\n 2200033: 28,\n 2200147: 29,\n 2400023: 30,\n 2500068: 31,\n 2700060: 32,\n 3101315: 33,\n 2800071: 34,\n 2800400: 35,\n 2700155: 36,\n 3000833: 37,\n 2800249: 38,\n 2400084: 39,\n 2400513: 40,\n 2805166: 41,\n 2801405: 42,\n 2600069: 43,\n 3333053: 44,\n 3003439: 45,\n 3333888: 46,\n 2807734: 47,\n 3333944: 48,\n 2602652: 49,\n 3002319: 50,\n 2700105: 51,\n 2400868: 52,\n 2400025: 53,\n 2600008: 54,\n 2400441: 55,\n 2600079: 56,\n 2600015: 57,\n 2600111: 58,\n 3000798: 59,\n 3000831: 60,\n 2400007: 61,\n 2400019: 62,\n 2701535: 63,\n 2702154: 64,\n 2805179: 65,\n 2801287: 66,\n 2500100: 67,\n 2500704: 68,\n 2500002: 69,\n 2901015: 70,\n 2900936: 71,\n 2701714: 72,\n 2900968: 73,\n 2900991: 74,\n 2700124: 75,\n 2700103: 76,\n 2701538: 77,\n 2701770: 78,\n 2300312: 79,\n 2701551: 80,\n 2500087: 81,\n 3000467: 82,\n 2800565: 83,\n 3003722: 84,\n 2301581: 85,\n 3001495: 86,\n 2900975: 87,\n 2801406: 88,\n 3100559: 89,\n 2400011: 90,\n 2300186: 91,\n 2600068: 92,\n 2800580: 93,\n 2300964: 94,\n 2301626: 95,\n 2800575: 96,\n 2600067: 97,\n 2800072: 98,\n 2500215: 99,\n 2901099: 100,\n 2300089: 101,\n 2500031: 102,\n 2801404: 103,\n 2807817: 104,\n 2800542: 105,\n 3003064: 106,\n 2807100: 107,\n 2700237: 108,\n 2807735: 109,\n 2803043: 110,\n 2805830: 111,\n 2802970: 112,\n 2803713: 113,\n 2800317: 114,\n 2807598: 115,\n 2400937: 116,\n 2400111: 117,\n 3002979: 118,\n 2700045: 119,\n 2700086: 120,\n 2700812: 121,\n 3313996: 122,\n 2400445: 123,\n 2804254: 124,\n 2804831: 125,\n 2701759: 126,\n 2300499: 127,\n 2400003: 128,\n 2600541: 129,\n 3007915: 130,\n 2802485: 131,\n 2804829: 132,\n 2804833: 133,\n 3009733: 134,\n 2803787: 135,\n 2802624: 136,\n 2806843: 137,\n 2802722: 138,\n 2806852: 139,\n 2804834: 140,\n 2804835: 141,\n 2701752: 142,\n 2806452: 143,\n 2806537: 144,\n 2807951: 145,\n 3005424: 146,\n 2701712: 147,\n 2805737: 148,\n 2805272: 149,\n 2805271: 150,\n 2806910: 151,\n 3009977: 152,\n 2806111: 153,\n 2803823: 154,\n 2802644: 155,\n 3803355: 156,\n 3803364: 157,\n 2805411: 158,\n 2300170: 159,\n 2800529: 160,\n 2805458: 161,\n 2100961: 162,\n 2700852: 163,\n 3004083: 164,\n 3332929: 165,\n 2400758: 166,\n 2801885: 167,\n 2600002: 168,\n 3333081: 169,\n 2800619: 170,\n 2801522: 171,\n 3500086: 172,\n 4001468: 173,\n 2806867: 174,\n 4001483: 175,\n 4001491: 176,\n 4205040: 177,\n 4001472: 178,\n 2806750: 179,\n 2801343: 180,\n 2807281: 181,\n 3003454: 182,\n 2800275: 183,\n 2805093: 184,\n 2803299: 185,\n 2101135: 186,\n 2802221: 187,\n 2805119: 188,\n 4001582: 189,\n 3600130: 190,\n 2806797: 191,\n 2500582: 192,\n 2804349: 193,\n 2806310: 194,\n 2801420: 195,\n 2100987: 196,\n 2200148: 197,\n 2601189: 198,\n 2807600: 199,\n 2300135: 200,\n 2800568: 201,\n 2805698: 202,\n 3000367: 203,\n 2807808: 204,\n 3003023: 205,\n 3008274: 206,\n 3007892: 207,\n 2807813: 208,\n 3003063: 209,\n 3003293: 210,\n 2800567: 211,\n 2803358: 212,\n 4205044: 213,\n 3000509: 214,\n 2803450: 215,\n 3310080: 216,\n 3334491: 217,\n 2803361: 218,\n 3000730: 219,\n 2800258: 220,\n 2807234: 221,\n 2806520: 222,\n 2807491: 223,\n 2700929: 224,\n 2807557: 225,\n 2806521: 226,\n 2600272: 227,\n 2807918: 228,\n 2800257: 229,\n 2100628: 230,\n 2803124: 231,\n 2800399: 232,\n 2701763: 233,\n 2500046: 234,\n 2801439: 235,\n 3000676: 236,\n 3804493: 237,\n 2701715: 238,\n 2701734: 239,\n 2400057: 240,\n 2400812: 241,\n 2400876: 242,\n 2701757: 243,\n 2600987: 244,\n 2701879: 245,\n 3803361: 246,\n 3007547: 247,\n 2804323: 248,\n 3803362: 249,\n 3002906: 250,\n 2805907: 251,\n 3802778: 252,\n 2805620: 253,\n 3003959: 254,\n 2500665: 255,\n 2800028: 256,\n 2803037: 257,\n 2300079: 258,\n 2300718: 259,\n 2300253: 260,\n 2301084: 261,\n 2300876: 262,\n 2800272: 263,\n 2805082: 264,\n 2805270: 265,\n 3009628: 266,\n 3009627: 267,\n 3802678: 268,\n 2600001: 269,\n 2802991: 270,\n 3804567: 271,\n 2300890: 272,\n 2806290: 273,\n 2602304: 274,\n 3003652: 275,\n 2500026: 276,\n 3801445: 277,\n 2602805: 278,\n 3007543: 279,\n 2602796: 280,\n 2301013: 281,\n 3002683: 282,\n 2300345: 283,\n 2500066: 284,\n 2803296: 285,\n 2601670: 286,\n 3007338: 287,\n 2804372: 288,\n 2805163: 289,\n 3803349: 290,\n 3804505: 291,\n 3007508: 292,\n 3802643: 293,\n 2806359: 294,\n 3804495: 295,\n 3802705: 296,\n 2600103: 297,\n 3006808: 298,\n 2300067: 299,\n 2100984: 300,\n 3803248: 301,\n 3000679: 302,\n 3804179: 303,\n 3003276: 304,\n 3100004: 305,\n 2600016: 306,\n 3006792: 307,\n 2805833: 308,\n 3001202: 309,\n 2800263: 310,\n 2200019: 311,\n 2600078: 312,\n 2801348: 313,\n 2802653: 314,\n 3008078: 315,\n 2804647: 316,\n 2805751: 317,\n 2804832: 318,\n 2300392: 319,\n 3008079: 320,\n 2804830: 321,\n 2803212: 322,\n 2500067: 323,\n 2801427: 324,\n 2600083: 325,\n 2803913: 326,\n 2804371: 327,\n 2602689: 328,\n 2600102: 329,\n 2800618: 330,\n 3000781: 331,\n 2804166: 332,\n 2807887: 333,\n 3003723: 334,\n 2807954: 335,\n 3100878: 336,\n 2807811: 337,\n 2400387: 338,\n 2500772: 339,\n 2806575: 340,\n 2806751: 341,\n 3004745: 342,\n 2400788: 343,\n 2600101: 344,\n 3006070: 345,\n 3008512: 346,\n 3007958: 347,\n 3008762: 348,\n 3006568: 349,\n 2700046: 350,\n 3000374: 351,\n 2600095: 352,\n 2700102: 353,\n 2400002: 354,\n 3000321: 355,\n 2400059: 356,\n 2600524: 357,\n 2807949: 358,\n 2200032: 359,\n 2300782: 360,\n 2701257: 361,\n 2700297: 362,\n 2807062: 363,\n 2500138: 364,\n 2300166: 365,\n 2802623: 366,\n 2301355: 367,\n 3002836: 368,\n 2803216: 369,\n 3002891: 370,\n 2500137: 371,\n 2600162: 372,\n 2600526: 373,\n 3003527: 374,\n 2802631: 375,\n 2300500: 376,\n 3008975: 377,\n 2802989: 378,\n 2800022: 379,\n 2805704: 380,\n 2804485: 381,\n 3003269: 382,\n 2200072: 383,\n 2100693: 384,\n 2101163: 385,\n 2100962: 386,\n 3008275: 387,\n 3008273: 388,\n 2400033: 389,\n 2500672: 390,\n 2700083: 391,\n 2802214: 392,\n 2806335: 393,\n 2700934: 394,\n 2802629: 395,\n 2701434: 396,\n 3002928: 397,\n 2804649: 398,\n 2806336: 399,\n 3004981: 400,\n 2400389: 401,\n 3001572: 402,\n 2600092: 403,\n 2701118: 404,\n 2300364: 405,\n 2800144: 406,\n 3000452: 407,\n 3009433: 408,\n 3600412: 409,\n 4204865: 410,\n 4001581: 411,\n 2806879: 412,\n 2802859: 413,\n 2300721: 414,\n 2803731: 415,\n 2805412: 416,\n 2803410: 417,\n 2805708: 418,\n 2804828: 419,\n 3008929: 420,\n 2801346: 421,\n 2701584: 422,\n 2701248: 423,\n 3008525: 424,\n 2300320: 425,\n 2300430: 426,\n 2800280: 427,\n 2800588: 428,\n 2400024: 429,\n 2300037: 430,\n 2807610: 431,\n 2800589: 432,\n 3008075: 433,\n 3000453: 434,\n 2702230: 435,\n 2804190: 436,\n 3002685: 437,\n 2301520: 438,\n 2702234: 439,\n 2701744: 440,\n 2806542: 441,\n 2500107: 442,\n 2700281: 443,\n 2700486: 444,\n 2702156: 445,\n 2701783: 446,\n 2701732: 447,\n 2701882: 448,\n 2807205: 449,\n 2807564: 450,\n 2806950: 451,\n 2801304: 452,\n 2700655: 453,\n 3002955: 454,\n 3004536: 455,\n 3009076: 456,\n 3010075: 457,\n 3100856: 458,\n 3002937: 459,\n 3000747: 460,\n 2500093: 461,\n 3000378: 462,\n 2600106: 463,\n 2400755: 464,\n 2700101: 465,\n 2700108: 466,\n 3001323: 467,\n 3001865: 468,\n 3002772: 469,\n 2500088: 470,\n 3003445: 471,\n 2806159: 472,\n 3300488: 473,\n 3004996: 474,\n 3009726: 475,\n 3006447: 476,\n 2801414: 477,\n 2805738: 478,\n 3007912: 479,\n 2302106: 480,\n 2500086: 481,\n 2803765: 482,\n 2300431: 483,\n 2500284: 484,\n 2805099: 485,\n 2300113: 486,\n 2800717: 487,\n 3001933: 488,\n 2802215: 489,\n 2806345: 490,\n 2807983: 491,\n 2805673: 492,\n 2400035: 493,\n 2807790: 494,\n 2802984: 495,\n 3327109: 496,\n 3008508: 497,\n 3323942: 498,\n 2807159: 499,\n 2804119: 500,\n 2700442: 501,\n 2100081: 502,\n 2802938: 503,\n 2805459: 504,\n 2805460: 505,\n 2802202: 506,\n 2806874: 507,\n 2801024: 508,\n 3802251: 509,\n 2500099: 510,\n 2805461: 511,\n 3332155: 512,\n 2804159: 513,\n 4204774: 514,\n 2602755: 515,\n 2600024: 516,\n 2700321: 517,\n 2806062: 518,\n 2400679: 519,\n 2500015: 520,\n 2700110: 521,\n 3901420: 522,\n 3334490: 523,\n 3325344: 524,\n 3334915: 525,\n 3334106: 526,\n 3338515: 527,\n 3005139: 528,\n 3002623: 529,\n 3009118: 530,\n 3009358: 531,\n 3008174: 532,\n 3009579: 533,\n 3004025: 534,\n 3001293: 535,\n 3008409: 536,\n 3009119: 537,\n 3002932: 538,\n 2800060: 539,\n 2801411: 540,\n 2901100: 541,\n 2807812: 542,\n 2500053: 543,\n 2800765: 544,\n 3002983: 545,\n 2806842: 546,\n 2806896: 547,\n 3009874: 548,\n 3804672: 549,\n 2807864: 550,\n 3007770: 551,\n 2801400: 552,\n 2300014: 553,\n 2804772: 554,\n 3000391: 555,\n 2400191: 556,\n 2400846: 557,\n 2803123: 558,\n 2800711: 559,\n 2701274: 560,\n 2500045: 561,\n 2100982: 562,\n 2601360: 563,\n 3332941: 564,\n 2400385: 565,\n 2601361: 566,\n 2500142: 567,\n 2807080: 568,\n 2804055: 569,\n 2802828: 570,\n 2806759: 571,\n 2400593: 572,\n 2805926: 573,\n 3802673: 574,\n 2803294: 575,\n 2600132: 576,\n 3802851: 577,\n 2805734: 578,\n 3000748: 579,\n 3005448: 580,\n 3006647: 581,\n 2805672: 582,\n 2806877: 583,\n 2400607: 584,\n 2600086: 585,\n 2600080: 586,\n 2602693: 587,\n 2804710: 588,\n 2807147: 589,\n 2808013: 590,\n 2807984: 591,\n 2805168: 592,\n 2803444: 593,\n 3009791: 594,\n 3006807: 595,\n 2101294: 596,\n 3333410: 597,\n 3802796: 598,\n 2600045: 599,\n 3000392: 600,\n 2601184: 601,\n 3000689: 602,\n 3000779: 603,\n 2800276: 604,\n 3010035: 605,\n 2806807: 606,\n 2100737: 607,\n 3000678: 608,\n 3003850: 609,\n 3000464: 610,\n 3005232: 611,\n 3333378: 612,\n 3802850: 613,\n 3802626: 614,\n 3803750: 615,\n 2400061: 616,\n 2802206: 617,\n 2803206: 618,\n 2802990: 619,\n 2900513: 620,\n 2901141: 621,\n 3333565: 622,\n 3333563: 623,\n 2600196: 624,\n 2300139: 625,\n 2600096: 626,\n 3005240: 627,\n 3003463: 628,\n 3002910: 629,\n 3005398: 630,\n 3007441: 631,\n 3804640: 632,\n 2601252: 633,\n 2700136: 634,\n 2801143: 635,\n 2808014: 636,\n 2801023: 637,\n 2806742: 638,\n 2807215: 639,\n 2801416: 640,\n 2300099: 641,\n 2301821: 642,\n 2400492: 643,\n 3002446: 644,\n 2400811: 645,\n 2701701: 646,\n 2701753: 647,\n 2400435: 648,\n 2701693: 649,\n 2602668: 650,\n 2701760: 651,\n 3008189: 652,\n 2802976: 653,\n 3000302: 654,\n 2800269: 655,\n 3007785: 656,\n 2200004: 657,\n 2400346: 658,\n 3002876: 659,\n 2302049: 660,\n 3008752: 661,\n 3008232: 662,\n 2804041: 663,\n 2500561: 664,\n 2800414: 665,\n 3312056: 666,\n 2806055: 667,\n 2807517: 668,\n 2900832: 669,\n 2801438: 670,\n 2801436: 671,\n 2600191: 672,\n 2803402: 673,\n 2804020: 674,\n 2805876: 675,\n 3008507: 676,\n 3900275: 677,\n 2602839: 678,\n 2806217: 679,\n 3803093: 680,\n 2807474: 681,\n 3802502: 682,\n 2800358: 683,\n 2300192: 684,\n 2400055: 685,\n 2805732: 686,\n 2802985: 687,\n 3009626: 688,\n 2801386: 689,\n 2701856: 690,\n 3804252: 691,\n 2600986: 692,\n 2800617: 693,\n 2803712: 694,\n 2802595: 695,\n 3007185: 696,\n 3002332: 697,\n 2100048: 698,\n 2101377: 699,\n 2800271: 700,\n 2800283: 701,\n 3101316: 702,\n 3001630: 703,\n 3001944: 704,\n 2800569: 705,\n 2807804: 706,\n 3101298: 707,\n 2807217: 708,\n 3001629: 709,\n 2801449: 710,\n 2803035: 711,\n 2800827: 712,\n 3802229: 713,\n 2803040: 714,\n 2804373: 715,\n 3000717: 716,\n 3000356: 717,\n 2301024: 718,\n 2803780: 719,\n 2600119: 720,\n 2803204: 721,\n 2302117: 722,\n 3003524: 723,\n 2807915: 724,\n 2601029: 725,\n 2602840: 726,\n 3004142: 727,\n 2700839: 728,\n 2400067: 729,\n 3007059: 730,\n 3500081: 731,\n 3803514: 732,\n 3003555: 733,\n 2805873: 734,\n 2801431: 735,\n 2803824: 736,\n 2805916: 737,\n 3000622: 738,\n 2802980: 739,\n 2702094: 740,\n 2500073: 741,\n 2600012: 742,\n 2801519: 743,\n 2800250: 744,\n 2806293: 745,\n 2800769: 746,\n 2806294: 747,\n 2807212: 748,\n 2802924: 749,\n 2801432: 750,\n 2807950: 751,\n 2804280: 752,\n 2802718: 753,\n 2803786: 754,\n 2806211: 755,\n 2300107: 756,\n 2801409: 757,\n 2803631: 758,\n 2807521: 759,\n 4101485: 760,\n 2807824: 761,\n 2800070: 762,\n 2301235: 763,\n 2801345: 764,\n 2808016: 765,\n 2807378: 766,\n 2807814: 767,\n 2803074: 768,\n 3319982: 769,\n 3319975: 770,\n 3306638: 771,\n 3316960: 772,\n 3802499: 773,\n 3306400: 774,\n 2805677: 775,\n 3333560: 776,\n 3001496: 777,\n 3003493: 778,\n 2805923: 779,\n 2800908: 780,\n 2400907: 781,\n 2700476: 782,\n 2805626: 783,\n 2805455: 784,\n 2801433: 785,\n 2800230: 786,\n 2806207: 787,\n 2806795: 788,\n 2807347: 789,\n 2807611: 790,\n 2807385: 791,\n 3005096: 792,\n 2500001: 793,\n 2500678: 794,\n 2800301: 795,\n 2901012: 796,\n 2400875: 797,\n 2200253: 798,\n 2807852: 799,\n 2806966: 800,\n 4101778: 801,\n 2701120: 802,\n 2500267: 803,\n 2808019: 804,\n 2802940: 805,\n 2807869: 806,\n 2500035: 807,\n 2800052: 808,\n 2601383: 809,\n 2100160: 810,\n 2601386: 811,\n 2806139: 812,\n 2804648: 813,\n 2807847: 814,\n 3002977: 815,\n 3003005: 816,\n 3004568: 817,\n 2700617: 818,\n 3004089: 819,\n 2500091: 820,\n 3000568: 821,\n 3000463: 822,\n 3006426: 823,\n 3001930: 824,\n 2806510: 825,\n 3332168: 826,\n 3332132: 827,\n 2804054: 828,\n 3338502: 829,\n 2602638: 830,\n 2300483: 831,\n 2400680: 832,\n 2400725: 833,\n 2601579: 834,\n 2602719: 835,\n 2300366: 836,\n 2500287: 837,\n 3001929: 838,\n 3002300: 839,\n 3000671: 840,\n 3000700: 841,\n 2805309: 842,\n 3000303: 843,\n 2600241: 844,\n 3301104: 845,\n 3301103: 846,\n 2806309: 847,\n 2801418: 848,\n 2400406: 849,\n 3008746: 850,\n 3001571: 851,\n 2301019: 852,\n 2803300: 853,\n 2805299: 854,\n 2805706: 855,\n 2805637: 856,\n 2500254: 857,\n 2300969: 858,\n 2301028: 859,\n 2804415: 860,\n 2700842: 861,\n 2500576: 862,\n 3002970: 863,\n 3000577: 864,\n 3001803: 865,\n 2803052: 866,\n 3003847: 867,\n 3001810: 868,\n 3008300: 869,\n 3000002: 870,\n 3003019: 871,\n 3802510: 872,\n 3002927: 873,\n 3003016: 874,\n 2807493: 875,\n 2805311: 876,\n 2800295: 877,\n 2805741: 878,\n 2805914: 879,\n 2300873: 880,\n 3009711: 881,\n 2700493: 882,\n 2500534: 883,\n 2500377: 884,\n 2700911: 885,\n 2800687: 886,\n 2803781: 887,\n 3008314: 888,\n 3002271: 889,\n 3004995: 890,\n 3007431: 891,\n 3008315: 892,\n 3008453: 893,\n 3008603: 894,\n 2600479: 895,\n 2802865: 896,\n 3010079: 897,\n 3804507: 898,\n 2300959: 899,\n 2500379: 900,\n 2500533: 901,\n 3008325: 902,\n 3500130: 903,\n 3802567: 904,\n 3804133: 905,\n 2602606: 906,\n 3804522: 907,\n 3008651: 908,\n 2803475: 909,\n 2101274: 910,\n 3008496: 911,\n 2101396: 912,\n 2805312: 913,\n 2805120: 914,\n 2805275: 915,\n 3003425: 916,\n 2400722: 917,\n 2801004: 918,\n 2400114: 919,\n 2400884: 920,\n 2600136: 921,\n 2500095: 922,\n 2803642: 923,\n 2400756: 924,\n 2400041: 925,\n 2806287: 926,\n 2700072: 927,\n 2806281: 928,\n 2400012: 929,\n 2400517: 930,\n 2800651: 931,\n 2807952: 932,\n 2300259: 933,\n 2500092: 934,\n 2803292: 935,\n 3006435: 936,\n 3002297: 937,\n 2805296: 938,\n 2302094: 939,\n 2806590: 940,\n 3009290: 941,\n 2801422: 942,\n 2806880: 943,\n 2800053: 944,\n 2300050: 945,\n 2300051: 946,\n 2807829: 947,\n 2801344: 948,\n 2100116: 949,\n 2600044: 950,\n 2601581: 951,\n 2300095: 952,\n 4100228: 953,\n 2500216: 954,\n 2805298: 955,\n 2808015: 956,\n 2805295: 957,\n 4100224: 958,\n 4001417: 959,\n 2806920: 960,\n 4001418: 961,\n 2602843: 962,\n 2400883: 963,\n 2802973: 964,\n 2601381: 965,\n 2802931: 966,\n 2400018: 967,\n 2801334: 968,\n 2803736: 969,\n 2601380: 970,\n 3000368: 971,\n 2807859: 972,\n 2801403: 973,\n 2803793: 974,\n 3100169: 975,\n 2800356: 976,\n 2400085: 977,\n 2901111: 978,\n 2800289: 979,\n 2806208: 980,\n 2805300: 981,\n 2805454: 982,\n 4100208: 983,\n 3010044: 984,\n 3332900: 985,\n 3333065: 986,\n 2805105: 987,\n 2800622: 988,\n 3004374: 989,\n 2101275: 990,\n 2602760: 991,\n 2806158: 992,\n 3001113: 993,\n 2803785: 994,\n 2801351: 995,\n 2500043: 996,\n 2600036: 997,\n 2701703: 998,\n 3003164: 999,\n ...}"
     },
     "execution_count": 8,
     "metadata": {},
     "output_type": "execute_result"
    }
   ],
   "source": [
    "unique_product_code_dict"
   ],
   "metadata": {
    "collapsed": false,
    "pycharm": {
     "name": "#%%\n"
    }
   }
  },
  {
   "cell_type": "markdown",
   "source": [
    "## Create basket iterator"
   ],
   "metadata": {
    "collapsed": false,
    "pycharm": {
     "name": "#%% md\n"
    }
   }
  },
  {
   "cell_type": "code",
   "execution_count": 9,
   "outputs": [
    {
     "data": {
      "text/plain": "TaggedDocument(words=['human', 'interface', 'computer'], tags=[0])"
     },
     "execution_count": 9,
     "metadata": {},
     "output_type": "execute_result"
    }
   ],
   "source": [
    "# baskets = [TaggedDocument(product, i) for key, value in pro]\n",
    "documents = [TaggedDocument(doc, [i]) for i, doc in enumerate(common_texts)]\n",
    "documents[0]\n",
    "# model = Doc2Vec(documents, vector_size=5, window=2, min_count=1, workers=4)"
   ],
   "metadata": {
    "collapsed": false,
    "pycharm": {
     "name": "#%%\n"
    }
   }
  },
  {
   "cell_type": "code",
   "execution_count": 210,
   "outputs": [],
   "source": [
    "\n",
    "class tagged_basket_iterator:\n",
    "    def __init__(self, tb):\n",
    "        self._df = tb._df\n",
    "        self._index = 0\n",
    "\n",
    "    def __next__(self):\n",
    "        total_len = len(self._df)\n",
    "        if self._index >= total_len:\n",
    "            raise StopIteration\n",
    "        value = self._df.iloc[self._index]\n",
    "        tag = self._df.index[self._index]\n",
    "        self._index += 1\n",
    "        return TaggedDocument(words=value, tags=[tag])\n",
    "\n",
    "class tagged_baskets:\n",
    "    def __init__(self, df):\n",
    "        self._df = df\n",
    "\n",
    "    def __iter__(self):\n",
    "        return tagged_basket_iterator(self)"
   ],
   "metadata": {
    "collapsed": false,
    "pycharm": {
     "name": "#%%\n"
    }
   }
  },
  {
   "cell_type": "markdown",
   "source": [
    "## Make embeddings from Product Name"
   ],
   "metadata": {
    "collapsed": false,
    "pycharm": {
     "name": "#%% md\n"
    }
   }
  },
  {
   "cell_type": "code",
   "execution_count": 313,
   "outputs": [],
   "source": [
    "basket_df = basket_corpus['ProductName']\n",
    "basket_class = tagged_baskets(basket_df)\n",
    "model_name = Doc2Vec(basket_class,\n",
    "                dm=0,\n",
    "                dbow_words=1,\n",
    "                vector_size=128, #Tuned parameter\n",
    "                window=500,\n",
    "                epochs=10, #Tuned parameter\n",
    "                hs=1,\n",
    "                workers=4,\n",
    "                min_count=50 # We have 2M baskets. And if the item does not even exist in 50 baskets, the embedding quality will be poor. Better to drop than create a poor embedding\n",
    "           )"
   ],
   "metadata": {
    "collapsed": false,
    "pycharm": {
     "name": "#%%\n"
    }
   }
  },
  {
   "cell_type": "markdown",
   "source": [
    "## Save and Load model"
   ],
   "metadata": {
    "collapsed": false,
    "pycharm": {
     "name": "#%% md\n"
    }
   }
  },
  {
   "cell_type": "code",
   "execution_count": 314,
   "outputs": [],
   "source": [
    "# Save model\n",
    "model_name.save('train-by-name')\n",
    "# Load saved model\n",
    "model_name = Doc2Vec.load('train-by-name')"
   ],
   "metadata": {
    "collapsed": false,
    "pycharm": {
     "name": "#%%\n"
    }
   }
  },
  {
   "cell_type": "code",
   "execution_count": 326,
   "outputs": [
    {
     "data": {
      "text/plain": "'Satej Coconut Naru 200g'"
     },
     "execution_count": 326,
     "metadata": {},
     "output_type": "execute_result"
    }
   ],
   "source": [
    "unique_product_name[2]"
   ],
   "metadata": {
    "collapsed": false,
    "pycharm": {
     "name": "#%%\n"
    }
   }
  },
  {
   "cell_type": "code",
   "execution_count": 327,
   "outputs": [
    {
     "data": {
      "text/plain": "[('Satej Coconut Naru 200g', 1.0),\n ('J.M Special Chira Bhaja 200gm', 0.6699640154838562),\n ('Satej Shahi Khurma 150g', 0.6391971707344055),\n ('Oitijja Murali 300g', 0.6301323771476746),\n ('JMF.Special Nimki 100g', 0.6299176812171936),\n ('Satej Coconut Chips 100g', 0.6187284588813782),\n ('J.M Special Dal(Mug) Bhaja 200gm', 0.6187019944190979),\n ('Satej Badam Tana 1 Pcs', 0.6081887483596802),\n ('Satej Fry Badam Vaza 100g', 0.6067774891853333),\n ('J.M Special Badam Bhaja 200gm', 0.5982539653778076)]"
     },
     "execution_count": 327,
     "metadata": {},
     "output_type": "execute_result"
    }
   ],
   "source": [
    "index = model_name.wv.key_to_index[product_code2name[unique_product_code[2]]]\n",
    "[(name, probability) for (name, probability) in model_name.wv.most_similar(model_name.wv.vectors[index])]"
   ],
   "metadata": {
    "collapsed": false,
    "pycharm": {
     "name": "#%%\n"
    }
   }
  },
  {
   "cell_type": "markdown",
   "source": [
    "## Make embeddings from Product Code"
   ],
   "metadata": {
    "collapsed": false,
    "pycharm": {
     "name": "#%% md\n"
    }
   }
  },
  {
   "cell_type": "code",
   "execution_count": 315,
   "outputs": [],
   "source": [
    "basket_df = basket_corpus['ProductCode']\n",
    "model_code = Doc2Vec(tagged_baskets(basket_df),\n",
    "                    dm=0,\n",
    "                    dbow_words=1,\n",
    "                    vector_size=128, #Tuned parameter\n",
    "                    window=500,\n",
    "                    epochs=10, #Tuned parameter\n",
    "                    hs=1,\n",
    "                    workers=4,\n",
    "                    min_count=50 # We have 2M baskets. And if the item does not even exist in 50 baskets, the embedding quality will be poor. Better to drop than create a poor embedding\n",
    "               )"
   ],
   "metadata": {
    "collapsed": false,
    "pycharm": {
     "name": "#%%\n"
    }
   }
  },
  {
   "cell_type": "markdown",
   "source": [
    "## Save and Load model"
   ],
   "metadata": {
    "collapsed": false,
    "pycharm": {
     "name": "#%% md\n"
    }
   }
  },
  {
   "cell_type": "code",
   "execution_count": 319,
   "outputs": [],
   "source": [
    "# Save model\n",
    "model_code.save('train-by-code')\n",
    "# Load saved model\n",
    "model_code = Doc2Vec.load('train-by-code')"
   ],
   "metadata": {
    "collapsed": false,
    "pycharm": {
     "name": "#%%\n"
    }
   }
  },
  {
   "cell_type": "markdown",
   "source": [
    "## Generate context words"
   ],
   "metadata": {
    "collapsed": false,
    "pycharm": {
     "name": "#%% md\n"
    }
   }
  },
  {
   "cell_type": "code",
   "execution_count": 322,
   "outputs": [
    {
     "data": {
      "text/plain": "'Satej Coconut Naru 200g'"
     },
     "execution_count": 322,
     "metadata": {},
     "output_type": "execute_result"
    }
   ],
   "source": [
    "unique_product_name[2]"
   ],
   "metadata": {
    "collapsed": false,
    "pycharm": {
     "name": "#%%\n"
    }
   }
  },
  {
   "cell_type": "code",
   "execution_count": 324,
   "outputs": [
    {
     "data": {
      "text/plain": "[('Satej Coconut Naru 200g', 1.0),\n ('Oitijja Murali 300g', 0.6677554249763489),\n ('JMF.Special Nimki 100g', 0.6544570326805115),\n ('J.M Special Chira Bhaja 200gm', 0.6524658203125),\n ('J.M Special Badam Bhaja 200gm', 0.6515520215034485),\n ('J.M Special Dal(Mug) Bhaja 200gm', 0.6346307992935181),\n ('Satej Shahi Khurma 150g', 0.6094410419464111),\n ('Satej Chira Vaza 200g', 0.6005433201789856),\n ('Satej Muri Moya 12pcs Pack', 0.5938534140586853),\n ('Satej Oithoya 100g', 0.5884043574333191)]"
     },
     "execution_count": 324,
     "metadata": {},
     "output_type": "execute_result"
    }
   ],
   "source": [
    "index = model_code.wv.key_to_index[product_name2code[unique_product_name[2]]]\n",
    "[(product_code2name[code], probability) for (code, probability) in model_code.wv.most_similar(model_code.wv.vectors[index])]"
   ],
   "metadata": {
    "collapsed": false,
    "pycharm": {
     "name": "#%%\n"
    }
   }
  },
  {
   "cell_type": "code",
   "execution_count": 241,
   "outputs": [
    {
     "data": {
      "text/plain": "[(2400346, 0.001988597),\n (2813350, 0.0011625664),\n (2702979, 0.0011463923),\n (3372903, 0.0011119131),\n (3015597, 0.0011029616),\n (2800589, 0.0010963166),\n (2809948, 0.0010556945),\n (2811951, 0.0010240444),\n (2500946, 0.0009893847),\n (2808518, 0.0009785686)]"
     },
     "execution_count": 241,
     "metadata": {},
     "output_type": "execute_result"
    }
   ],
   "source": [],
   "metadata": {
    "collapsed": false,
    "pycharm": {
     "name": "#%%\n"
    }
   }
  },
  {
   "cell_type": "code",
   "execution_count": 240,
   "outputs": [
    {
     "name": "stdout",
     "output_type": "stream",
     "text": [
      "Olitalia Pure Olive Oil 100 ml 0.001910133\n",
      "meril glycerin 60 gm 0.0015893462\n",
      "Oral-B Sensitive Tooth Brush Extra Soft 0.0013102316\n",
      "Vaseline P.Petroleum Original Jelly 100m 0.0011111205\n",
      "Danish Pineapple S.Cream Biscuits 63g 0.0010631962\n",
      "Betaseptic Hand Rub 250ml 0.0010589052\n",
      "Bisk Club Shero Cream Biscuit 85g 0.0010538296\n",
      "Johnsons Baby Cream Jar 50g(imp) 0.0010461066\n",
      "YC Lip Care F.S. Strawberry Lip Gel 3.8g 0.0010138301\n",
      "RS Extra Virgen Olive Oil Tin 200ml 0.0009849513\n"
     ]
    }
   ],
   "source": [
    "context_products = []\n",
    "for p_name, probability in model_code.predict_output_word(basket_corpus['ProductName'].tolist()[120][0:1]):\n",
    "    # print(product_name_map[pcode], probability)\n",
    "    print(p_name, probability)\n",
    "\n",
    "# context_products"
   ],
   "metadata": {
    "collapsed": false,
    "pycharm": {
     "name": "#%%\n"
    }
   }
  },
  {
   "cell_type": "code",
   "execution_count": 239,
   "outputs": [
    {
     "name": "stdout",
     "output_type": "stream",
     "text": [
      "Olitalia Pure Olive Oil 100 ml 0.001988597\n",
      "Shwapno Boot Vaza 100g(B) 0.0011625664\n",
      "Ahmed Garlic Paste 100g 0.0011463923\n",
      "S201165 Neema Thai 0.0011119131\n",
      "Tresemme Keratin Smooth Shampoo 580ml 0.0011029616\n",
      "Richi Beef Kabab 12 pcs 0.0010963166\n",
      "Danish Pineapple S.Cream Biscuits 63g 0.0010556945\n",
      "Globe Tiffin Strawb. Biscuits 25g 0.0010240444\n",
      "Pran Premium Butter 200g (Box) 0.0009893847\n",
      "Knorr Classic Chicken Corn Soup 24g 0.0009785686\n"
     ]
    }
   ],
   "source": [
    "for pcode, probability in model2.predict_output_word(basket_corpus['ProductCode'].tolist()[120][0:1]):\n",
    "    print(product_name_map[pcode], probability)"
   ],
   "metadata": {
    "collapsed": false,
    "pycharm": {
     "name": "#%%\n"
    }
   }
  },
  {
   "cell_type": "code",
   "execution_count": 119,
   "outputs": [
    {
     "name": "stdout",
     "output_type": "stream",
     "text": [
      "Pepsi Pet Bottle 2000ml\n"
     ]
    }
   ],
   "source": [
    "for pcode in basket_corpus['ProductCode'].tolist()[1000][3:4]:\n",
    "    print(product_name_map[pcode])"
   ],
   "metadata": {
    "collapsed": false,
    "pycharm": {
     "name": "#%%\n"
    }
   }
  },
  {
   "cell_type": "code",
   "execution_count": 167,
   "outputs": [
    {
     "data": {
      "text/plain": "(233864, 6)"
     },
     "execution_count": 167,
     "metadata": {},
     "output_type": "execute_result"
    }
   ],
   "source": [
    "(2400346, 0.001988597),\n",
    " (2813350, 0.0011625664),\n",
    " (2702979, 0.0011463923),\n",
    " (3372903, 0.0011119131),\n",
    " (3015597, 0.0011029616),\n",
    " (2800589, 0.0010963166),\n",
    " (2809948, 0.0010556945),\n",
    " (2811951, 0.0010240444),\n",
    " (2500946, 0.0009893847),\n",
    " (2808518, 0.0009785686)"
   ],
   "metadata": {
    "collapsed": false,
    "pycharm": {
     "name": "#%%\n"
    }
   }
  },
  {
   "cell_type": "markdown",
   "source": [
    "## Save or load the model"
   ],
   "metadata": {
    "collapsed": false,
    "pycharm": {
     "name": "#%% md\n"
    }
   }
  },
  {
   "cell_type": "code",
   "execution_count": 178,
   "outputs": [],
   "source": [
    "# Save model\n",
    "model.save('saved_model.model')"
   ],
   "metadata": {
    "collapsed": false,
    "pycharm": {
     "name": "#%%\n"
    }
   }
  },
  {
   "cell_type": "code",
   "execution_count": 179,
   "outputs": [],
   "source": [
    "# Load saved model\n",
    "model2 = Doc2Vec.load('saved_model')"
   ],
   "metadata": {
    "collapsed": false,
    "pycharm": {
     "name": "#%%\n"
    }
   }
  },
  {
   "cell_type": "code",
   "execution_count": 320,
   "outputs": [
    {
     "data": {
      "text/plain": "'Satej Coconut Naru 200g'"
     },
     "execution_count": 320,
     "metadata": {},
     "output_type": "execute_result"
    }
   ],
   "source": [
    "unique_product_name[2]"
   ],
   "metadata": {
    "collapsed": false,
    "pycharm": {
     "name": "#%%\n"
    }
   }
  },
  {
   "cell_type": "code",
   "execution_count": 321,
   "outputs": [
    {
     "data": {
      "text/plain": "[('Satej Coconut Naru 200g', 1.0),\n ('Oitijja Murali 300g', 0.6677554249763489),\n ('JMF.Special Nimki 100g', 0.6544570326805115),\n ('J.M Special Chira Bhaja 200gm', 0.6524658203125),\n ('J.M Special Badam Bhaja 200gm', 0.6515520215034485),\n ('J.M Special Dal(Mug) Bhaja 200gm', 0.6346307992935181),\n ('Satej Shahi Khurma 150g', 0.6094410419464111),\n ('Satej Chira Vaza 200g', 0.6005433201789856),\n ('Satej Muri Moya 12pcs Pack', 0.5938534140586853),\n ('Satej Oithoya 100g', 0.5884043574333191)]"
     },
     "execution_count": 321,
     "metadata": {},
     "output_type": "execute_result"
    }
   ],
   "source": [
    "index = model_code.wv.key_to_index[product_name2code[unique_product_name[2]]]\n",
    "[(product_code2name[code], probability) for (code, probability) in model_code.wv.most_similar(model_code.wv.vectors[index])]"
   ],
   "metadata": {
    "collapsed": false,
    "pycharm": {
     "name": "#%%\n"
    }
   }
  },
  {
   "cell_type": "code",
   "execution_count": 310,
   "outputs": [
    {
     "data": {
      "text/plain": "[('Satej Coconut Naru 200g', 1.0),\n ('J.M Special Dal(Mug) Bhaja 200gm', 0.6655147075653076),\n ('Oitijja Murali 300g', 0.6228452920913696),\n ('JMF.Special Nimki 100g', 0.6131789684295654),\n ('J.M Special Badam Bhaja 200gm', 0.6129363775253296),\n ('Satej Shahi Khurma 150g', 0.6109143495559692),\n ('Satej Coconut Chips 100g', 0.5929478406906128),\n ('Satej Nimki 200g', 0.5929191708564758),\n ('J.M Special Dabli Bhaja 200gm', 0.5891609191894531),\n ('J.M Special Chira Bhaja 200gm', 0.5804669857025146)]"
     },
     "execution_count": 310,
     "metadata": {},
     "output_type": "execute_result"
    }
   ],
   "source": [
    "index = model_code.wv.key_to_index[product_code2name[unique_product_code[2]]]\n",
    "[(name, probability) for (name, probability) in model_code.wv.most_similar(model_code.wv.vectors[index])]"
   ],
   "metadata": {
    "collapsed": false,
    "pycharm": {
     "name": "#%%\n"
    }
   }
  },
  {
   "cell_type": "code",
   "execution_count": 209,
   "outputs": [
    {
     "data": {
      "text/plain": "0.07981811"
     },
     "execution_count": 209,
     "metadata": {},
     "output_type": "execute_result"
    }
   ],
   "source": [
    "# model.make_cum_table()\n",
    "model.prepare_vocab()\n",
    "model.similarity_unseen_docs(str(basket_corpus['ProductCode'].tolist()[1]).strip('[]').split(', '), str(basket_corpus['ProductCode'].tolist()[-10]).strip('[]').split(', '))\n",
    "\n"
   ],
   "metadata": {
    "collapsed": false,
    "pycharm": {
     "name": "#%%\n"
    }
   }
  },
  {
   "cell_type": "code",
   "execution_count": 172,
   "outputs": [
    {
     "name": "stdout",
     "output_type": "stream",
     "text": [
      "Pepsi Pet Bottle 2000ml \n",
      "\n",
      "Banana Sun Facing (Surjamukhi Kola) 1.420524001121521\n",
      "X-Roast(Promo)Pcs 1.3727611303329468\n",
      "S201011 Birthday Cap Long BCL 1/2M 1.169028878211975\n",
      "Banana Red Sobri (Agni Sobri) 0.8870706558227539\n",
      "AG Food Luchi 10Pcs 350g 0.8562366962432861\n",
      "Cauliflower (Fulcopy) PCS 0.8260385394096375\n",
      "Biotique Coconut Hair Oil 200ml 0.7967800498008728\n",
      "Naturally Fair Soap 100g 0.7532094120979309\n",
      "Shwapno Toilet Tissue Gold 0.7513838410377502\n",
      "Koyeler Mangsho Dressed 55g(Pcs) 0.7372216582298279\n"
     ]
    }
   ],
   "source": [
    "print(product_name_map[basket_corpus['ProductCode'].tolist()[1000][3]], '\\n')\n",
    "for pcode, similarity in model.wv.most_similar(basket_corpus['ProductCode'].tolist()[1000][3:4]):\n",
    "    print(product_name_map[pcode], similarity)\n",
    "\n",
    "\n",
    "# for inv_code, similarity in model.dv.most_similar(['D0071501040269']):\n",
    "#     print(basket_corpus.loc[inv_code, :][1], similarity)\n",
    "\n",
    "# for pcode, similarity in model.dv.most_similar(['D0071501040269']):\n",
    "#     print(product_name_map[pcode], similarity)\n",
    "# model.infer_vector([2300006, 2300007, 2300008, 2300009])"
   ],
   "metadata": {
    "collapsed": false,
    "pycharm": {
     "name": "#%%\n"
    }
   }
  },
  {
   "cell_type": "code",
   "execution_count": null,
   "outputs": [],
   "source": [
    "ranks = []\n",
    "second_ranks = []\n",
    "for doc_id in range(len(train_corpus)):\n",
    "    inferred_vector = model.infer_vector(train_corpus[doc_id].words)\n",
    "    sims = model.dv.most_similar([inferred_vector], topn=len(model.dv))\n",
    "    rank = [docid for docid, sim in sims].index(doc_id)\n",
    "    ranks.append(rank)\n",
    "\n",
    "    second_ranks.append(sims[1])"
   ],
   "metadata": {
    "collapsed": false,
    "pycharm": {
     "name": "#%%\n"
    }
   }
  },
  {
   "cell_type": "code",
   "execution_count": 2,
   "outputs": [],
   "source": [
    "\n",
    "\n",
    "invoice_data = pd.read_csv('./input/invoice_data_2.csv')\n",
    "invoice_data[['SalesQTY']] = invoice_data[['SalesQTY']].astype(int)\n",
    "product_name_map =invoice_data[['ProductCode','ProductName']].drop_duplicates().set_index('ProductName').to_dict()['ProductCode']\n",
    "unique_product_code_dict = {value: key for key, value in invoice_data[['ProductCode']].drop_duplicates(ignore_index=True).to_dict()['ProductCode'].items()}\n",
    "unique_product_name_dict = {value: key for key, value in invoice_data[['ProductName']].drop_duplicates(ignore_index=True).to_dict()['ProductName'].items()}\n",
    "\n",
    "baskets = invoice_data.loc[invoice_data.index.repeat(invoice_data['SalesQTY'])].groupby('Invoiceno')['ProductCode'].apply(list)\n",
    "products_in_basket = invoice_data.loc[invoice_data.index.repeat(invoice_data['SalesQTY'])].groupby('Invoiceno')['ProductName'].apply(list)\n",
    "basket_corpus = pd.concat([baskets, products_in_basket], axis=1)\n",
    "\n",
    "# window = 2\n",
    "\n",
    "# table = invoice_data.groupby(['Invoiceno', 'ProductCode'])['SalesQTY'].apply(list)\n",
    "# invoice_data.groupby(['Invoiceno', 'ProductCode'])['SalesQTY'].apply(list)\n",
    "# invoice_data.groupby('Invoiceno')['ProductCode'].apply(list)\n",
    "\n",
    "# invoice_data.groupby('Invoiceno')['ProductName'].apply(list)\n",
    "# invoice = invoice_data[]\n",
    "# invoice_data.loc[invoice_data[\"Invoiceno\"]==invoice]\n",
    "# x = []\n",
    "# for invoice in invoice_data['Invoiceno'].unique():\n",
    "#     x.append(invoice_data.loc[invoice_data[\"Invoiceno\"]==invoice]['ProductCode'])\n"
   ],
   "metadata": {
    "collapsed": false,
    "pycharm": {
     "name": "#%%\n"
    }
   }
  },
  {
   "cell_type": "code",
   "execution_count": 31,
   "outputs": [
    {
     "name": "stdout",
     "output_type": "stream",
     "text": [
      "2021-02-21 International Mother's language Day\n",
      "2021-03-17 Sheikh Mujibur Rahman's Birthday and Children's Day\n",
      "2021-03-26 Independence Day\n",
      "2021-04-14 Bengali New Year's Day\n",
      "2021-05-01 May Day\n",
      "2021-08-15 National Mourning Day\n",
      "2021-12-16 Victory Day\n"
     ]
    }
   ],
   "source": [
    "# invoice_data\n",
    "# date(2022, 5,2)\n",
    "bd_holidays = holidays.BD(years=2021)\n",
    "# date(2021, 5, 3) in bd_holidays\n",
    "# bd_holidays.items()\n",
    "for date, name in sorted(bd_holidays.items()):\n",
    "    print(date, name)"
   ],
   "metadata": {
    "collapsed": false,
    "pycharm": {
     "name": "#%%\n"
    }
   }
  },
  {
   "cell_type": "code",
   "execution_count": 18,
   "outputs": [
    {
     "data": {
      "text/plain": "pandas.core.series.Series"
     },
     "execution_count": 18,
     "metadata": {},
     "output_type": "execute_result"
    }
   ],
   "source": [
    "type(baskets)"
   ],
   "metadata": {
    "collapsed": false,
    "pycharm": {
     "name": "#%%\n"
    }
   }
  },
  {
   "cell_type": "code",
   "execution_count": 8,
   "outputs": [],
   "source": [
    "window = max(baskets.apply(len))\n",
    "# window = 10\n",
    "product_lists = []\n",
    "name_lists = []\n",
    "all_products = []\n",
    "all_product_names = []\n",
    "\n",
    "for basket, product_names in zip(baskets, products_in_basket):\n",
    "    # text = clean_text(text)\n",
    "    all_products += basket\n",
    "    all_product_names += product_names\n",
    "    for i, (product, name) in enumerate(zip(basket, product_names)):\n",
    "        for w in range(window):\n",
    "            if i+1+w < len(basket):\n",
    "                product_lists.append([product]+[basket[(i+1+w)]])\n",
    "                name_lists.append([name]+[product_names[(i+1+w)]])\n"
   ],
   "metadata": {
    "collapsed": false,
    "pycharm": {
     "name": "#%%\n"
    }
   }
  },
  {
   "cell_type": "code",
   "execution_count": 11,
   "outputs": [
    {
     "data": {
      "text/plain": "[[2800294, 2700815],\n [2800294, 2500002],\n [2800294, 2500002],\n [2800294, 2400365],\n [2800294, 2400365],\n [2800294, 2700125],\n [2800294, 2700155],\n [2800294, 2700155],\n [2800294, 2700155],\n [2800294, 2700737],\n [2800294, 2700739],\n [2800294, 2700745],\n [2800294, 3002785],\n [2800294, 2801328],\n [2800294, 2801328],\n [2800294, 2801328],\n [2800294, 2400019],\n [2800294, 2500067],\n [2800294, 2500067],\n [2800294, 2500067],\n [2800294, 2500067],\n [2800294, 2600272],\n [2700815, 2500002],\n [2700815, 2500002],\n [2700815, 2400365],\n [2700815, 2400365],\n [2700815, 2700125],\n [2700815, 2700155],\n [2700815, 2700155],\n [2700815, 2700155],\n [2700815, 2700737],\n [2700815, 2700739],\n [2700815, 2700745],\n [2700815, 3002785],\n [2700815, 2801328],\n [2700815, 2801328],\n [2700815, 2801328],\n [2700815, 2400019],\n [2700815, 2500067],\n [2700815, 2500067],\n [2700815, 2500067],\n [2700815, 2500067],\n [2700815, 2600272],\n [2500002, 2500002],\n [2500002, 2400365],\n [2500002, 2400365],\n [2500002, 2700125],\n [2500002, 2700155],\n [2500002, 2700155],\n [2500002, 2700155],\n [2500002, 2700737],\n [2500002, 2700739],\n [2500002, 2700745],\n [2500002, 3002785],\n [2500002, 2801328],\n [2500002, 2801328],\n [2500002, 2801328],\n [2500002, 2400019],\n [2500002, 2500067],\n [2500002, 2500067],\n [2500002, 2500067],\n [2500002, 2500067],\n [2500002, 2600272],\n [2500002, 2400365],\n [2500002, 2400365],\n [2500002, 2700125],\n [2500002, 2700155],\n [2500002, 2700155],\n [2500002, 2700155],\n [2500002, 2700737],\n [2500002, 2700739],\n [2500002, 2700745],\n [2500002, 3002785],\n [2500002, 2801328],\n [2500002, 2801328],\n [2500002, 2801328],\n [2500002, 2400019],\n [2500002, 2500067],\n [2500002, 2500067],\n [2500002, 2500067],\n [2500002, 2500067],\n [2500002, 2600272],\n [2400365, 2400365],\n [2400365, 2700125],\n [2400365, 2700155],\n [2400365, 2700155],\n [2400365, 2700155],\n [2400365, 2700737],\n [2400365, 2700739],\n [2400365, 2700745],\n [2400365, 3002785],\n [2400365, 2801328],\n [2400365, 2801328],\n [2400365, 2801328],\n [2400365, 2400019],\n [2400365, 2500067],\n [2400365, 2500067],\n [2400365, 2500067],\n [2400365, 2500067],\n [2400365, 2600272],\n [2400365, 2700125],\n [2400365, 2700155],\n [2400365, 2700155],\n [2400365, 2700155],\n [2400365, 2700737],\n [2400365, 2700739],\n [2400365, 2700745],\n [2400365, 3002785],\n [2400365, 2801328],\n [2400365, 2801328],\n [2400365, 2801328],\n [2400365, 2400019],\n [2400365, 2500067],\n [2400365, 2500067],\n [2400365, 2500067],\n [2400365, 2500067],\n [2400365, 2600272],\n [2700125, 2700155],\n [2700125, 2700155],\n [2700125, 2700155],\n [2700125, 2700737],\n [2700125, 2700739],\n [2700125, 2700745],\n [2700125, 3002785],\n [2700125, 2801328],\n [2700125, 2801328],\n [2700125, 2801328],\n [2700125, 2400019],\n [2700125, 2500067],\n [2700125, 2500067],\n [2700125, 2500067],\n [2700125, 2500067],\n [2700125, 2600272],\n [2700155, 2700155],\n [2700155, 2700155],\n [2700155, 2700737],\n [2700155, 2700739],\n [2700155, 2700745],\n [2700155, 3002785],\n [2700155, 2801328],\n [2700155, 2801328],\n [2700155, 2801328],\n [2700155, 2400019],\n [2700155, 2500067],\n [2700155, 2500067],\n [2700155, 2500067],\n [2700155, 2500067],\n [2700155, 2600272],\n [2700155, 2700155],\n [2700155, 2700737],\n [2700155, 2700739],\n [2700155, 2700745],\n [2700155, 3002785],\n [2700155, 2801328],\n [2700155, 2801328],\n [2700155, 2801328],\n [2700155, 2400019],\n [2700155, 2500067],\n [2700155, 2500067],\n [2700155, 2500067],\n [2700155, 2500067],\n [2700155, 2600272],\n [2700155, 2700737],\n [2700155, 2700739],\n [2700155, 2700745],\n [2700155, 3002785],\n [2700155, 2801328],\n [2700155, 2801328],\n [2700155, 2801328],\n [2700155, 2400019],\n [2700155, 2500067],\n [2700155, 2500067],\n [2700155, 2500067],\n [2700155, 2500067],\n [2700155, 2600272],\n [2700737, 2700739],\n [2700737, 2700745],\n [2700737, 3002785],\n [2700737, 2801328],\n [2700737, 2801328],\n [2700737, 2801328],\n [2700737, 2400019],\n [2700737, 2500067],\n [2700737, 2500067],\n [2700737, 2500067],\n [2700737, 2500067],\n [2700737, 2600272],\n [2700739, 2700745],\n [2700739, 3002785],\n [2700739, 2801328],\n [2700739, 2801328],\n [2700739, 2801328],\n [2700739, 2400019],\n [2700739, 2500067],\n [2700739, 2500067],\n [2700739, 2500067],\n [2700739, 2500067],\n [2700739, 2600272],\n [2700745, 3002785],\n [2700745, 2801328],\n [2700745, 2801328],\n [2700745, 2801328],\n [2700745, 2400019],\n [2700745, 2500067],\n [2700745, 2500067],\n [2700745, 2500067],\n [2700745, 2500067],\n [2700745, 2600272],\n [3002785, 2801328],\n [3002785, 2801328],\n [3002785, 2801328],\n [3002785, 2400019],\n [3002785, 2500067],\n [3002785, 2500067],\n [3002785, 2500067],\n [3002785, 2500067],\n [3002785, 2600272],\n [2801328, 2801328],\n [2801328, 2801328],\n [2801328, 2400019],\n [2801328, 2500067],\n [2801328, 2500067],\n [2801328, 2500067],\n [2801328, 2500067],\n [2801328, 2600272],\n [2801328, 2801328],\n [2801328, 2400019],\n [2801328, 2500067],\n [2801328, 2500067],\n [2801328, 2500067],\n [2801328, 2500067],\n [2801328, 2600272],\n [2801328, 2400019],\n [2801328, 2500067],\n [2801328, 2500067],\n [2801328, 2500067],\n [2801328, 2500067],\n [2801328, 2600272],\n [2400019, 2500067],\n [2400019, 2500067],\n [2400019, 2500067],\n [2400019, 2500067],\n [2400019, 2600272],\n [2500067, 2500067],\n [2500067, 2500067],\n [2500067, 2500067],\n [2500067, 2600272],\n [2500067, 2500067],\n [2500067, 2500067],\n [2500067, 2600272],\n [2500067, 2500067],\n [2500067, 2600272],\n [2500067, 2600272],\n [2801390, 2600241],\n [2801390, 2802211],\n [2801390, 2802211],\n [2801390, 2801004],\n [2801390, 2600021],\n [2801390, 2600021],\n [2801390, 2600021],\n [2801390, 2800393],\n [2801390, 2800360],\n [2801390, 2803106],\n [2600241, 2802211],\n [2600241, 2802211],\n [2600241, 2801004],\n [2600241, 2600021],\n [2600241, 2600021],\n [2600241, 2600021],\n [2600241, 2800393],\n [2600241, 2800360],\n [2600241, 2803106],\n [2802211, 2802211],\n [2802211, 2801004],\n [2802211, 2600021],\n [2802211, 2600021],\n [2802211, 2600021],\n [2802211, 2800393],\n [2802211, 2800360],\n [2802211, 2803106],\n [2802211, 2801004],\n [2802211, 2600021],\n [2802211, 2600021],\n [2802211, 2600021],\n [2802211, 2800393],\n [2802211, 2800360],\n [2802211, 2803106],\n [2801004, 2600021],\n [2801004, 2600021],\n [2801004, 2600021],\n [2801004, 2800393],\n [2801004, 2800360],\n [2801004, 2803106],\n [2600021, 2600021],\n [2600021, 2600021],\n [2600021, 2800393],\n [2600021, 2800360],\n [2600021, 2803106],\n [2600021, 2600021],\n [2600021, 2800393],\n [2600021, 2800360],\n [2600021, 2803106],\n [2600021, 2800393],\n [2600021, 2800360],\n [2600021, 2803106],\n [2800393, 2800360],\n [2800393, 2803106],\n [2800360, 2803106],\n [2801402, 2800525],\n [2801402, 2800525],\n [2801402, 2803115],\n [2801402, 2803115],\n [2801402, 2803115],\n [2801402, 2803115],\n [2801402, 2803115],\n [2801402, 2803115],\n [2801402, 2801347],\n [2801402, 2802623],\n [2800525, 2800525],\n [2800525, 2803115],\n [2800525, 2803115],\n [2800525, 2803115],\n [2800525, 2803115],\n [2800525, 2803115],\n [2800525, 2803115],\n [2800525, 2801347],\n [2800525, 2802623],\n [2800525, 2803115],\n [2800525, 2803115],\n [2800525, 2803115],\n [2800525, 2803115],\n [2800525, 2803115],\n [2800525, 2803115],\n [2800525, 2801347],\n [2800525, 2802623],\n [2803115, 2803115],\n [2803115, 2803115],\n [2803115, 2803115],\n [2803115, 2803115],\n [2803115, 2803115],\n [2803115, 2801347],\n [2803115, 2802623],\n [2803115, 2803115],\n [2803115, 2803115],\n [2803115, 2803115],\n [2803115, 2803115],\n [2803115, 2801347],\n [2803115, 2802623],\n [2803115, 2803115],\n [2803115, 2803115],\n [2803115, 2803115],\n [2803115, 2801347],\n [2803115, 2802623],\n [2803115, 2803115],\n [2803115, 2803115],\n [2803115, 2801347],\n [2803115, 2802623],\n [2803115, 2803115],\n [2803115, 2801347],\n [2803115, 2802623],\n [2803115, 2801347],\n [2803115, 2802623],\n [2801347, 2802623],\n [2802937, 2803123],\n [2802937, 2803123],\n [2802937, 2803093],\n [2802937, 2803121],\n [2802937, 2803124],\n [2803123, 2803123],\n [2803123, 2803093],\n [2803123, 2803121],\n [2803123, 2803124],\n [2803123, 2803093],\n [2803123, 2803121],\n [2803123, 2803124],\n [2803093, 2803121],\n [2803093, 2803124],\n [2803121, 2803124],\n [2500066, 2500066],\n [2500066, 2500066],\n [2500066, 2500066],\n [2500066, 2500002],\n [2500066, 2300011],\n [2500066, 2300011],\n [2500066, 2500066],\n [2500066, 2500066],\n [2500066, 2500002],\n [2500066, 2300011],\n [2500066, 2300011],\n [2500066, 2500066],\n [2500066, 2500002],\n [2500066, 2300011],\n [2500066, 2300011],\n [2500066, 2500002],\n [2500066, 2300011],\n [2500066, 2300011],\n [2500002, 2300011],\n [2500002, 2300011],\n [2300011, 2300011],\n [2800303, 2400475],\n [2800303, 2800286],\n [2400475, 2800286],\n [2803106, 2500035],\n [2803106, 2500035],\n [2803106, 2500035],\n [2803106, 2500035],\n [2803106, 2500035],\n [2803106, 3002216],\n [2803106, 2600016],\n [2803106, 2600016],\n [2803106, 2600016],\n [2803106, 2600016],\n [2803106, 2300304],\n [2803106, 2800112],\n [2803106, 2800112],\n [2803106, 3000383],\n [2803106, 2500031],\n [2803106, 2801652],\n [2803106, 2900525],\n [2500035, 2500035],\n [2500035, 2500035],\n [2500035, 2500035],\n [2500035, 2500035],\n [2500035, 3002216],\n [2500035, 2600016],\n [2500035, 2600016],\n [2500035, 2600016],\n [2500035, 2600016],\n [2500035, 2300304],\n [2500035, 2800112],\n [2500035, 2800112],\n [2500035, 3000383],\n [2500035, 2500031],\n [2500035, 2801652],\n [2500035, 2900525],\n [2500035, 2500035],\n [2500035, 2500035],\n [2500035, 2500035],\n [2500035, 3002216],\n [2500035, 2600016],\n [2500035, 2600016],\n [2500035, 2600016],\n [2500035, 2600016],\n [2500035, 2300304],\n [2500035, 2800112],\n [2500035, 2800112],\n [2500035, 3000383],\n [2500035, 2500031],\n [2500035, 2801652],\n [2500035, 2900525],\n [2500035, 2500035],\n [2500035, 2500035],\n [2500035, 3002216],\n [2500035, 2600016],\n [2500035, 2600016],\n [2500035, 2600016],\n [2500035, 2600016],\n [2500035, 2300304],\n [2500035, 2800112],\n [2500035, 2800112],\n [2500035, 3000383],\n [2500035, 2500031],\n [2500035, 2801652],\n [2500035, 2900525],\n [2500035, 2500035],\n [2500035, 3002216],\n [2500035, 2600016],\n [2500035, 2600016],\n [2500035, 2600016],\n [2500035, 2600016],\n [2500035, 2300304],\n [2500035, 2800112],\n [2500035, 2800112],\n [2500035, 3000383],\n [2500035, 2500031],\n [2500035, 2801652],\n [2500035, 2900525],\n [2500035, 3002216],\n [2500035, 2600016],\n [2500035, 2600016],\n [2500035, 2600016],\n [2500035, 2600016],\n [2500035, 2300304],\n [2500035, 2800112],\n [2500035, 2800112],\n [2500035, 3000383],\n [2500035, 2500031],\n [2500035, 2801652],\n [2500035, 2900525],\n [3002216, 2600016],\n [3002216, 2600016],\n [3002216, 2600016],\n [3002216, 2600016],\n [3002216, 2300304],\n [3002216, 2800112],\n [3002216, 2800112],\n [3002216, 3000383],\n [3002216, 2500031],\n [3002216, 2801652],\n [3002216, 2900525],\n [2600016, 2600016],\n [2600016, 2600016],\n [2600016, 2600016],\n [2600016, 2300304],\n [2600016, 2800112],\n [2600016, 2800112],\n [2600016, 3000383],\n [2600016, 2500031],\n [2600016, 2801652],\n [2600016, 2900525],\n [2600016, 2600016],\n [2600016, 2600016],\n [2600016, 2300304],\n [2600016, 2800112],\n [2600016, 2800112],\n [2600016, 3000383],\n [2600016, 2500031],\n [2600016, 2801652],\n [2600016, 2900525],\n [2600016, 2600016],\n [2600016, 2300304],\n [2600016, 2800112],\n [2600016, 2800112],\n [2600016, 3000383],\n [2600016, 2500031],\n [2600016, 2801652],\n [2600016, 2900525],\n [2600016, 2300304],\n [2600016, 2800112],\n [2600016, 2800112],\n [2600016, 3000383],\n [2600016, 2500031],\n [2600016, 2801652],\n [2600016, 2900525],\n [2300304, 2800112],\n [2300304, 2800112],\n [2300304, 3000383],\n [2300304, 2500031],\n [2300304, 2801652],\n [2300304, 2900525],\n [2800112, 2800112],\n [2800112, 3000383],\n [2800112, 2500031],\n [2800112, 2801652],\n [2800112, 2900525],\n [2800112, 3000383],\n [2800112, 2500031],\n [2800112, 2801652],\n [2800112, 2900525],\n [3000383, 2500031],\n [3000383, 2801652],\n [3000383, 2900525],\n [2500031, 2801652],\n [2500031, 2900525],\n [2801652, 2900525],\n [2200026, 2700063],\n [2200026, 2700053],\n [2200026, 2500088],\n [2200026, 2300365],\n [2200026, 2600101],\n [2200026, 2700326],\n [2200026, 2801886],\n [2200026, 2700479],\n [2200026, 2800243],\n [2200026, 2100227],\n [2200026, 2400033],\n [2200026, 2801632],\n [2200026, 2400029],\n [2200026, 2200011],\n [2200026, 2400059],\n [2200026, 2400059],\n [2200026, 2400059],\n [2700063, 2700053],\n [2700063, 2500088],\n [2700063, 2300365],\n [2700063, 2600101],\n [2700063, 2700326],\n [2700063, 2801886],\n [2700063, 2700479],\n [2700063, 2800243],\n [2700063, 2100227],\n [2700063, 2400033],\n [2700063, 2801632],\n [2700063, 2400029],\n [2700063, 2200011],\n [2700063, 2400059],\n [2700063, 2400059],\n [2700063, 2400059],\n [2700053, 2500088],\n [2700053, 2300365],\n [2700053, 2600101],\n [2700053, 2700326],\n [2700053, 2801886],\n [2700053, 2700479],\n [2700053, 2800243],\n [2700053, 2100227],\n [2700053, 2400033],\n [2700053, 2801632],\n [2700053, 2400029],\n [2700053, 2200011],\n [2700053, 2400059],\n [2700053, 2400059],\n [2700053, 2400059],\n [2500088, 2300365],\n [2500088, 2600101],\n [2500088, 2700326],\n [2500088, 2801886],\n [2500088, 2700479],\n [2500088, 2800243],\n [2500088, 2100227],\n [2500088, 2400033],\n [2500088, 2801632],\n [2500088, 2400029],\n [2500088, 2200011],\n [2500088, 2400059],\n [2500088, 2400059],\n [2500088, 2400059],\n [2300365, 2600101],\n [2300365, 2700326],\n [2300365, 2801886],\n [2300365, 2700479],\n [2300365, 2800243],\n [2300365, 2100227],\n [2300365, 2400033],\n [2300365, 2801632],\n [2300365, 2400029],\n [2300365, 2200011],\n [2300365, 2400059],\n [2300365, 2400059],\n [2300365, 2400059],\n [2600101, 2700326],\n [2600101, 2801886],\n [2600101, 2700479],\n [2600101, 2800243],\n [2600101, 2100227],\n [2600101, 2400033],\n [2600101, 2801632],\n [2600101, 2400029],\n [2600101, 2200011],\n [2600101, 2400059],\n [2600101, 2400059],\n [2600101, 2400059],\n [2700326, 2801886],\n [2700326, 2700479],\n [2700326, 2800243],\n [2700326, 2100227],\n [2700326, 2400033],\n [2700326, 2801632],\n [2700326, 2400029],\n [2700326, 2200011],\n [2700326, 2400059],\n [2700326, 2400059],\n [2700326, 2400059],\n [2801886, 2700479],\n [2801886, 2800243],\n [2801886, 2100227],\n [2801886, 2400033],\n [2801886, 2801632],\n [2801886, 2400029],\n [2801886, 2200011],\n [2801886, 2400059],\n [2801886, 2400059],\n [2801886, 2400059],\n [2700479, 2800243],\n [2700479, 2100227],\n [2700479, 2400033],\n [2700479, 2801632],\n [2700479, 2400029],\n [2700479, 2200011],\n [2700479, 2400059],\n [2700479, 2400059],\n [2700479, 2400059],\n [2800243, 2100227],\n [2800243, 2400033],\n [2800243, 2801632],\n [2800243, 2400029],\n [2800243, 2200011],\n [2800243, 2400059],\n [2800243, 2400059],\n [2800243, 2400059],\n [2100227, 2400033],\n [2100227, 2801632],\n [2100227, 2400029],\n [2100227, 2200011],\n [2100227, 2400059],\n [2100227, 2400059],\n [2100227, 2400059],\n [2400033, 2801632],\n [2400033, 2400029],\n [2400033, 2200011],\n [2400033, 2400059],\n [2400033, 2400059],\n [2400033, 2400059],\n [2801632, 2400029],\n [2801632, 2200011],\n [2801632, 2400059],\n [2801632, 2400059],\n [2801632, 2400059],\n [2400029, 2200011],\n [2400029, 2400059],\n [2400029, 2400059],\n [2400029, 2400059],\n [2200011, 2400059],\n [2200011, 2400059],\n [2200011, 2400059],\n [2400059, 2400059],\n [2400059, 2400059],\n [2400059, 2400059],\n [2800934, 3001377],\n [2800934, 2400075],\n [2800934, 2803088],\n [2800934, 2500067],\n [2800934, 2500067],\n [2800934, 2800286],\n [2800934, 2800294],\n [2800934, 2800294],\n [2800934, 2803106],\n [3001377, 2400075],\n [3001377, 2803088],\n [3001377, 2500067],\n [3001377, 2500067],\n [3001377, 2800286],\n [3001377, 2800294],\n [3001377, 2800294],\n [3001377, 2803106],\n [2400075, 2803088],\n [2400075, 2500067],\n [2400075, 2500067],\n [2400075, 2800286],\n [2400075, 2800294],\n [2400075, 2800294],\n [2400075, 2803106],\n [2803088, 2500067],\n [2803088, 2500067],\n [2803088, 2800286],\n [2803088, 2800294],\n [2803088, 2800294],\n [2803088, 2803106],\n [2500067, 2500067],\n [2500067, 2800286],\n [2500067, 2800294],\n [2500067, 2800294],\n [2500067, 2803106],\n [2500067, 2800286],\n [2500067, 2800294],\n [2500067, 2800294],\n [2500067, 2803106],\n [2800286, 2800294],\n [2800286, 2800294],\n [2800286, 2803106],\n [2800294, 2800294],\n [2800294, 2803106],\n [2800294, 2803106],\n [2300179, 2300271],\n [2300179, 2300249],\n [2300179, 2300364],\n [2300179, 2800249],\n [2300179, 2500011],\n [2300179, 3000322],\n [2300179, 2700442],\n [2300179, 2802861],\n [2300271, 2300249],\n [2300271, 2300364],\n [2300271, 2800249],\n [2300271, 2500011],\n [2300271, 3000322],\n [2300271, 2700442],\n [2300271, 2802861],\n [2300249, 2300364],\n [2300249, 2800249],\n [2300249, 2500011],\n [2300249, 3000322],\n [2300249, 2700442],\n [2300249, 2802861],\n [2300364, 2800249],\n [2300364, 2500011],\n [2300364, 3000322],\n [2300364, 2700442],\n [2300364, 2802861],\n [2800249, 2500011],\n [2800249, 3000322],\n [2800249, 2700442],\n [2800249, 2802861],\n [2500011, 3000322],\n [2500011, 2700442],\n [2500011, 2802861],\n [3000322, 2700442],\n [3000322, 2802861],\n [2700442, 2802861],\n [2700124, 2500046],\n [2700124, 2400085],\n [2700124, 2700323],\n [2700124, 2700323],\n [2700124, 2801885],\n [2700124, 3000545],\n [2700124, 3000306],\n [2700124, 3000283],\n [2500046, 2400085],\n [2500046, 2700323],\n [2500046, 2700323],\n [2500046, 2801885],\n [2500046, 3000545],\n [2500046, 3000306],\n [2500046, 3000283],\n [2400085, 2700323],\n [2400085, 2700323],\n [2400085, 2801885],\n [2400085, 3000545],\n [2400085, 3000306],\n [2400085, 3000283],\n [2700323, 2700323],\n [2700323, 2801885],\n [2700323, 3000545],\n [2700323, 3000306],\n [2700323, 3000283],\n [2700323, 2801885],\n [2700323, 3000545],\n [2700323, 3000306],\n [2700323, 3000283],\n [2801885, 3000545],\n [2801885, 3000306],\n [2801885, 3000283],\n [3000545, 3000306],\n [3000545, 3000283],\n [3000306, 3000283],\n [2500067, 2500067],\n [2500067, 2802723],\n [2500067, 2802723],\n [2500067, 2800633],\n [2500067, 2400067],\n [2500067, 2300164],\n [2500067, 2400191],\n [2500067, 2500087],\n [2500067, 2802723],\n [2500067, 2802723],\n [2500067, 2800633],\n [2500067, 2400067],\n [2500067, 2300164],\n [2500067, 2400191],\n [2500067, 2500087],\n [2802723, 2802723],\n [2802723, 2800633],\n [2802723, 2400067],\n [2802723, 2300164],\n [2802723, 2400191],\n [2802723, 2500087],\n [2802723, 2800633],\n [2802723, 2400067],\n [2802723, 2300164],\n [2802723, 2400191],\n [2802723, 2500087],\n [2800633, 2400067],\n [2800633, 2300164],\n [2800633, 2400191],\n [2800633, 2500087],\n [2400067, 2300164],\n [2400067, 2400191],\n [2400067, 2500087],\n [2300164, 2400191],\n [2300164, 2500087],\n [2400191, 2500087],\n [4000356, 4000351],\n [4000356, 2500009],\n [4000351, 2500009],\n [2400067, 2800298],\n [2400067, 2800298],\n [2400067, 2800298],\n [2400067, 2800298],\n [2400067, 2800298],\n [2400067, 2800298],\n [2400067, 2802779],\n [2400067, 2802440],\n [2400067, 2200075],\n [2800298, 2800298],\n [2800298, 2800298],\n [2800298, 2800298],\n [2800298, 2800298],\n [2800298, 2800298],\n [2800298, 2802779],\n [2800298, 2802440],\n [2800298, 2200075],\n [2800298, 2800298],\n [2800298, 2800298],\n [2800298, 2800298],\n [2800298, 2800298],\n [2800298, 2802779],\n [2800298, 2802440],\n [2800298, 2200075],\n [2800298, 2800298],\n [2800298, 2800298],\n [2800298, 2800298],\n [2800298, 2802779],\n [2800298, 2802440],\n [2800298, 2200075],\n [2800298, 2800298],\n [2800298, 2800298],\n [2800298, 2802779],\n [2800298, 2802440],\n [2800298, 2200075],\n [2800298, 2800298],\n [2800298, 2802779],\n [2800298, 2802440],\n [2800298, 2200075],\n [2800298, 2802779],\n [2800298, 2802440],\n [2800298, 2200075],\n [2802779, 2802440],\n [2802779, 2200075],\n [2802440, 2200075],\n [2802937, 2800575],\n [2802937, 2600524],\n [2802937, 2600524],\n [2802937, 2802652],\n [2802937, 2802652],\n [2802937, 2600525],\n [2800575, 2600524],\n [2800575, 2600524],\n [2800575, 2802652],\n [2800575, 2802652],\n [2800575, 2600525],\n [2600524, 2600524],\n [2600524, 2802652],\n [2600524, 2802652],\n [2600524, 2600525],\n [2600524, 2802652],\n [2600524, 2802652],\n [2600524, 2600525],\n [2802652, 2802652],\n [2802652, 2600525],\n [2802652, 2600525],\n [2400036, 2400036],\n [2400036, 2400085],\n [2400036, 2400085],\n [2400036, 2400191],\n [2400036, 3000832],\n [2400036, 2600015],\n [2400036, 2600015],\n [2400036, 2600015],\n [2400036, 2600015],\n [2400036, 2500031],\n [2400036, 2500031],\n [2400036, 2500031],\n [2400036, 2400059],\n [2400036, 2400035],\n [2400036, 2400035],\n [2400036, 3002623],\n [2400036, 2400085],\n [2400036, 2400085],\n [2400036, 2400191],\n [2400036, 3000832],\n [2400036, 2600015],\n [2400036, 2600015],\n [2400036, 2600015],\n [2400036, 2600015],\n [2400036, 2500031],\n [2400036, 2500031],\n [2400036, 2500031],\n [2400036, 2400059],\n [2400036, 2400035],\n [2400036, 2400035],\n [2400036, 3002623],\n [2400085, 2400085],\n [2400085, 2400191],\n [2400085, 3000832],\n [2400085, 2600015],\n [2400085, 2600015],\n [2400085, 2600015],\n [2400085, 2600015],\n [2400085, 2500031],\n [2400085, 2500031],\n [2400085, 2500031],\n [2400085, 2400059],\n [2400085, 2400035],\n [2400085, 2400035],\n [2400085, 3002623],\n [2400085, 2400191],\n [2400085, 3000832],\n [2400085, 2600015],\n [2400085, 2600015],\n [2400085, 2600015],\n [2400085, 2600015],\n [2400085, 2500031],\n [2400085, 2500031],\n [2400085, 2500031],\n [2400085, 2400059],\n [2400085, 2400035],\n [2400085, 2400035],\n [2400085, 3002623],\n [2400191, 3000832],\n [2400191, 2600015],\n [2400191, 2600015],\n [2400191, 2600015],\n [2400191, 2600015],\n [2400191, 2500031],\n [2400191, 2500031],\n [2400191, 2500031],\n [2400191, 2400059],\n [2400191, 2400035],\n [2400191, 2400035],\n [2400191, 3002623],\n ...]"
     },
     "execution_count": 11,
     "metadata": {},
     "output_type": "execute_result"
    }
   ],
   "source": [
    "product_lists"
   ],
   "metadata": {
    "collapsed": false,
    "pycharm": {
     "name": "#%%\n"
    }
   }
  },
  {
   "cell_type": "code",
   "execution_count": 10,
   "outputs": [
    {
     "data": {
      "text/plain": "[[2800294, 2700815],\n [2800294, 2500002],\n [2800294, 2500002],\n [2800294, 2400365],\n [2800294, 2400365],\n [2800294, 2700125],\n [2800294, 2700155],\n [2800294, 2700155],\n [2800294, 2700155],\n [2800294, 2700737],\n [2800294, 2700739],\n [2800294, 2700745],\n [2800294, 3002785],\n [2800294, 2801328],\n [2800294, 2801328],\n [2800294, 2801328],\n [2800294, 2400019],\n [2800294, 2500067],\n [2800294, 2500067],\n [2800294, 2500067],\n [2800294, 2500067],\n [2800294, 2600272],\n [2700815, 2500002],\n [2700815, 2500002],\n [2700815, 2400365],\n [2700815, 2400365],\n [2700815, 2700125],\n [2700815, 2700155],\n [2700815, 2700155],\n [2700815, 2700155],\n [2700815, 2700737],\n [2700815, 2700739],\n [2700815, 2700745],\n [2700815, 3002785],\n [2700815, 2801328],\n [2700815, 2801328],\n [2700815, 2801328],\n [2700815, 2400019],\n [2700815, 2500067],\n [2700815, 2500067],\n [2700815, 2500067],\n [2700815, 2500067],\n [2700815, 2600272],\n [2500002, 2500002],\n [2500002, 2400365],\n [2500002, 2400365],\n [2500002, 2700125],\n [2500002, 2700155],\n [2500002, 2700155],\n [2500002, 2700155],\n [2500002, 2700737],\n [2500002, 2700739],\n [2500002, 2700745],\n [2500002, 3002785],\n [2500002, 2801328],\n [2500002, 2801328],\n [2500002, 2801328],\n [2500002, 2400019],\n [2500002, 2500067],\n [2500002, 2500067],\n [2500002, 2500067],\n [2500002, 2500067],\n [2500002, 2600272],\n [2500002, 2400365],\n [2500002, 2400365],\n [2500002, 2700125],\n [2500002, 2700155],\n [2500002, 2700155],\n [2500002, 2700155],\n [2500002, 2700737],\n [2500002, 2700739],\n [2500002, 2700745],\n [2500002, 3002785],\n [2500002, 2801328],\n [2500002, 2801328],\n [2500002, 2801328],\n [2500002, 2400019],\n [2500002, 2500067],\n [2500002, 2500067],\n [2500002, 2500067],\n [2500002, 2500067],\n [2500002, 2600272],\n [2400365, 2400365],\n [2400365, 2700125],\n [2400365, 2700155],\n [2400365, 2700155],\n [2400365, 2700155],\n [2400365, 2700737],\n [2400365, 2700739],\n [2400365, 2700745],\n [2400365, 3002785],\n [2400365, 2801328],\n [2400365, 2801328],\n [2400365, 2801328],\n [2400365, 2400019],\n [2400365, 2500067],\n [2400365, 2500067],\n [2400365, 2500067],\n [2400365, 2500067],\n [2400365, 2600272],\n [2400365, 2700125],\n [2400365, 2700155],\n [2400365, 2700155],\n [2400365, 2700155],\n [2400365, 2700737],\n [2400365, 2700739],\n [2400365, 2700745],\n [2400365, 3002785],\n [2400365, 2801328],\n [2400365, 2801328],\n [2400365, 2801328],\n [2400365, 2400019],\n [2400365, 2500067],\n [2400365, 2500067],\n [2400365, 2500067],\n [2400365, 2500067],\n [2400365, 2600272],\n [2700125, 2700155],\n [2700125, 2700155],\n [2700125, 2700155],\n [2700125, 2700737],\n [2700125, 2700739],\n [2700125, 2700745],\n [2700125, 3002785],\n [2700125, 2801328],\n [2700125, 2801328],\n [2700125, 2801328],\n [2700125, 2400019],\n [2700125, 2500067],\n [2700125, 2500067],\n [2700125, 2500067],\n [2700125, 2500067],\n [2700125, 2600272],\n [2700155, 2700155],\n [2700155, 2700155],\n [2700155, 2700737],\n [2700155, 2700739],\n [2700155, 2700745],\n [2700155, 3002785],\n [2700155, 2801328],\n [2700155, 2801328],\n [2700155, 2801328],\n [2700155, 2400019],\n [2700155, 2500067],\n [2700155, 2500067],\n [2700155, 2500067],\n [2700155, 2500067],\n [2700155, 2600272],\n [2700155, 2700155],\n [2700155, 2700737],\n [2700155, 2700739],\n [2700155, 2700745],\n [2700155, 3002785],\n [2700155, 2801328],\n [2700155, 2801328],\n [2700155, 2801328],\n [2700155, 2400019],\n [2700155, 2500067],\n [2700155, 2500067],\n [2700155, 2500067],\n [2700155, 2500067],\n [2700155, 2600272],\n [2700155, 2700737],\n [2700155, 2700739],\n [2700155, 2700745],\n [2700155, 3002785],\n [2700155, 2801328],\n [2700155, 2801328],\n [2700155, 2801328],\n [2700155, 2400019],\n [2700155, 2500067],\n [2700155, 2500067],\n [2700155, 2500067],\n [2700155, 2500067],\n [2700155, 2600272],\n [2700737, 2700739],\n [2700737, 2700745],\n [2700737, 3002785],\n [2700737, 2801328],\n [2700737, 2801328],\n [2700737, 2801328],\n [2700737, 2400019],\n [2700737, 2500067],\n [2700737, 2500067],\n [2700737, 2500067],\n [2700737, 2500067],\n [2700737, 2600272],\n [2700739, 2700745],\n [2700739, 3002785],\n [2700739, 2801328],\n [2700739, 2801328],\n [2700739, 2801328],\n [2700739, 2400019],\n [2700739, 2500067],\n [2700739, 2500067],\n [2700739, 2500067],\n [2700739, 2500067],\n [2700739, 2600272],\n [2700745, 3002785],\n [2700745, 2801328],\n [2700745, 2801328],\n [2700745, 2801328],\n [2700745, 2400019],\n [2700745, 2500067],\n [2700745, 2500067],\n [2700745, 2500067],\n [2700745, 2500067],\n [2700745, 2600272],\n [3002785, 2801328],\n [3002785, 2801328],\n [3002785, 2801328],\n [3002785, 2400019],\n [3002785, 2500067],\n [3002785, 2500067],\n [3002785, 2500067],\n [3002785, 2500067],\n [3002785, 2600272],\n [2801328, 2801328],\n [2801328, 2801328],\n [2801328, 2400019],\n [2801328, 2500067],\n [2801328, 2500067],\n [2801328, 2500067],\n [2801328, 2500067],\n [2801328, 2600272],\n [2801328, 2801328],\n [2801328, 2400019],\n [2801328, 2500067],\n [2801328, 2500067],\n [2801328, 2500067],\n [2801328, 2500067],\n [2801328, 2600272],\n [2801328, 2400019],\n [2801328, 2500067],\n [2801328, 2500067],\n [2801328, 2500067],\n [2801328, 2500067],\n [2801328, 2600272],\n [2400019, 2500067],\n [2400019, 2500067],\n [2400019, 2500067],\n [2400019, 2500067],\n [2400019, 2600272],\n [2500067, 2500067],\n [2500067, 2500067],\n [2500067, 2500067],\n [2500067, 2600272],\n [2500067, 2500067],\n [2500067, 2500067],\n [2500067, 2600272],\n [2500067, 2500067],\n [2500067, 2600272],\n [2500067, 2600272],\n [2801390, 2600241],\n [2801390, 2802211],\n [2801390, 2802211],\n [2801390, 2801004],\n [2801390, 2600021],\n [2801390, 2600021],\n [2801390, 2600021],\n [2801390, 2800393],\n [2801390, 2800360],\n [2801390, 2803106],\n [2600241, 2802211],\n [2600241, 2802211],\n [2600241, 2801004],\n [2600241, 2600021],\n [2600241, 2600021],\n [2600241, 2600021],\n [2600241, 2800393],\n [2600241, 2800360],\n [2600241, 2803106],\n [2802211, 2802211],\n [2802211, 2801004],\n [2802211, 2600021],\n [2802211, 2600021],\n [2802211, 2600021],\n [2802211, 2800393],\n [2802211, 2800360],\n [2802211, 2803106],\n [2802211, 2801004],\n [2802211, 2600021],\n [2802211, 2600021],\n [2802211, 2600021],\n [2802211, 2800393],\n [2802211, 2800360],\n [2802211, 2803106],\n [2801004, 2600021],\n [2801004, 2600021],\n [2801004, 2600021],\n [2801004, 2800393],\n [2801004, 2800360],\n [2801004, 2803106],\n [2600021, 2600021],\n [2600021, 2600021],\n [2600021, 2800393],\n [2600021, 2800360],\n [2600021, 2803106],\n [2600021, 2600021],\n [2600021, 2800393],\n [2600021, 2800360],\n [2600021, 2803106],\n [2600021, 2800393],\n [2600021, 2800360],\n [2600021, 2803106],\n [2800393, 2800360],\n [2800393, 2803106],\n [2800360, 2803106],\n [2801402, 2800525],\n [2801402, 2800525],\n [2801402, 2803115],\n [2801402, 2803115],\n [2801402, 2803115],\n [2801402, 2803115],\n [2801402, 2803115],\n [2801402, 2803115],\n [2801402, 2801347],\n [2801402, 2802623],\n [2800525, 2800525],\n [2800525, 2803115],\n [2800525, 2803115],\n [2800525, 2803115],\n [2800525, 2803115],\n [2800525, 2803115],\n [2800525, 2803115],\n [2800525, 2801347],\n [2800525, 2802623],\n [2800525, 2803115],\n [2800525, 2803115],\n [2800525, 2803115],\n [2800525, 2803115],\n [2800525, 2803115],\n [2800525, 2803115],\n [2800525, 2801347],\n [2800525, 2802623],\n [2803115, 2803115],\n [2803115, 2803115],\n [2803115, 2803115],\n [2803115, 2803115],\n [2803115, 2803115],\n [2803115, 2801347],\n [2803115, 2802623],\n [2803115, 2803115],\n [2803115, 2803115],\n [2803115, 2803115],\n [2803115, 2803115],\n [2803115, 2801347],\n [2803115, 2802623],\n [2803115, 2803115],\n [2803115, 2803115],\n [2803115, 2803115],\n [2803115, 2801347],\n [2803115, 2802623],\n [2803115, 2803115],\n [2803115, 2803115],\n [2803115, 2801347],\n [2803115, 2802623],\n [2803115, 2803115],\n [2803115, 2801347],\n [2803115, 2802623],\n [2803115, 2801347],\n [2803115, 2802623],\n [2801347, 2802623],\n [2802937, 2803123],\n [2802937, 2803123],\n [2802937, 2803093],\n [2802937, 2803121],\n [2802937, 2803124],\n [2803123, 2803123],\n [2803123, 2803093],\n [2803123, 2803121],\n [2803123, 2803124],\n [2803123, 2803093],\n [2803123, 2803121],\n [2803123, 2803124],\n [2803093, 2803121],\n [2803093, 2803124],\n [2803121, 2803124],\n [2500066, 2500066],\n [2500066, 2500066],\n [2500066, 2500066],\n [2500066, 2500002],\n [2500066, 2300011],\n [2500066, 2300011],\n [2500066, 2500066],\n [2500066, 2500066],\n [2500066, 2500002],\n [2500066, 2300011],\n [2500066, 2300011],\n [2500066, 2500066],\n [2500066, 2500002],\n [2500066, 2300011],\n [2500066, 2300011],\n [2500066, 2500002],\n [2500066, 2300011],\n [2500066, 2300011],\n [2500002, 2300011],\n [2500002, 2300011],\n [2300011, 2300011],\n [2800303, 2400475],\n [2800303, 2800286],\n [2400475, 2800286],\n [2803106, 2500035],\n [2803106, 2500035],\n [2803106, 2500035],\n [2803106, 2500035],\n [2803106, 2500035],\n [2803106, 3002216],\n [2803106, 2600016],\n [2803106, 2600016],\n [2803106, 2600016],\n [2803106, 2600016],\n [2803106, 2300304],\n [2803106, 2800112],\n [2803106, 2800112],\n [2803106, 3000383],\n [2803106, 2500031],\n [2803106, 2801652],\n [2803106, 2900525],\n [2500035, 2500035],\n [2500035, 2500035],\n [2500035, 2500035],\n [2500035, 2500035],\n [2500035, 3002216],\n [2500035, 2600016],\n [2500035, 2600016],\n [2500035, 2600016],\n [2500035, 2600016],\n [2500035, 2300304],\n [2500035, 2800112],\n [2500035, 2800112],\n [2500035, 3000383],\n [2500035, 2500031],\n [2500035, 2801652],\n [2500035, 2900525],\n [2500035, 2500035],\n [2500035, 2500035],\n [2500035, 2500035],\n [2500035, 3002216],\n [2500035, 2600016],\n [2500035, 2600016],\n [2500035, 2600016],\n [2500035, 2600016],\n [2500035, 2300304],\n [2500035, 2800112],\n [2500035, 2800112],\n [2500035, 3000383],\n [2500035, 2500031],\n [2500035, 2801652],\n [2500035, 2900525],\n [2500035, 2500035],\n [2500035, 2500035],\n [2500035, 3002216],\n [2500035, 2600016],\n [2500035, 2600016],\n [2500035, 2600016],\n [2500035, 2600016],\n [2500035, 2300304],\n [2500035, 2800112],\n [2500035, 2800112],\n [2500035, 3000383],\n [2500035, 2500031],\n [2500035, 2801652],\n [2500035, 2900525],\n [2500035, 2500035],\n [2500035, 3002216],\n [2500035, 2600016],\n [2500035, 2600016],\n [2500035, 2600016],\n [2500035, 2600016],\n [2500035, 2300304],\n [2500035, 2800112],\n [2500035, 2800112],\n [2500035, 3000383],\n [2500035, 2500031],\n [2500035, 2801652],\n [2500035, 2900525],\n [2500035, 3002216],\n [2500035, 2600016],\n [2500035, 2600016],\n [2500035, 2600016],\n [2500035, 2600016],\n [2500035, 2300304],\n [2500035, 2800112],\n [2500035, 2800112],\n [2500035, 3000383],\n [2500035, 2500031],\n [2500035, 2801652],\n [2500035, 2900525],\n [3002216, 2600016],\n [3002216, 2600016],\n [3002216, 2600016],\n [3002216, 2600016],\n [3002216, 2300304],\n [3002216, 2800112],\n [3002216, 2800112],\n [3002216, 3000383],\n [3002216, 2500031],\n [3002216, 2801652],\n [3002216, 2900525],\n [2600016, 2600016],\n [2600016, 2600016],\n [2600016, 2600016],\n [2600016, 2300304],\n [2600016, 2800112],\n [2600016, 2800112],\n [2600016, 3000383],\n [2600016, 2500031],\n [2600016, 2801652],\n [2600016, 2900525],\n [2600016, 2600016],\n [2600016, 2600016],\n [2600016, 2300304],\n [2600016, 2800112],\n [2600016, 2800112],\n [2600016, 3000383],\n [2600016, 2500031],\n [2600016, 2801652],\n [2600016, 2900525],\n [2600016, 2600016],\n [2600016, 2300304],\n [2600016, 2800112],\n [2600016, 2800112],\n [2600016, 3000383],\n [2600016, 2500031],\n [2600016, 2801652],\n [2600016, 2900525],\n [2600016, 2300304],\n [2600016, 2800112],\n [2600016, 2800112],\n [2600016, 3000383],\n [2600016, 2500031],\n [2600016, 2801652],\n [2600016, 2900525],\n [2300304, 2800112],\n [2300304, 2800112],\n [2300304, 3000383],\n [2300304, 2500031],\n [2300304, 2801652],\n [2300304, 2900525],\n [2800112, 2800112],\n [2800112, 3000383],\n [2800112, 2500031],\n [2800112, 2801652],\n [2800112, 2900525],\n [2800112, 3000383],\n [2800112, 2500031],\n [2800112, 2801652],\n [2800112, 2900525],\n [3000383, 2500031],\n [3000383, 2801652],\n [3000383, 2900525],\n [2500031, 2801652],\n [2500031, 2900525],\n [2801652, 2900525],\n [2200026, 2700063],\n [2200026, 2700053],\n [2200026, 2500088],\n [2200026, 2300365],\n [2200026, 2600101],\n [2200026, 2700326],\n [2200026, 2801886],\n [2200026, 2700479],\n [2200026, 2800243],\n [2200026, 2100227],\n [2200026, 2400033],\n [2200026, 2801632],\n [2200026, 2400029],\n [2200026, 2200011],\n [2200026, 2400059],\n [2200026, 2400059],\n [2200026, 2400059],\n [2700063, 2700053],\n [2700063, 2500088],\n [2700063, 2300365],\n [2700063, 2600101],\n [2700063, 2700326],\n [2700063, 2801886],\n [2700063, 2700479],\n [2700063, 2800243],\n [2700063, 2100227],\n [2700063, 2400033],\n [2700063, 2801632],\n [2700063, 2400029],\n [2700063, 2200011],\n [2700063, 2400059],\n [2700063, 2400059],\n [2700063, 2400059],\n [2700053, 2500088],\n [2700053, 2300365],\n [2700053, 2600101],\n [2700053, 2700326],\n [2700053, 2801886],\n [2700053, 2700479],\n [2700053, 2800243],\n [2700053, 2100227],\n [2700053, 2400033],\n [2700053, 2801632],\n [2700053, 2400029],\n [2700053, 2200011],\n [2700053, 2400059],\n [2700053, 2400059],\n [2700053, 2400059],\n [2500088, 2300365],\n [2500088, 2600101],\n [2500088, 2700326],\n [2500088, 2801886],\n [2500088, 2700479],\n [2500088, 2800243],\n [2500088, 2100227],\n [2500088, 2400033],\n [2500088, 2801632],\n [2500088, 2400029],\n [2500088, 2200011],\n [2500088, 2400059],\n [2500088, 2400059],\n [2500088, 2400059],\n [2300365, 2600101],\n [2300365, 2700326],\n [2300365, 2801886],\n [2300365, 2700479],\n [2300365, 2800243],\n [2300365, 2100227],\n [2300365, 2400033],\n [2300365, 2801632],\n [2300365, 2400029],\n [2300365, 2200011],\n [2300365, 2400059],\n [2300365, 2400059],\n [2300365, 2400059],\n [2600101, 2700326],\n [2600101, 2801886],\n [2600101, 2700479],\n [2600101, 2800243],\n [2600101, 2100227],\n [2600101, 2400033],\n [2600101, 2801632],\n [2600101, 2400029],\n [2600101, 2200011],\n [2600101, 2400059],\n [2600101, 2400059],\n [2600101, 2400059],\n [2700326, 2801886],\n [2700326, 2700479],\n [2700326, 2800243],\n [2700326, 2100227],\n [2700326, 2400033],\n [2700326, 2801632],\n [2700326, 2400029],\n [2700326, 2200011],\n [2700326, 2400059],\n [2700326, 2400059],\n [2700326, 2400059],\n [2801886, 2700479],\n [2801886, 2800243],\n [2801886, 2100227],\n [2801886, 2400033],\n [2801886, 2801632],\n [2801886, 2400029],\n [2801886, 2200011],\n [2801886, 2400059],\n [2801886, 2400059],\n [2801886, 2400059],\n [2700479, 2800243],\n [2700479, 2100227],\n [2700479, 2400033],\n [2700479, 2801632],\n [2700479, 2400029],\n [2700479, 2200011],\n [2700479, 2400059],\n [2700479, 2400059],\n [2700479, 2400059],\n [2800243, 2100227],\n [2800243, 2400033],\n [2800243, 2801632],\n [2800243, 2400029],\n [2800243, 2200011],\n [2800243, 2400059],\n [2800243, 2400059],\n [2800243, 2400059],\n [2100227, 2400033],\n [2100227, 2801632],\n [2100227, 2400029],\n [2100227, 2200011],\n [2100227, 2400059],\n [2100227, 2400059],\n [2100227, 2400059],\n [2400033, 2801632],\n [2400033, 2400029],\n [2400033, 2200011],\n [2400033, 2400059],\n [2400033, 2400059],\n [2400033, 2400059],\n [2801632, 2400029],\n [2801632, 2200011],\n [2801632, 2400059],\n [2801632, 2400059],\n [2801632, 2400059],\n [2400029, 2200011],\n [2400029, 2400059],\n [2400029, 2400059],\n [2400029, 2400059],\n [2200011, 2400059],\n [2200011, 2400059],\n [2200011, 2400059],\n [2400059, 2400059],\n [2400059, 2400059],\n [2400059, 2400059],\n [2800934, 3001377],\n [2800934, 2400075],\n [2800934, 2803088],\n [2800934, 2500067],\n [2800934, 2500067],\n [2800934, 2800286],\n [2800934, 2800294],\n [2800934, 2800294],\n [2800934, 2803106],\n [3001377, 2400075],\n [3001377, 2803088],\n [3001377, 2500067],\n [3001377, 2500067],\n [3001377, 2800286],\n [3001377, 2800294],\n [3001377, 2800294],\n [3001377, 2803106],\n [2400075, 2803088],\n [2400075, 2500067],\n [2400075, 2500067],\n [2400075, 2800286],\n [2400075, 2800294],\n [2400075, 2800294],\n [2400075, 2803106],\n [2803088, 2500067],\n [2803088, 2500067],\n [2803088, 2800286],\n [2803088, 2800294],\n [2803088, 2800294],\n [2803088, 2803106],\n [2500067, 2500067],\n [2500067, 2800286],\n [2500067, 2800294],\n [2500067, 2800294],\n [2500067, 2803106],\n [2500067, 2800286],\n [2500067, 2800294],\n [2500067, 2800294],\n [2500067, 2803106],\n [2800286, 2800294],\n [2800286, 2800294],\n [2800286, 2803106],\n [2800294, 2800294],\n [2800294, 2803106],\n [2800294, 2803106],\n [2300179, 2300271],\n [2300179, 2300249],\n [2300179, 2300364],\n [2300179, 2800249],\n [2300179, 2500011],\n [2300179, 3000322],\n [2300179, 2700442],\n [2300179, 2802861],\n [2300271, 2300249],\n [2300271, 2300364],\n [2300271, 2800249],\n [2300271, 2500011],\n [2300271, 3000322],\n [2300271, 2700442],\n [2300271, 2802861],\n [2300249, 2300364],\n [2300249, 2800249],\n [2300249, 2500011],\n [2300249, 3000322],\n [2300249, 2700442],\n [2300249, 2802861],\n [2300364, 2800249],\n [2300364, 2500011],\n [2300364, 3000322],\n [2300364, 2700442],\n [2300364, 2802861],\n [2800249, 2500011],\n [2800249, 3000322],\n [2800249, 2700442],\n [2800249, 2802861],\n [2500011, 3000322],\n [2500011, 2700442],\n [2500011, 2802861],\n [3000322, 2700442],\n [3000322, 2802861],\n [2700442, 2802861],\n [2700124, 2500046],\n [2700124, 2400085],\n [2700124, 2700323],\n [2700124, 2700323],\n [2700124, 2801885],\n [2700124, 3000545],\n [2700124, 3000306],\n [2700124, 3000283],\n [2500046, 2400085],\n [2500046, 2700323],\n [2500046, 2700323],\n [2500046, 2801885],\n [2500046, 3000545],\n [2500046, 3000306],\n [2500046, 3000283],\n [2400085, 2700323],\n [2400085, 2700323],\n [2400085, 2801885],\n [2400085, 3000545],\n [2400085, 3000306],\n [2400085, 3000283],\n [2700323, 2700323],\n [2700323, 2801885],\n [2700323, 3000545],\n [2700323, 3000306],\n [2700323, 3000283],\n [2700323, 2801885],\n [2700323, 3000545],\n [2700323, 3000306],\n [2700323, 3000283],\n [2801885, 3000545],\n [2801885, 3000306],\n [2801885, 3000283],\n [3000545, 3000306],\n [3000545, 3000283],\n [3000306, 3000283],\n [2500067, 2500067],\n [2500067, 2802723],\n [2500067, 2802723],\n [2500067, 2800633],\n [2500067, 2400067],\n [2500067, 2300164],\n [2500067, 2400191],\n [2500067, 2500087],\n [2500067, 2802723],\n [2500067, 2802723],\n [2500067, 2800633],\n [2500067, 2400067],\n [2500067, 2300164],\n [2500067, 2400191],\n [2500067, 2500087],\n [2802723, 2802723],\n [2802723, 2800633],\n [2802723, 2400067],\n [2802723, 2300164],\n [2802723, 2400191],\n [2802723, 2500087],\n [2802723, 2800633],\n [2802723, 2400067],\n [2802723, 2300164],\n [2802723, 2400191],\n [2802723, 2500087],\n [2800633, 2400067],\n [2800633, 2300164],\n [2800633, 2400191],\n [2800633, 2500087],\n [2400067, 2300164],\n [2400067, 2400191],\n [2400067, 2500087],\n [2300164, 2400191],\n [2300164, 2500087],\n [2400191, 2500087],\n [4000356, 4000351],\n [4000356, 2500009],\n [4000351, 2500009],\n [2400067, 2800298],\n [2400067, 2800298],\n [2400067, 2800298],\n [2400067, 2800298],\n [2400067, 2800298],\n [2400067, 2800298],\n [2400067, 2802779],\n [2400067, 2802440],\n [2400067, 2200075],\n [2800298, 2800298],\n [2800298, 2800298],\n [2800298, 2800298],\n [2800298, 2800298],\n [2800298, 2800298],\n [2800298, 2802779],\n [2800298, 2802440],\n [2800298, 2200075],\n [2800298, 2800298],\n [2800298, 2800298],\n [2800298, 2800298],\n [2800298, 2800298],\n [2800298, 2802779],\n [2800298, 2802440],\n [2800298, 2200075],\n [2800298, 2800298],\n [2800298, 2800298],\n [2800298, 2800298],\n [2800298, 2802779],\n [2800298, 2802440],\n [2800298, 2200075],\n [2800298, 2800298],\n [2800298, 2800298],\n [2800298, 2802779],\n [2800298, 2802440],\n [2800298, 2200075],\n [2800298, 2800298],\n [2800298, 2802779],\n [2800298, 2802440],\n [2800298, 2200075],\n [2800298, 2802779],\n [2800298, 2802440],\n [2800298, 2200075],\n [2802779, 2802440],\n [2802779, 2200075],\n [2802440, 2200075],\n [2802937, 2800575],\n [2802937, 2600524],\n [2802937, 2600524],\n [2802937, 2802652],\n [2802937, 2802652],\n [2802937, 2600525],\n [2800575, 2600524],\n [2800575, 2600524],\n [2800575, 2802652],\n [2800575, 2802652],\n [2800575, 2600525],\n [2600524, 2600524],\n [2600524, 2802652],\n [2600524, 2802652],\n [2600524, 2600525],\n [2600524, 2802652],\n [2600524, 2802652],\n [2600524, 2600525],\n [2802652, 2802652],\n [2802652, 2600525],\n [2802652, 2600525],\n [2400036, 2400036],\n [2400036, 2400085],\n [2400036, 2400085],\n [2400036, 2400191],\n [2400036, 3000832],\n [2400036, 2600015],\n [2400036, 2600015],\n [2400036, 2600015],\n [2400036, 2600015],\n [2400036, 2500031],\n [2400036, 2500031],\n [2400036, 2500031],\n [2400036, 2400059],\n [2400036, 2400035],\n [2400036, 2400035],\n [2400036, 3002623],\n [2400036, 2400085],\n [2400036, 2400085],\n [2400036, 2400191],\n [2400036, 3000832],\n [2400036, 2600015],\n [2400036, 2600015],\n [2400036, 2600015],\n [2400036, 2600015],\n [2400036, 2500031],\n [2400036, 2500031],\n [2400036, 2500031],\n [2400036, 2400059],\n [2400036, 2400035],\n [2400036, 2400035],\n [2400036, 3002623],\n [2400085, 2400085],\n [2400085, 2400191],\n [2400085, 3000832],\n [2400085, 2600015],\n [2400085, 2600015],\n [2400085, 2600015],\n [2400085, 2600015],\n [2400085, 2500031],\n [2400085, 2500031],\n [2400085, 2500031],\n [2400085, 2400059],\n [2400085, 2400035],\n [2400085, 2400035],\n [2400085, 3002623],\n [2400085, 2400191],\n [2400085, 3000832],\n [2400085, 2600015],\n [2400085, 2600015],\n [2400085, 2600015],\n [2400085, 2600015],\n [2400085, 2500031],\n [2400085, 2500031],\n [2400085, 2500031],\n [2400085, 2400059],\n [2400085, 2400035],\n [2400085, 2400035],\n [2400085, 3002623],\n [2400191, 3000832],\n [2400191, 2600015],\n [2400191, 2600015],\n [2400191, 2600015],\n [2400191, 2600015],\n [2400191, 2500031],\n [2400191, 2500031],\n [2400191, 2500031],\n [2400191, 2400059],\n [2400191, 2400035],\n [2400191, 2400035],\n [2400191, 3002623],\n ...]"
     },
     "execution_count": 10,
     "metadata": {},
     "output_type": "execute_result"
    }
   ],
   "source": [
    "\n"
   ],
   "metadata": {
    "collapsed": false,
    "pycharm": {
     "name": "#%%\n"
    }
   }
  },
  {
   "cell_type": "code",
   "execution_count": 16,
   "outputs": [
    {
     "data": {
      "text/plain": "{2800294: 0,\n 2700815: 1,\n 2500002: 2,\n 2400365: 3,\n 2700125: 4,\n 2700155: 5,\n 2700737: 6,\n 2700739: 7,\n 2700745: 8,\n 3002785: 9,\n 2801328: 10,\n 2400019: 11,\n 2500067: 12,\n 2600272: 13,\n 2801390: 14,\n 2600241: 15,\n 2802211: 16,\n 2801004: 17,\n 2600021: 18,\n 2800393: 19,\n 2800360: 20,\n 2803106: 21,\n 2801402: 22,\n 2800525: 23,\n 2803115: 24,\n 2801347: 25,\n 2802623: 26,\n 2802937: 27,\n 2803123: 28,\n 2803093: 29,\n 2803121: 30,\n 2803124: 31,\n 2500066: 32,\n 2300011: 33,\n 2800303: 34,\n 2400475: 35,\n 2800286: 36,\n 2500035: 37,\n 3002216: 38,\n 2600016: 39,\n 2300304: 40,\n 2800112: 41,\n 3000383: 42,\n 2500031: 43,\n 2801652: 44,\n 2900525: 45,\n 2200026: 46,\n 2700063: 47,\n 2700053: 48,\n 2500088: 49,\n 2300365: 50,\n 2600101: 51,\n 2700326: 52,\n 2801886: 53,\n 2700479: 54,\n 2800243: 55,\n 2100227: 56,\n 2400033: 57,\n 2801632: 58,\n 2400029: 59,\n 2200011: 60,\n 2400059: 61,\n 2800934: 62,\n 3001377: 63,\n 2400075: 64,\n 2803088: 65,\n 2300179: 66,\n 2300271: 67,\n 2300249: 68,\n 2300364: 69,\n 2800249: 70,\n 2500011: 71,\n 3000322: 72,\n 2700442: 73,\n 2802861: 74,\n 2700124: 75,\n 2500046: 76,\n 2400085: 77,\n 2700323: 78,\n 2801885: 79,\n 3000545: 80,\n 3000306: 81,\n 3000283: 82,\n 2802723: 83,\n 2800633: 84,\n 2400067: 85,\n 2300164: 86,\n 2400191: 87,\n 2500087: 88,\n 4000356: 89,\n 4000351: 90,\n 2500009: 91,\n 2800298: 92,\n 2802779: 93,\n 2802440: 94,\n 2200075: 95,\n 2800575: 96,\n 2600524: 97,\n 2802652: 98,\n 2600525: 99,\n 2400036: 100,\n 3000832: 101,\n 2600015: 102,\n 2400035: 103,\n 3002623: 104,\n 2801437: 105,\n 2803096: 106,\n 3002784: 107,\n 2801436: 108,\n 2800070: 109,\n 2700754: 110,\n 2801784: 111,\n 2700065: 112,\n 2300067: 113,\n 2801314: 114,\n 2500010: 115,\n 2800564: 116,\n 2800004: 117,\n 2801975: 118,\n 3500004: 119,\n 3001593: 120,\n 2800275: 121,\n 2802718: 122,\n 3000382: 123,\n 2100354: 124,\n 2100164: 125,\n 2200092: 126,\n 2700476: 127,\n 2200073: 128,\n 2400024: 129,\n 2803233: 130,\n 2300487: 131,\n 2803292: 132,\n 2802629: 133,\n 2300499: 134,\n 3001990: 135,\n 2600145: 136,\n 3002855: 137,\n 2600148: 138,\n 2801348: 139,\n 2800012: 140,\n 2800290: 141,\n 3002872: 142,\n 2500043: 143,\n 2800533: 144,\n 2600012: 145,\n 2800578: 146,\n 2800050: 147,\n 2300186: 148,\n 2800585: 149,\n 2600541: 150,\n 2801091: 151,\n 2800288: 152,\n 3000310: 153,\n 2801349: 154,\n 3001137: 155,\n 2400003: 156,\n 2600079: 157,\n 2600111: 158,\n 2600239: 159,\n 2800526: 160,\n 2300192: 161,\n 2500101: 162,\n 2300259: 163,\n 3000539: 164,\n 2500134: 165,\n 2300829: 166,\n 2600069: 167,\n 2700320: 168,\n 2800563: 169,\n 3000683: 170,\n 2400052: 171,\n 2800569: 172,\n 2700733: 173,\n 2802213: 174,\n 2400496: 175,\n 3001300: 176,\n 2800619: 177,\n 2800263: 178,\n 3002941: 179,\n 4200034: 180,\n 2800060: 181,\n 2800437: 182,\n 2800566: 183,\n 2800028: 184,\n 2800936: 185,\n 3001959: 186,\n 2800418: 187,\n 2800610: 188,\n 2800669: 189,\n 2300061: 190,\n 2600094: 191,\n 2803230: 192,\n 2800400: 193,\n 2700302: 194,\n 2700738: 195,\n 2800529: 196,\n 3000829: 197,\n 2802830: 198,\n 2600072: 199,\n 2700082: 200,\n 3001030: 201,\n 2600009: 202,\n 2600203: 203,\n 2800586: 204,\n 3000787: 205,\n 2700235: 206,\n 2500073: 207,\n 2800250: 208,\n 2500045: 209,\n 2600008: 210,\n 3000743: 211,\n 2600132: 212,\n 2400084: 213,\n 2700742: 214,\n 2800793: 215,\n 2700759: 216,\n 2400006: 217,\n 2400066: 218,\n 2400057: 219,\n 2400497: 220,\n 2700102: 221,\n 2600082: 222,\n 2700728: 223,\n 2700752: 224,\n 3000616: 225,\n 2300655: 226,\n 2400025: 227,\n 2300794: 228,\n 2600200: 229,\n 2700282: 230,\n 2500133: 231,\n 2800356: 232,\n 2400023: 233,\n 2700045: 234,\n 2300100: 235,\n 2700816: 236,\n 2800141: 237,\n 2800283: 238,\n 2800539: 239,\n 2800267: 240,\n 2600551: 241,\n 2800522: 242,\n 2700244: 243,\n 2700757: 244,\n 3002800: 245,\n 3000356: 246,\n 2802857: 247,\n 2800548: 248,\n 2500089: 249,\n 2800251: 250,\n 2600092: 251,\n 2600078: 252,\n 3001814: 253,\n 2802205: 254,\n 2600165: 255,\n 2803122: 256,\n 3001930: 257,\n 3001965: 258,\n 3002845: 259,\n 3000303: 260,\n 3000136: 261,\n 3000422: 262,\n 2200056: 263,\n 3000466: 264,\n 2700721: 265,\n 3002983: 266,\n 2700183: 267,\n 2800321: 268,\n 2700756: 269,\n 2800434: 270,\n 3001771: 271,\n 2700743: 272,\n 2300308: 273,\n 3000473: 274,\n 2500068: 275,\n 2300193: 276,\n 2700327: 277,\n 2800376: 278,\n 2700319: 279,\n 2800436: 280,\n 2800618: 281,\n 2801095: 282,\n 3000474: 283,\n 2800534: 284,\n 2300008: 285,\n 3000405: 286,\n 2802858: 287,\n 2802717: 288,\n 2800138: 289,\n 3000373: 290,\n 2800718: 291,\n 3000411: 292,\n 3002447: 293,\n 2800541: 294,\n 2600136: 295,\n 2400478: 296,\n 4200180: 297,\n 2801345: 298,\n 2700614: 299,\n 2803206: 300,\n 2600083: 301,\n 2800144: 302,\n 2600234: 303,\n 2600043: 304,\n 3001926: 305,\n 2500075: 306,\n 2800419: 307,\n 2300163: 308,\n 2300139: 309,\n 2300141: 310,\n 2300017: 311,\n 3002864: 312,\n 2300254: 313,\n 2300780: 314,\n 3000660: 315,\n 2803350: 316,\n 2803000: 317,\n 2800071: 318,\n 2100411: 319,\n 3001245: 320,\n 2600208: 321,\n 2300260: 322,\n 2900048: 323,\n 3000368: 324,\n 2802855: 325,\n 2800394: 326,\n 2500015: 327,\n 2300298: 328,\n 2400063: 329,\n 2802437: 330,\n 3000489: 331,\n 2600555: 332,\n 2600336: 333,\n 2600733: 334,\n 3100856: 335,\n 2500064: 336,\n 2801729: 337,\n 2300236: 338,\n 2300043: 339,\n 2300250: 340,\n 2500221: 341,\n 2400062: 342,\n 2802436: 343,\n 2600102: 344,\n 2802990: 345,\n 2400058: 346,\n 2400082: 347,\n 2400214: 348,\n 2700729: 349,\n 2800552: 350,\n 2400215: 351,\n 2800073: 352,\n 2500093: 353,\n 2803204: 354,\n 2100566: 355,\n 2200059: 356,\n 3000967: 357,\n 2400056: 358,\n 2300038: 359,\n 2803299: 360,\n 3002857: 361,\n 2600219: 362,\n 2600116: 363,\n 3000100: 364,\n 3002865: 365,\n 2500085: 366,\n 3000780: 367,\n 3000639: 368,\n 2100165: 369,\n 4000053: 370,\n 3002547: 371,\n 4000363: 372,\n 2600001: 373,\n 2800270: 374,\n 2700031: 375,\n 2400004: 376,\n 2802653: 377,\n 2800839: 378,\n 2400055: 379,\n 2300217: 380,\n 2300431: 381,\n 2600114: 382,\n 2600096: 383,\n 3003189: 384,\n 3002945: 385,\n 2600105: 386,\n 2700123: 387,\n 3001027: 388,\n 2700152: 389,\n 2800354: 390,\n 2800567: 391,\n 2300119: 392,\n 2300172: 393,\n 2300135: 394,\n 4000040: 395,\n 2300121: 396,\n 3000618: 397,\n 3000627: 398,\n 2100107: 399,\n 3002965: 400,\n 4100170: 401,\n 2400021: 402,\n 2800248: 403,\n 2802244: 404,\n 2100431: 405,\n 2700318: 406,\n 2300781: 407,\n 2801519: 408,\n 2500140: 409,\n 2802979: 410,\n 4200263: 411,\n 2300888: 412,\n 2700301: 413,\n 2200028: 414,\n 2500099: 415,\n 3000281: 416,\n 3000425: 417,\n 3000043: 418,\n 2600164: 419,\n 2802449: 420,\n 2400011: 421,\n 3000633: 422,\n 3001290: 423,\n 2700817: 424,\n 2300112: 425,\n 2800296: 426,\n 2801351: 427,\n 2801354: 428,\n 3003212: 429,\n 2300809: 430,\n 3003062: 431,\n 2700151: 432,\n 2300093: 433,\n 3000619: 434,\n 3000798: 435,\n 3001933: 436,\n 3002437: 437,\n 2800059: 438,\n 3000305: 439,\n 2800032: 440,\n 2900136: 441,\n 2803370: 442,\n 2803082: 443,\n 2800056: 444,\n 2801024: 445,\n 2801023: 446,\n 2803376: 447,\n 2803296: 448,\n 3000610: 449,\n 2800204: 450,\n 2400078: 451,\n 2800244: 452,\n 2300500: 453,\n 2400369: 454,\n 3100004: 455,\n 2400086: 456,\n 2800841: 457,\n 3000367: 458,\n 4200237: 459,\n 2600280: 460,\n 2100115: 461,\n 2700054: 462,\n 2800274: 463,\n 2800271: 464,\n 2801346: 465,\n 2500079: 466,\n 2800415: 467,\n 2801781: 468,\n 2400060: 469,\n 3000689: 470,\n 2300014: 471,\n 3000440: 472,\n 2700154: 473,\n 2700049: 474,\n 2700223: 475,\n 2700723: 476,\n 2800264: 477,\n 2500095: 478,\n 2600190: 479,\n 2801350: 480,\n 2600066: 481,\n 2400061: 482,\n 2500074: 483,\n 2800062: 484,\n 3003194: 485,\n 2600213: 486,\n 2802819: 487,\n 2803083: 488,\n 2100373: 489,\n 3000636: 490,\n 2802631: 491,\n 3001597: 492,\n 3003227: 493,\n 2801093: 494,\n 2800374: 495,\n 3001144: 496,\n 3000286: 497,\n 3001293: 498,\n 2802443: 499,\n 2700020: 500,\n 2800536: 501,\n 2300425: 502,\n 3000461: 503,\n 2800027: 504,\n 3000347: 505,\n 2900169: 506,\n 2500202: 507,\n 2800761: 508,\n 2300430: 509,\n 2300071: 510,\n 3001054: 511,\n 2800136: 512,\n 2802441: 513,\n 2600070: 514,\n 2700132: 515,\n 2700095: 516,\n 2700164: 517,\n 2600198: 518,\n 2800395: 519,\n 2300194: 520,\n 3002850: 521,\n 2803061: 522,\n 2600147: 523,\n 3001629: 524,\n 2600025: 525,\n 2700237: 526,\n 2100077: 527,\n 2700103: 528,\n 2400514: 529,\n 3000374: 530,\n 2700156: 531,\n 2700726: 532,\n 2700734: 533,\n 2700087: 534,\n 2800262: 535,\n 4100157: 536,\n 2300090: 537,\n 2600341: 538,\n 2700109: 539,\n 2700328: 540,\n 2802934: 541,\n 3001553: 542,\n 3000321: 543,\n 3000681: 544,\n 2700853: 545,\n 3000342: 546,\n 2700110: 547,\n 2700725: 548,\n 2600003: 549,\n 2700288: 550,\n 2800276: 551,\n 2803062: 552,\n 4200287: 553,\n 4200006: 554,\n 2100355: 555,\n 4200302: 556,\n 2100332: 557,\n 2801022: 558,\n 2700762: 559,\n 3001630: 560,\n 2800307: 561,\n 4000399: 562,\n 2700133: 563,\n 2800791: 564,\n 2400017: 565,\n 2803369: 566,\n 2200013: 567,\n 2300092: 568,\n 2300420: 569,\n 2400088: 570,\n 2400272: 571,\n 2900157: 572,\n 3500081: 573,\n 3500030: 574,\n 2802174: 575,\n 2300166: 576,\n 2803336: 577,\n 2400037: 578,\n 2600038: 579,\n 2801782: 580,\n 3001631: 581,\n 2803387: 582,\n 2300882: 583,\n 2800171: 584,\n 2300232: 585,\n 2803374: 586,\n 2803435: 587,\n 2802486: 588,\n 2801513: 589,\n 2802973: 590,\n 3001328: 591,\n 3003199: 592,\n 2400012: 593,\n 2803372: 594,\n 2900135: 595,\n 2500051: 596,\n 3003063: 597,\n 2700117: 598,\n 3000786: 599,\n 3003168: 600,\n 2600067: 601,\n 4200181: 602,\n 3003204: 603,\n 2801400: 604,\n 2600099: 605,\n 3000542: 606,\n 3003239: 607,\n 2600805: 608,\n 2500092: 609,\n 3000591: 610,\n 3000421: 611,\n 2803091: 612,\n 2600235: 613,\n 3000778: 614,\n 3000716: 615,\n 2803303: 616,\n 2800051: 617,\n 2801140: 618,\n 2800571: 619,\n 2600533: 620,\n 3001034: 621,\n 2802620: 622,\n 2600157: 623,\n 2300197: 624,\n 2802446: 625,\n 2300175: 626,\n 2300782: 627,\n 2500125: 628,\n 2801780: 629,\n 2801358: 630,\n 2802977: 631,\n 2803234: 632,\n 2600209: 633,\n 2700081: 634,\n 3002782: 635,\n 2600097: 636,\n 2803358: 637,\n 2801330: 638,\n 2800282: 639,\n 4200056: 640,\n 2300216: 641,\n 2400492: 642,\n 2500207: 643,\n 2700722: 644,\n 3000779: 645,\n 2400244: 646,\n 2800355: 647,\n 3001808: 648,\n 2800576: 649,\n 3000426: 650,\n 2300035: 651,\n 2300255: 652,\n 2600115: 653,\n 2800538: 654,\n 2802700: 655,\n 2600816: 656,\n 2700325: 657,\n 2700732: 658,\n 3100910: 659,\n 2700006: 660,\n 3000698: 661,\n 2700920: 662,\n 2600045: 663,\n 2600843: 664,\n 2802509: 665,\n 4200264: 666,\n 2700812: 667,\n 3002898: 668,\n 3000686: 669,\n 2700086: 670,\n 2800292: 671,\n 2600080: 672,\n 3003042: 673,\n 2600845: 674,\n 3000246: 675,\n 2802894: 676,\n 2800301: 677,\n 2300126: 678,\n 2801699: 679,\n 2600347: 680,\n 2800272: 681,\n 2200070: 682,\n 2400348: 683,\n 2800317: 684,\n 2100507: 685,\n 2300253: 686,\n 2802999: 687,\n 2600138: 688,\n 3002981: 689,\n 2600519: 690,\n 2100529: 691,\n 2600214: 692,\n 2802983: 693,\n 4000101: 694,\n 2802220: 695,\n 3003091: 696,\n 4200201: 697,\n 3500076: 698,\n 3000793: 699,\n 2600248: 700,\n 2400516: 701,\n 2700296: 702,\n 2500032: 703,\n 3000484: 704,\n 2800769: 705,\n 2800431: 706,\n 3000470: 707,\n 3000443: 708,\n 4000401: 709,\n 2803310: 710,\n 2300366: 711,\n 2500235: 712,\n 2700736: 713,\n 2700747: 714,\n 2803377: 715,\n 2700741: 716,\n 2700755: 717,\n 2803314: 718,\n 2600044: 719,\n 2600206: 720,\n 2803312: 721,\n 3000772: 722,\n 3001401: 723,\n 4100164: 724,\n 3001046: 725,\n 4100151: 726,\n 2801355: 727,\n 2400366: 728,\n 3003210: 729,\n 3000544: 730,\n 3000113: 731,\n 2803060: 732,\n 2400081: 733,\n 3000454: 734,\n 2700749: 735,\n 2200022: 736,\n 2600247: 737,\n 2700753: 738,\n 2700085: 739,\n 2500094: 740,\n 3001346: 741,\n 2100084: 742,\n 3001572: 743,\n 2300078: 744,\n 3000319: 745,\n 2600133: 746,\n 3000961: 747,\n 3000505: 748,\n 3001090: 749,\n 3000615: 750,\n 2800054: 751,\n 2802967: 752,\n 2801714: 753,\n 2700273: 754,\n 2803227: 755,\n 2803172: 756,\n 2802215: 757,\n 2800164: 758,\n 3001496: 759,\n 2400420: 760,\n 4100171: 761,\n 4100173: 762,\n 4100149: 763,\n 2300721: 764,\n 2700297: 765,\n 2802202: 766,\n 2802197: 767,\n 2800150: 768,\n 2500116: 769,\n 3002273: 770,\n 3002278: 771,\n 3002280: 772,\n 3002279: 773,\n 2300311: 774,\n 2600064: 775,\n 3002890: 776,\n 3002988: 777,\n 3000424: 778,\n 2300177: 779,\n 2700135: 780,\n 3000911: 781,\n 3002967: 782,\n 2400041: 783,\n 4200106: 784,\n 3001258: 785,\n 2600191: 786,\n 3000680: 787,\n 3003282: 788,\n 3003113: 789,\n 3001455: 790,\n 4200119: 791,\n 2800269: 792,\n 2800648: 793,\n 2802485: 794,\n 3002417: 795,\n 3000301: 796,\n 2800291: 797,\n 4200260: 798,\n 2500239: 799,\n 2700751: 800,\n 3000479: 801,\n 3000831: 802,\n 2700134: 803,\n 3000785: 804,\n 2500038: 805,\n 2500083: 806,\n 3002804: 807,\n 2700750: 808,\n 3001594: 809,\n 2300107: 810,\n 2800687: 811,\n 2500058: 812,\n 2700818: 813,\n 2700746: 814,\n 3000662: 815,\n 2600055: 816,\n 3001033: 817,\n 3001945: 818,\n 2800726: 819,\n 3001881: 820,\n 3001124: 821,\n 2600113: 822,\n 2800109: 823,\n 3000833: 824,\n 3100878: 825,\n 3002852: 826,\n 2600800: 827,\n 4000394: 828,\n 4000395: 829,\n 3002888: 830,\n 2100081: 831,\n 3001067: 832,\n 2100088: 833,\n 2400477: 834,\n 2100174: 835,\n 2600478: 836,\n 2200003: 837,\n 2803385: 838,\n 2700482: 839,\n 2803384: 840,\n 3002921: 841,\n 2300490: 842,\n 2803382: 843,\n 3003226: 844,\n 3003281: 845,\n 3000101: 846,\n 2802982: 847,\n 2600656: 848,\n 4200018: 849,\n 3500082: 850,\n 3003270: 851,\n 2801377: 852,\n 2800414: 853,\n 2600002: 854,\n 2900116: 855,\n 2803366: 856,\n 2700375: 857,\n 2700376: 858,\n 2803087: 859,\n 2803448: 860,\n 2800902: 861,\n 2800527: 862,\n 3003045: 863,\n 2500107: 864,\n 2300760: 865,\n 2803100: 866,\n 2400028: 867,\n 2600273: 868,\n 2700291: 869,\n 2700856: 870,\n 2801512: 871,\n 2700493: 872,\n 2200004: 873,\n 2803130: 874,\n 2700321: 875,\n 2803249: 876,\n 3003272: 877,\n 2700917: 878,\n 2800998: 879,\n 2803232: 880,\n 3000707: 881,\n 3000419: 882,\n 2800858: 883,\n 3002334: 884,\n 2700919: 885,\n 2700226: 886,\n 3000784: 887,\n 3000094: 888,\n 3002781: 889,\n 2700046: 890,\n 2800765: 891,\n 3000541: 892,\n 3003229: 893,\n 4200255: 894,\n 2801301: 895,\n 2700070: 896,\n 2700230: 897,\n 2803554: 898,\n 2801439: 899,\n 2600568: 900,\n 2803553: 901,\n 3000688: 902,\n 2800523: 903,\n 2100069: 904,\n 2803205: 905,\n 2200006: 906,\n 2802722: 907,\n 3000365: 908,\n 3003057: 909,\n 3002436: 910,\n 2700863: 911,\n 2300099: 912,\n 2500206: 913,\n 2800516: 914,\n 2800057: 915,\n 2300111: 916,\n 4100147: 917,\n 2600220: 918,\n 2600481: 919,\n 2700286: 920,\n 2600252: 921,\n 2600879: 922,\n 2801388: 923,\n 3002905: 924,\n 3003169: 925,\n 2800316: 926,\n 3000378: 927,\n 4200276: 928,\n 3002866: 929,\n 2800670: 930,\n 3001457: 931,\n 4200340: 932,\n 4200318: 933,\n 4200347: 934,\n 2600255: 935,\n 3000747: 936,\n 2300302: 937,\n 2803551: 938,\n 3001427: 939,\n 3001422: 940,\n 2700907: 941,\n 3001964: 942,\n 3000302: 943,\n 4200057: 944,\n 2803405: 945,\n 4200278: 946,\n 2801363: 947,\n 3002937: 948,\n 2801089: 949,\n 3500112: 950,\n 2802632: 951,\n 2800432: 952,\n 2803542: 953,\n 3001094: 954,\n 2500244: 955,\n 2801989: 956,\n 4000123: 957,\n 2300077: 958,\n 4000085: 959,\n 4000400: 960,\n 4200231: 961,\n 3001048: 962,\n 3002874: 963,\n 3003273: 964,\n 2300165: 965,\n 2801657: 966,\n 2802984: 967,\n 2803407: 968,\n 2803408: 969,\n 2300030: 970,\n 2800072: 971,\n 2803101: 972,\n 2803300: 973,\n 2100392: 974,\n 2802218: 975,\n 2802860: 976,\n 3001843: 977,\n 3002331: 978,\n 2300113: 979,\n 2800857: 980,\n 2700951: 981,\n 2803077: 982,\n 3100861: 983,\n 3100169: 984,\n 2800311: 985,\n 2800381: 986,\n 2300218: 987,\n 3002922: 988,\n 2803381: 989,\n 2801139: 990,\n 4100161: 991,\n 2801092: 992,\n 2500076: 993,\n 4200045: 994,\n 3001825: 995,\n 2300392: 996,\n 2300878: 997,\n 2300877: 998,\n 2700720: 999,\n ...}"
     },
     "execution_count": 16,
     "metadata": {},
     "output_type": "execute_result"
    }
   ],
   "source": [
    "unique_product_code_dict"
   ],
   "metadata": {
    "collapsed": false,
    "pycharm": {
     "name": "#%%\n"
    }
   }
  },
  {
   "cell_type": "code",
   "execution_count": null,
   "outputs": [],
   "source": [
    "# One-hot-encoding\n",
    "n_products = len(unique_product_code_dict )\n",
    "products = list(unique_product_code_dict.keys())\n",
    "\n",
    "X = []\n",
    "Y = []\n",
    "\n",
    "for code_pair in product_lists:\n",
    "    X.append((code_pair[0] == np.array(products))*1)\n",
    "    Y.append((code_pair[1] == np.array(products))*1)\n",
    "\n",
    "X = np.asarray(X)\n",
    "Y = np.asarray(X)"
   ],
   "metadata": {
    "collapsed": false,
    "pycharm": {
     "name": "#%%\n"
    }
   }
  },
  {
   "cell_type": "code",
   "execution_count": 78,
   "outputs": [
    {
     "data": {
      "text/plain": "['Meridian Real Thai Chicken Chips 18(±3)g',\n 'Provati Cumin (Jeera) Whole 200g',\n 'Aarong white Curd 500 ml',\n 'Aarong white Curd 500 ml',\n 'Confidence Salt 1 kg',\n 'Confidence Salt 1 kg',\n 'Radhuni Turmeric Regular 500 gm',\n 'Radhuni Chilli 200g',\n 'Radhuni Chilli 200g',\n 'Radhuni Chilli 200g',\n 'Provati Cinnamon (Daruchini) 100g',\n 'Provati Cloves (Lobongo) 50g',\n 'Provati Raisins (Kishmish) 100g',\n 'Savlon Aloe Vera Handwash 200ml (Refill)',\n 'X-Bounty -2-2 Chocolate 57gm (B)',\n 'X-Bounty -2-2 Chocolate 57gm (B)',\n 'X-Bounty -2-2 Chocolate 57gm (B)',\n 'Rupchanda Soyabean Oil 5ltr',\n 'Milk Vita Liquid Milk 1000 Ml',\n 'Milk Vita Liquid Milk 1000 Ml',\n 'Milk Vita Liquid Milk 1000 Ml',\n 'Milk Vita Liquid Milk 1000 Ml',\n 'Super Napthalene\\xa0(30Pcs+Pack)']"
     },
     "execution_count": 78,
     "metadata": {},
     "output_type": "execute_result"
    }
   ],
   "source": [
    "products_in_basket[0]\n"
   ],
   "metadata": {
    "collapsed": false,
    "pycharm": {
     "name": "#%%\n"
    }
   }
  },
  {
   "cell_type": "code",
   "execution_count": 28,
   "outputs": [
    {
     "ename": "TypeError",
     "evalue": "unhashable type: 'list'",
     "output_type": "error",
     "traceback": [
      "\u001B[0;31m---------------------------------------------------------------------------\u001B[0m",
      "\u001B[0;31mTypeError\u001B[0m                                 Traceback (most recent call last)",
      "Cell \u001B[0;32mIn [28], line 11\u001B[0m\n\u001B[1;32m      9\u001B[0m     unique_product_dict \u001B[38;5;241m=\u001B[39m {product: i \u001B[38;5;28;01mfor\u001B[39;00m i, product \u001B[38;5;129;01min\u001B[39;00m \u001B[38;5;28menumerate\u001B[39m(\u001B[38;5;28mlist\u001B[39m(\u001B[38;5;28mset\u001B[39m(products_in_basket)))}\n\u001B[1;32m     10\u001B[0m     \u001B[38;5;28;01mreturn\u001B[39;00m unique_product_dict\n\u001B[0;32m---> 11\u001B[0m create_unique_product_dict(all_products)\n",
      "Cell \u001B[0;32mIn [28], line 9\u001B[0m, in \u001B[0;36mcreate_unique_product_dict\u001B[0;34m(products)\u001B[0m\n\u001B[1;32m      8\u001B[0m \u001B[38;5;28;01mdef\u001B[39;00m \u001B[38;5;21mcreate_unique_product_dict\u001B[39m(products:\u001B[38;5;28mlist\u001B[39m) \u001B[38;5;241m-\u001B[39m\u001B[38;5;241m>\u001B[39m \u001B[38;5;28mdict\u001B[39m:\n\u001B[0;32m----> 9\u001B[0m     unique_product_dict \u001B[38;5;241m=\u001B[39m {product: i \u001B[38;5;28;01mfor\u001B[39;00m i, product \u001B[38;5;129;01min\u001B[39;00m \u001B[38;5;28menumerate\u001B[39m(\u001B[38;5;28mlist\u001B[39m(\u001B[38;5;28;43mset\u001B[39;49m\u001B[43m(\u001B[49m\u001B[43mproducts_in_basket\u001B[49m\u001B[43m)\u001B[49m))}\n\u001B[1;32m     10\u001B[0m     \u001B[38;5;28;01mreturn\u001B[39;00m unique_product_dict\n",
      "\u001B[0;31mTypeError\u001B[0m: unhashable type: 'list'"
     ]
    }
   ],
   "source": [
    "window = 2\n",
    "word_lists = []\n",
    "all_products = []\n",
    "all_product_names = []\n",
    "for basket, product_in_basket in zip(baskets, products_in_basket):\n",
    "    all_products += basket\n",
    "\n",
    "\n",
    "    # for i,\n",
    "# dict(all_products)\n",
    "def create_unique_product_dict(products:list) -> dict:\n",
    "    products = list(products)\n",
    "    unique_product_dict = {product: i for i, product in enumerate(list(set(products)))}\n",
    "    return unique_product_dict\n",
    "create_unique_product_dict(all_products)\n",
    "\n"
   ],
   "metadata": {
    "collapsed": false,
    "pycharm": {
     "name": "#%%\n"
    }
   }
  },
  {
   "cell_type": "code",
   "execution_count": null,
   "outputs": [],
   "source": [
    "window = 2\n",
    "word_lists = []\n",
    "all_text = []\n",
    "\n",
    "for text in texts:\n",
    "    text = clean_text(text)\n",
    "    all_text += text\n",
    "    for i, word in enumerate(text):\n",
    "        for w in range(window):\n",
    "            if i + 1 + w < len(text):\n",
    "                word_lists.append([word] + [text[(i + 1 + w)]])\n",
    "            if i - w - 1 >= 0:\n",
    "                word_lists.append([word] + [text[(i - w - 1)]])\n",
    "            # print(i,word)\n",
    "word_lists\n"
   ],
   "metadata": {
    "collapsed": false,
    "pycharm": {
     "name": "#%%\n"
    }
   }
  },
  {
   "cell_type": "code",
   "execution_count": 227,
   "outputs": [
    {
     "data": {
      "text/plain": "                                                      ProductCode  \\\nInvoiceno                                                           \nD0071103230271  [2800294, 2700815, 2500002, 2500002, 2400365, ...   \nD0071103230301  [2801390, 2600241, 2802211, 2802211, 2801004, ...   \nD0071103240075  [2801402, 2800525, 2800525, 2803115, 2803115, ...   \nD0071103240146  [2802937, 2803123, 2803123, 2803093, 2803121, ...   \nD0071103250232  [2500066, 2500066, 2500066, 2500066, 2500002, ...   \n...                                                           ...   \nD0072209191015  [2816455, 2816455, 2815277, 2815277, 2815277, ...   \nD0072209191029  [2500902, 2816053, 2603361, 2603361, 2603361, ...   \nD0072209191033               [3000680, 3000382, 3017647, 3811722]   \nD0072209191036               [2702450, 2702761, 2703953, 2702831]   \nD0072209191037                        [3382831, 3382831, 3384516]   \n\n                                                      ProductName  \nInvoiceno                                                          \nD0071103230271  [Meridian Real Thai Chicken Chips 18(±3)g, Pro...  \nD0071103230301  [Azad Pan Pasanda Special 100 gm, Fire Box (12...  \nD0071103240075  [Aftab Crispy Chicken Wings 500 gm, Harvest Ri...  \nD0071103240146  [Cadbury Dairy Milk 49±4g(uk), Knorr  Chicken ...  \nD0071103250232  [Milk Vita Liquid Milk 500 Ml, Milk Vita Liqui...  \n...                                                           ...  \nD0072209191015  [Fresh Healthy Choice Salted Biscuit 100g, Fre...  \nD0072209191029  [Aarong Laban 500ml, Mama Ins.Cup Noodles Spic...  \nD0072209191033  [CloseUp Ever Fresh Menthol Fresh 100g, B.dhar...  \nD0072209191036  [Haiko Basil 10g (Plastic Bottle), Lens Pure S...  \nD0072209191037  [S201409 MEN`S POLO SHIRT-BOGO -2 PCS, S201409...  \n\n[257642 rows x 2 columns]",
      "text/html": "<div>\n<style scoped>\n    .dataframe tbody tr th:only-of-type {\n        vertical-align: middle;\n    }\n\n    .dataframe tbody tr th {\n        vertical-align: top;\n    }\n\n    .dataframe thead th {\n        text-align: right;\n    }\n</style>\n<table border=\"1\" class=\"dataframe\">\n  <thead>\n    <tr style=\"text-align: right;\">\n      <th></th>\n      <th>ProductCode</th>\n      <th>ProductName</th>\n    </tr>\n    <tr>\n      <th>Invoiceno</th>\n      <th></th>\n      <th></th>\n    </tr>\n  </thead>\n  <tbody>\n    <tr>\n      <th>D0071103230271</th>\n      <td>[2800294, 2700815, 2500002, 2500002, 2400365, ...</td>\n      <td>[Meridian Real Thai Chicken Chips 18(±3)g, Pro...</td>\n    </tr>\n    <tr>\n      <th>D0071103230301</th>\n      <td>[2801390, 2600241, 2802211, 2802211, 2801004, ...</td>\n      <td>[Azad Pan Pasanda Special 100 gm, Fire Box (12...</td>\n    </tr>\n    <tr>\n      <th>D0071103240075</th>\n      <td>[2801402, 2800525, 2800525, 2803115, 2803115, ...</td>\n      <td>[Aftab Crispy Chicken Wings 500 gm, Harvest Ri...</td>\n    </tr>\n    <tr>\n      <th>D0071103240146</th>\n      <td>[2802937, 2803123, 2803123, 2803093, 2803121, ...</td>\n      <td>[Cadbury Dairy Milk 49±4g(uk), Knorr  Chicken ...</td>\n    </tr>\n    <tr>\n      <th>D0071103250232</th>\n      <td>[2500066, 2500066, 2500066, 2500066, 2500002, ...</td>\n      <td>[Milk Vita Liquid Milk 500 Ml, Milk Vita Liqui...</td>\n    </tr>\n    <tr>\n      <th>...</th>\n      <td>...</td>\n      <td>...</td>\n    </tr>\n    <tr>\n      <th>D0072209191015</th>\n      <td>[2816455, 2816455, 2815277, 2815277, 2815277, ...</td>\n      <td>[Fresh Healthy Choice Salted Biscuit 100g, Fre...</td>\n    </tr>\n    <tr>\n      <th>D0072209191029</th>\n      <td>[2500902, 2816053, 2603361, 2603361, 2603361, ...</td>\n      <td>[Aarong Laban 500ml, Mama Ins.Cup Noodles Spic...</td>\n    </tr>\n    <tr>\n      <th>D0072209191033</th>\n      <td>[3000680, 3000382, 3017647, 3811722]</td>\n      <td>[CloseUp Ever Fresh Menthol Fresh 100g, B.dhar...</td>\n    </tr>\n    <tr>\n      <th>D0072209191036</th>\n      <td>[2702450, 2702761, 2703953, 2702831]</td>\n      <td>[Haiko Basil 10g (Plastic Bottle), Lens Pure S...</td>\n    </tr>\n    <tr>\n      <th>D0072209191037</th>\n      <td>[3382831, 3382831, 3384516]</td>\n      <td>[S201409 MEN`S POLO SHIRT-BOGO -2 PCS, S201409...</td>\n    </tr>\n  </tbody>\n</table>\n<p>257642 rows × 2 columns</p>\n</div>"
     },
     "execution_count": 227,
     "metadata": {},
     "output_type": "execute_result"
    }
   ],
   "source": [
    "product_corpus"
   ],
   "metadata": {
    "collapsed": false,
    "pycharm": {
     "name": "#%%\n"
    }
   }
  },
  {
   "cell_type": "code",
   "execution_count": 219,
   "outputs": [
    {
     "data": {
      "text/plain": "Invoiceno\nD0071103230204                           [Johnson Baby Powder 200g]\nD0071103250120          [X-Farlin Wet Wipes (10 PCs)  DT - 004A(B)]\nD0071103260132    [Johnson Milk+Rice Baby Bath 200ml MY, Meril B...\nD0071103260462             [Angel Feeding Bottle 240 ml RXA-8A2 PP]\nD0071103270022          [X-Farlin Wet Wipes (35 PCs)  DT - 005B(B)]\n                                        ...                        \nD0072209190778                   [Freshmaker Baby Wet Wipes 120Pcs]\nD0072209190929    [Kodomo Baby Shampoo Gentle Soft 200ml, Dr. C....\nD0072209190950                    [Pepsodent Orange Toothpaste 45g]\nD0072209190971                [Parachute Just For Baby Powder 200g]\nD0072209191020                            [Savlon Baby Wipes 60Pcs]\nName: ProductName, Length: 53681, dtype: object"
     },
     "execution_count": 219,
     "metadata": {},
     "output_type": "execute_result"
    }
   ],
   "source": [
    "products_name"
   ],
   "metadata": {
    "collapsed": false,
    "pycharm": {
     "name": "#%%\n"
    }
   }
  },
  {
   "cell_type": "code",
   "execution_count": 215,
   "outputs": [
    {
     "data": {
      "text/plain": "Invoiceno\nD0071103230204                               [2100108]\nD0071103250120                               [2100410]\nD0071103260132                      [2100081, 2100110]\nD0071103260462                               [2100227]\nD0071103270022                               [2100414]\n                                  ...                 \nD0072209190778                               [2101922]\nD0072209190929    [2101457, 2102155, 2100705, 2101284]\nD0072209190950                               [2102234]\nD0072209190971                               [2102084]\nD0072209191020                               [2101954]\nName: ProductCode, Length: 53681, dtype: object"
     },
     "execution_count": 215,
     "metadata": {},
     "output_type": "execute_result"
    }
   ],
   "source": [],
   "metadata": {
    "collapsed": false,
    "pycharm": {
     "name": "#%%\n"
    }
   }
  }
 ],
 "metadata": {
  "kernelspec": {
   "display_name": "Python 3",
   "language": "python",
   "name": "python3"
  },
  "language_info": {
   "codemirror_mode": {
    "name": "ipython",
    "version": 2
   },
   "file_extension": ".py",
   "mimetype": "text/x-python",
   "name": "python",
   "nbconvert_exporter": "python",
   "pygments_lexer": "ipython2",
   "version": "2.7.6"
  }
 },
 "nbformat": 4,
 "nbformat_minor": 0
}