{
 "nbformat": 4,
 "nbformat_minor": 0,
 "metadata": {
  "colab": {
   "provenance": []
  },
  "kernelspec": {
   "name": "python3",
   "language": "python",
   "display_name": "Python 3 (ipykernel)"
  },
  "accelerator": "GPU"
 },
 "cells": [
  {
   "cell_type": "code",
   "execution_count": null,
   "outputs": [],
   "source": [
    "# Try Triple2vec model using Beta-RecSys"
   ],
   "metadata": {
    "collapsed": false
   }
  },
  {
   "cell_type": "markdown",
   "metadata": {
    "id": "ZRd98cp0vP71"
   },
   "source": [
    "## Environment setup"
   ]
  },
  {
   "cell_type": "code",
   "metadata": {
    "colab": {
     "base_uri": "https://localhost:8080/"
    },
    "id": "cuygL-Lru5AJ",
    "outputId": "fa18cccc-81ce-4f65-b1ae-9dbc3a494784"
   },
   "source": [
    "!pip install torch==1.7.1+cu101 -f https://download.pytorch.org/whl/torch_stable.html"
   ],
   "execution_count": null,
   "outputs": [
    {
     "output_type": "stream",
     "text": [
      "Looking in links: https://download.pytorch.org/whl/torch_stable.html\n",
      "Collecting torch==1.7.1+cu101\n",
      "\u001B[?25l  Downloading https://download.pytorch.org/whl/cu101/torch-1.7.1%2Bcu101-cp36-cp36m-linux_x86_64.whl (735.4MB)\n",
      "\u001B[K     |████████████████████████████████| 735.4MB 21kB/s \n",
      "\u001B[?25hRequirement already satisfied: typing-extensions in /usr/local/lib/python3.6/dist-packages (from torch==1.7.1+cu101) (3.7.4.3)\n",
      "Requirement already satisfied: numpy in /usr/local/lib/python3.6/dist-packages (from torch==1.7.1+cu101) (1.19.5)\n",
      "Requirement already satisfied: dataclasses; python_version < \"3.7\" in /usr/local/lib/python3.6/dist-packages (from torch==1.7.1+cu101) (0.8)\n",
      "\u001B[31mERROR: torchvision 0.8.1+cu101 has requirement torch==1.7.0, but you'll have torch 1.7.1+cu101 which is incompatible.\u001B[0m\n",
      "Installing collected packages: torch\n",
      "  Found existing installation: torch 1.7.0+cu101\n",
      "    Uninstalling torch-1.7.0+cu101:\n",
      "      Successfully uninstalled torch-1.7.0+cu101\n",
      "Successfully installed torch-1.7.1+cu101\n"
     ],
     "name": "stdout"
    }
   ]
  },
  {
   "cell_type": "code",
   "metadata": {
    "colab": {
     "base_uri": "https://localhost:8080/",
     "height": 327
    },
    "id": "Sli7Icu8xGRO",
    "outputId": "b3524ae4-d56a-46e4-c0f3-b5b2e0877291"
   },
   "source": [
    "!pip install --user pandas==1.0.3"
   ],
   "execution_count": null,
   "outputs": [
    {
     "output_type": "stream",
     "text": [
      "Collecting pandas==1.0.3\n",
      "\u001B[?25l  Downloading https://files.pythonhosted.org/packages/bb/71/8f53bdbcbc67c912b888b40def255767e475402e9df64050019149b1a943/pandas-1.0.3-cp36-cp36m-manylinux1_x86_64.whl (10.0MB)\n",
      "\u001B[K     |████████████████████████████████| 10.0MB 19.5MB/s \n",
      "\u001B[?25hRequirement already satisfied: numpy>=1.13.3 in /usr/local/lib/python3.6/dist-packages (from pandas==1.0.3) (1.19.5)\n",
      "Requirement already satisfied: pytz>=2017.2 in /usr/local/lib/python3.6/dist-packages (from pandas==1.0.3) (2018.9)\n",
      "Requirement already satisfied: python-dateutil>=2.6.1 in /usr/local/lib/python3.6/dist-packages (from pandas==1.0.3) (2.8.1)\n",
      "Requirement already satisfied: six>=1.5 in /usr/local/lib/python3.6/dist-packages (from python-dateutil>=2.6.1->pandas==1.0.3) (1.15.0)\n",
      "\u001B[31mERROR: google-colab 1.0.0 has requirement pandas~=1.1.0; python_version >= \"3.0\", but you'll have pandas 1.0.3 which is incompatible.\u001B[0m\n",
      "\u001B[31mERROR: fbprophet 0.7.1 has requirement pandas>=1.0.4, but you'll have pandas 1.0.3 which is incompatible.\u001B[0m\n",
      "Installing collected packages: pandas\n",
      "Successfully installed pandas-1.0.3\n"
     ],
     "name": "stdout"
    },
    {
     "output_type": "display_data",
     "data": {
      "application/vnd.colab-display-data+json": {
       "pip_warning": {
        "packages": [
         "pandas"
        ]
       }
      }
     },
     "metadata": {
      "tags": []
     }
    }
   ]
  },
  {
   "cell_type": "code",
   "metadata": {
    "colab": {
     "base_uri": "https://localhost:8080/",
     "height": 1000
    },
    "id": "xzIWnlQHxLfI",
    "outputId": "5c86dfca-bf16-48ba-93e7-f936c3475174"
   },
   "source": [
    "!pip install git+https://github.com/mengzaiqiao/beta-recsys.git"
   ],
   "execution_count": 4,
   "outputs": [
    {
     "name": "stdout",
     "output_type": "stream",
     "text": [
      "Collecting git+https://github.com/mengzaiqiao/beta-recsys.git\r\n",
      "  Cloning https://github.com/mengzaiqiao/beta-recsys.git to /tmp/pip-req-build-giltxnk9\r\n",
      "  Running command git clone -q https://github.com/mengzaiqiao/beta-recsys.git /tmp/pip-req-build-giltxnk9\r\n",
      "Collecting aiofiles~=0.4.0\r\n",
      "  Using cached aiofiles-0.4.0-py3-none-any.whl (9.2 kB)\r\n",
      "Collecting aiohttp>=3.7.4\r\n",
      "  Using cached aiohttp-3.8.3-cp38-cp38-manylinux_2_17_x86_64.manylinux2014_x86_64.whl (1.0 MB)\r\n",
      "Processing /home/shadman/.cache/pip/wheels/ba/03/bb/7a97840eb54479b328672e15a536e49dc60da200fb21564d53/GPUtil-1.4.0-py3-none-any.whl\r\n",
      "Collecting mock==4.0.1\r\n",
      "  Using cached mock-4.0.1-py3-none-any.whl (28 kB)\r\n",
      "Collecting munch==2.5.0\r\n",
      "  Using cached munch-2.5.0-py2.py3-none-any.whl (10 kB)\r\n",
      "Collecting nest_asyncio~=1.3.3\r\n",
      "  Using cached nest_asyncio-1.3.3-py3-none-any.whl (4.7 kB)\r\n",
      "Collecting numpy>=1.16.0\r\n",
      "  Using cached numpy-1.23.5-cp38-cp38-manylinux_2_17_x86_64.manylinux2014_x86_64.whl (17.1 MB)\r\n",
      "Collecting pandas==1.0.3\r\n",
      "  Using cached pandas-1.0.3-cp38-cp38-manylinux1_x86_64.whl (10.0 MB)\r\n",
      "Processing /home/shadman/.cache/pip/wheels/f6/59/c2/38111ef4c354088a156bc95fbeb5396c0cac91a0f62f7158b9/psutil-5.7.3-cp38-cp38-linux_x86_64.whl\r\n",
      "Processing /home/shadman/.cache/pip/wheels/b9/fc/53/e6d25e37c45566d8ed2ec6670e78142b31256d8be4729c2965/py_cpuinfo-5.0.0-py3-none-any.whl\r\n",
      "Collecting py7zr~=0.6\r\n",
      "  Using cached py7zr-0.20.2-py3-none-any.whl (65 kB)\r\n",
      "Collecting ray==1.0.1\r\n",
      "  Using cached ray-1.0.1-cp38-cp38-manylinux1_x86_64.whl (23.1 MB)\r\n",
      "Collecting requests==2.24.0\r\n",
      "  Using cached requests-2.24.0-py2.py3-none-any.whl (61 kB)\r\n",
      "Processing /home/shadman/.cache/pip/wheels/bf/b9/ca/1aa2665648aeaffd559c4096e510ed2b343b808121f8d31efb/rstcheck-3.3.1-py3-none-any.whl\r\n",
      "Collecting scikit-learn>=0.22\r\n",
      "  Using cached scikit_learn-1.2.0-cp38-cp38-manylinux_2_17_x86_64.manylinux2014_x86_64.whl (9.7 MB)\r\n",
      "Collecting scipy>=1.4\r\n",
      "  Using cached scipy-1.9.3-cp38-cp38-manylinux_2_17_x86_64.manylinux2014_x86_64.whl (33.8 MB)\r\n",
      "Collecting sphinx_markdown_tables~=0.0.14\r\n",
      "  Using cached sphinx_markdown_tables-0.0.17-py3-none-any.whl (28 kB)\r\n",
      "Collecting tabulate~=0.8.7\r\n",
      "  Using cached tabulate-0.8.10-py3-none-any.whl (29 kB)\r\n",
      "Collecting tensorboardX>=2.1\r\n",
      "  Using cached tensorboardX-2.5.1-py2.py3-none-any.whl (125 kB)\r\n",
      "Collecting torch>=1.7.1\r\n",
      "  Downloading torch-1.13.0-cp38-cp38-manylinux1_x86_64.whl (890.2 MB)\r\n",
      "\u001B[K     |▌                               | 14.4 MB 152 kB/s eta 1:36:01^C\r\n",
      "\r\n",
      "\u001B[31mERROR: Operation cancelled by user\u001B[0m\r\n",
      "\u001B[?25h"
     ]
    }
   ]
  },
  {
   "cell_type": "code",
   "execution_count": null,
   "outputs": [],
   "source": [
    "!pip list"
   ],
   "metadata": {
    "collapsed": false,
    "pycharm": {
     "is_executing": true
    }
   }
  },
  {
   "cell_type": "code",
   "metadata": {
    "colab": {
     "base_uri": "https://localhost:8080/",
     "height": 35
    },
    "id": "I99_k8sdxdzl",
    "outputId": "ad0bf578-33ee-45ab-ec9d-838d0b955c5d"
   },
   "source": [
    "import pandas\n",
    "import numpy as np\n",
    "pandas.__version__\n",
    "np.__version__"
   ],
   "execution_count": 9,
   "outputs": [
    {
     "data": {
      "text/plain": "'1.23.3'"
     },
     "execution_count": 9,
     "metadata": {},
     "output_type": "execute_result"
    }
   ]
  },
  {
   "cell_type": "code",
   "metadata": {
    "colab": {
     "base_uri": "https://localhost:8080/",
     "height": 35
    },
    "id": "tEmioUBsxiG9",
    "outputId": "38ea4950-3d57-4ade-d9e3-d36803ed56fb"
   },
   "source": [
    "import beta_rec\n",
    "beta_rec.__version__"
   ],
   "execution_count": 3,
   "outputs": [
    {
     "data": {
      "text/plain": "'0.2.4'"
     },
     "execution_count": 3,
     "metadata": {},
     "output_type": "execute_result"
    }
   ]
  },
  {
   "cell_type": "code",
   "metadata": {
    "colab": {
     "base_uri": "https://localhost:8080/",
     "height": 35
    },
    "id": "kpbWPIuTxkvG",
    "outputId": "ae9f9838-7d58-4687-c95e-d80e1657581b"
   },
   "source": [
    "import torch\n",
    "torch.__version__"
   ],
   "execution_count": 4,
   "outputs": [
    {
     "data": {
      "text/plain": "'1.12.1+rocm5.1.1'"
     },
     "execution_count": 4,
     "metadata": {},
     "output_type": "execute_result"
    }
   ]
  },
  {
   "cell_type": "code",
   "execution_count": 5,
   "outputs": [
    {
     "data": {
      "text/plain": "Munch({'config_file': './configs/triple2vec_default.json'})"
     },
     "execution_count": 5,
     "metadata": {},
     "output_type": "execute_result"
    }
   ],
   "source": [
    "from munch import munchify\n",
    "config = {\"config_file\": \"./configs/triple2vec_default.json\"}\n",
    "munchify(config)"
   ],
   "metadata": {
    "collapsed": false
   }
  },
  {
   "cell_type": "markdown",
   "metadata": {
    "id": "vr3SSKGGxnQ2"
   },
   "source": [
    "## Loading dataset: Tafent"
   ]
  },
  {
   "cell_type": "code",
   "metadata": {
    "id": "9SVZK5-px6LU",
    "colab": {
     "base_uri": "https://localhost:8080/"
    },
    "outputId": "67f58177-e8d9-4a61-b3a1-46ab7321dd9f"
   },
   "source": [
    "from beta_rec.datasets.tafeng import Tafeng\n",
    "from beta_rec.data.grocery_data import GroceryData\n",
    "\n",
    "dataset = Tafeng(min_u_c=30,min_i_c=20,min_o_c=10)\n",
    "split_dataset = dataset.load_temporal_basket_split(test_rate=0.2)\n",
    "data = GroceryData(split_dataset)"
   ],
   "execution_count": 7,
   "outputs": [
    {
     "ename": "ValueError",
     "evalue": "Object arrays cannot be loaded when allow_pickle=False",
     "output_type": "error",
     "traceback": [
      "\u001B[0;31m---------------------------------------------------------------------------\u001B[0m",
      "\u001B[0;31mValueError\u001B[0m                                Traceback (most recent call last)",
      "Cell \u001B[0;32mIn [7], line 5\u001B[0m\n\u001B[1;32m      2\u001B[0m \u001B[38;5;28;01mfrom\u001B[39;00m \u001B[38;5;21;01mbeta_rec\u001B[39;00m\u001B[38;5;21;01m.\u001B[39;00m\u001B[38;5;21;01mdata\u001B[39;00m\u001B[38;5;21;01m.\u001B[39;00m\u001B[38;5;21;01mgrocery_data\u001B[39;00m \u001B[38;5;28;01mimport\u001B[39;00m GroceryData\n\u001B[1;32m      4\u001B[0m dataset \u001B[38;5;241m=\u001B[39m Tafeng(min_u_c\u001B[38;5;241m=\u001B[39m\u001B[38;5;241m30\u001B[39m,min_i_c\u001B[38;5;241m=\u001B[39m\u001B[38;5;241m20\u001B[39m,min_o_c\u001B[38;5;241m=\u001B[39m\u001B[38;5;241m10\u001B[39m)\n\u001B[0;32m----> 5\u001B[0m split_dataset \u001B[38;5;241m=\u001B[39m dataset\u001B[38;5;241m.\u001B[39mload_temporal_basket_split(test_rate\u001B[38;5;241m=\u001B[39m\u001B[38;5;241m0.2\u001B[39m)\n\u001B[1;32m      6\u001B[0m data \u001B[38;5;241m=\u001B[39m GroceryData(split_dataset)\n",
      "File \u001B[0;32m~/.local/lib/python3.8/site-packages/beta_rec/datasets/dataset_base.py:899\u001B[0m, in \u001B[0;36mDatasetBase.load_temporal_basket_split\u001B[0;34m(self, test_rate, n_negative, by_user, n_test, download, force_redo)\u001B[0m\n\u001B[1;32m    896\u001B[0m         un_zip(processed_temporal_basket_split_path \u001B[38;5;241m+\u001B[39m \u001B[38;5;124m\"\u001B[39m\u001B[38;5;124m.zip\u001B[39m\u001B[38;5;124m\"\u001B[39m, download_path)\n\u001B[1;32m    897\u001B[0m     \u001B[38;5;28;01melse\u001B[39;00m:\n\u001B[1;32m    898\u001B[0m         \u001B[38;5;66;03m# make\u001B[39;00m\n\u001B[0;32m--> 899\u001B[0m         \u001B[38;5;28;43mself\u001B[39;49m\u001B[38;5;241;43m.\u001B[39;49m\u001B[43mmake_temporal_basket_split\u001B[49m\u001B[43m(\u001B[49m\n\u001B[1;32m    900\u001B[0m \u001B[43m            \u001B[49m\u001B[43mtest_rate\u001B[49m\u001B[38;5;241;43m=\u001B[39;49m\u001B[43mtest_rate\u001B[49m\u001B[43m,\u001B[49m\n\u001B[1;32m    901\u001B[0m \u001B[43m            \u001B[49m\u001B[43mn_negative\u001B[49m\u001B[38;5;241;43m=\u001B[39;49m\u001B[43mn_negative\u001B[49m\u001B[43m,\u001B[49m\n\u001B[1;32m    902\u001B[0m \u001B[43m            \u001B[49m\u001B[43mby_user\u001B[49m\u001B[38;5;241;43m=\u001B[39;49m\u001B[43mby_user\u001B[49m\u001B[43m,\u001B[49m\n\u001B[1;32m    903\u001B[0m \u001B[43m            \u001B[49m\u001B[43mn_test\u001B[49m\u001B[38;5;241;43m=\u001B[39;49m\u001B[43mn_test\u001B[49m\u001B[43m,\u001B[49m\n\u001B[1;32m    904\u001B[0m \u001B[43m        \u001B[49m\u001B[43m)\u001B[49m\n\u001B[1;32m    906\u001B[0m \u001B[38;5;66;03m# load data from local storage\u001B[39;00m\n\u001B[1;32m    907\u001B[0m \u001B[38;5;28;01mreturn\u001B[39;00m load_split_data(processed_temporal_basket_split_path, n_test\u001B[38;5;241m=\u001B[39mn_test)\n",
      "File \u001B[0;32m~/.local/lib/python3.8/site-packages/beta_rec/utils/common_util.py:232\u001B[0m, in \u001B[0;36mtimeit.<locals>.wrapper\u001B[0;34m(*args, **kw)\u001B[0m\n\u001B[1;32m    229\u001B[0m \u001B[38;5;129m@wraps\u001B[39m(method)\n\u001B[1;32m    230\u001B[0m \u001B[38;5;28;01mdef\u001B[39;00m \u001B[38;5;21mwrapper\u001B[39m(\u001B[38;5;241m*\u001B[39margs, \u001B[38;5;241m*\u001B[39m\u001B[38;5;241m*\u001B[39mkw):\n\u001B[1;32m    231\u001B[0m     ts \u001B[38;5;241m=\u001B[39m time\u001B[38;5;241m.\u001B[39mtime()\n\u001B[0;32m--> 232\u001B[0m     result \u001B[38;5;241m=\u001B[39m \u001B[43mmethod\u001B[49m\u001B[43m(\u001B[49m\u001B[38;5;241;43m*\u001B[39;49m\u001B[43margs\u001B[49m\u001B[43m,\u001B[49m\u001B[43m \u001B[49m\u001B[38;5;241;43m*\u001B[39;49m\u001B[38;5;241;43m*\u001B[39;49m\u001B[43mkw\u001B[49m\u001B[43m)\u001B[49m\n\u001B[1;32m    233\u001B[0m     te \u001B[38;5;241m=\u001B[39m time\u001B[38;5;241m.\u001B[39mtime()\n\u001B[1;32m    234\u001B[0m     \u001B[38;5;28;01mif\u001B[39;00m \u001B[38;5;124m\"\u001B[39m\u001B[38;5;124mlog_time\u001B[39m\u001B[38;5;124m\"\u001B[39m \u001B[38;5;129;01min\u001B[39;00m kw:\n",
      "File \u001B[0;32m~/.local/lib/python3.8/site-packages/beta_rec/datasets/dataset_base.py:480\u001B[0m, in \u001B[0;36mDatasetBase.make_temporal_basket_split\u001B[0;34m(self, data, test_rate, n_negative, by_user, n_test)\u001B[0m\n\u001B[1;32m    459\u001B[0m \u001B[38;5;124;03m\"\"\"Generate split data with temporal_basket_split.\u001B[39;00m\n\u001B[1;32m    460\u001B[0m \n\u001B[1;32m    461\u001B[0m \u001B[38;5;124;03mGenerate split data with temporal_basket_split method.\u001B[39;00m\n\u001B[0;32m   (...)\u001B[0m\n\u001B[1;32m    477\u001B[0m \u001B[38;5;124;03m    test_data list(DataFrame): List of interactions for testing\u001B[39;00m\n\u001B[1;32m    478\u001B[0m \u001B[38;5;124;03m\"\"\"\u001B[39;00m\n\u001B[1;32m    479\u001B[0m \u001B[38;5;28;01mif\u001B[39;00m data \u001B[38;5;129;01mis\u001B[39;00m \u001B[38;5;28;01mNone\u001B[39;00m:\n\u001B[0;32m--> 480\u001B[0m     data \u001B[38;5;241m=\u001B[39m \u001B[38;5;28;43mself\u001B[39;49m\u001B[38;5;241;43m.\u001B[39;49m\u001B[43mload_interaction\u001B[49m\u001B[43m(\u001B[49m\u001B[43m)\u001B[49m\n\u001B[1;32m    482\u001B[0m \u001B[38;5;28;01mif\u001B[39;00m \u001B[38;5;129;01mnot\u001B[39;00m \u001B[38;5;28misinstance\u001B[39m(data, pd\u001B[38;5;241m.\u001B[39mDataFrame):\n\u001B[1;32m    483\u001B[0m     \u001B[38;5;28;01mraise\u001B[39;00m \u001B[38;5;167;01mRuntimeError\u001B[39;00m(\u001B[38;5;124m\"\u001B[39m\u001B[38;5;124mdata is not a type of DataFrame\u001B[39m\u001B[38;5;124m\"\u001B[39m)\n",
      "File \u001B[0;32m~/.local/lib/python3.8/site-packages/beta_rec/datasets/dataset_base.py:203\u001B[0m, in \u001B[0;36mDatasetBase.load_interaction\u001B[0;34m(self)\u001B[0m\n\u001B[1;32m    201\u001B[0m     \u001B[38;5;28;01mfinally\u001B[39;00m:\n\u001B[1;32m    202\u001B[0m         \u001B[38;5;28mself\u001B[39m\u001B[38;5;241m.\u001B[39mpreprocess()\n\u001B[0;32m--> 203\u001B[0m data \u001B[38;5;241m=\u001B[39m \u001B[43mget_dataframe_from_npz\u001B[49m\u001B[43m(\u001B[49m\u001B[43mprocessed_file_path\u001B[49m\u001B[43m)\u001B[49m\n\u001B[1;32m    204\u001B[0m \u001B[38;5;28mprint\u001B[39m(\u001B[38;5;124m\"\u001B[39m\u001B[38;5;124m-\u001B[39m\u001B[38;5;124m\"\u001B[39m \u001B[38;5;241m*\u001B[39m \u001B[38;5;241m80\u001B[39m)\n\u001B[1;32m    205\u001B[0m \u001B[38;5;28mprint\u001B[39m(\u001B[38;5;124m\"\u001B[39m\u001B[38;5;124mRaw interaction statistics\u001B[39m\u001B[38;5;124m\"\u001B[39m)\n",
      "File \u001B[0;32m~/.local/lib/python3.8/site-packages/beta_rec/utils/common_util.py:138\u001B[0m, in \u001B[0;36mget_dataframe_from_npz\u001B[0;34m(data_file)\u001B[0m\n\u001B[1;32m    126\u001B[0m \u001B[38;5;124;03m\"\"\"Get the DataFrame from npz file.\u001B[39;00m\n\u001B[1;32m    127\u001B[0m \n\u001B[1;32m    128\u001B[0m \u001B[38;5;124;03mGet the DataFrame from npz file.\u001B[39;00m\n\u001B[0;32m   (...)\u001B[0m\n\u001B[1;32m    134\u001B[0m \u001B[38;5;124;03m    DataFrame: the unzip data.\u001B[39;00m\n\u001B[1;32m    135\u001B[0m \u001B[38;5;124;03m\"\"\"\u001B[39;00m\n\u001B[1;32m    136\u001B[0m np_data \u001B[38;5;241m=\u001B[39m np\u001B[38;5;241m.\u001B[39mload(data_file)\n\u001B[1;32m    137\u001B[0m data_dic \u001B[38;5;241m=\u001B[39m {\n\u001B[0;32m--> 138\u001B[0m     DEFAULT_USER_COL: \u001B[43mnp_data\u001B[49m\u001B[43m[\u001B[49m\u001B[38;5;124;43m\"\u001B[39;49m\u001B[38;5;124;43muser_ids\u001B[39;49m\u001B[38;5;124;43m\"\u001B[39;49m\u001B[43m]\u001B[49m,\n\u001B[1;32m    139\u001B[0m     DEFAULT_ITEM_COL: np_data[\u001B[38;5;124m\"\u001B[39m\u001B[38;5;124mitem_ids\u001B[39m\u001B[38;5;124m\"\u001B[39m],\n\u001B[1;32m    140\u001B[0m     DEFAULT_RATING_COL: np_data[\u001B[38;5;124m\"\u001B[39m\u001B[38;5;124mratings\u001B[39m\u001B[38;5;124m\"\u001B[39m],\n\u001B[1;32m    141\u001B[0m }\n\u001B[1;32m    142\u001B[0m \u001B[38;5;28;01mif\u001B[39;00m \u001B[38;5;124m\"\u001B[39m\u001B[38;5;124mtimestamps\u001B[39m\u001B[38;5;124m\"\u001B[39m \u001B[38;5;129;01min\u001B[39;00m np_data:\n\u001B[1;32m    143\u001B[0m     data_dic[DEFAULT_TIMESTAMP_COL] \u001B[38;5;241m=\u001B[39m np_data[\u001B[38;5;124m\"\u001B[39m\u001B[38;5;124mtimestamps\u001B[39m\u001B[38;5;124m\"\u001B[39m]\n",
      "File \u001B[0;32m~/.local/lib/python3.8/site-packages/numpy/lib/npyio.py:245\u001B[0m, in \u001B[0;36mNpzFile.__getitem__\u001B[0;34m(self, key)\u001B[0m\n\u001B[1;32m    243\u001B[0m \u001B[38;5;28;01mif\u001B[39;00m magic \u001B[38;5;241m==\u001B[39m \u001B[38;5;28mformat\u001B[39m\u001B[38;5;241m.\u001B[39mMAGIC_PREFIX:\n\u001B[1;32m    244\u001B[0m     \u001B[38;5;28mbytes\u001B[39m \u001B[38;5;241m=\u001B[39m \u001B[38;5;28mself\u001B[39m\u001B[38;5;241m.\u001B[39mzip\u001B[38;5;241m.\u001B[39mopen(key)\n\u001B[0;32m--> 245\u001B[0m     \u001B[38;5;28;01mreturn\u001B[39;00m \u001B[38;5;28;43mformat\u001B[39;49m\u001B[38;5;241;43m.\u001B[39;49m\u001B[43mread_array\u001B[49m\u001B[43m(\u001B[49m\u001B[38;5;28;43mbytes\u001B[39;49m\u001B[43m,\u001B[49m\n\u001B[1;32m    246\u001B[0m \u001B[43m                             \u001B[49m\u001B[43mallow_pickle\u001B[49m\u001B[38;5;241;43m=\u001B[39;49m\u001B[38;5;28;43mself\u001B[39;49m\u001B[38;5;241;43m.\u001B[39;49m\u001B[43mallow_pickle\u001B[49m\u001B[43m,\u001B[49m\n\u001B[1;32m    247\u001B[0m \u001B[43m                             \u001B[49m\u001B[43mpickle_kwargs\u001B[49m\u001B[38;5;241;43m=\u001B[39;49m\u001B[38;5;28;43mself\u001B[39;49m\u001B[38;5;241;43m.\u001B[39;49m\u001B[43mpickle_kwargs\u001B[49m\u001B[43m)\u001B[49m\n\u001B[1;32m    248\u001B[0m \u001B[38;5;28;01melse\u001B[39;00m:\n\u001B[1;32m    249\u001B[0m     \u001B[38;5;28;01mreturn\u001B[39;00m \u001B[38;5;28mself\u001B[39m\u001B[38;5;241m.\u001B[39mzip\u001B[38;5;241m.\u001B[39mread(key)\n",
      "File \u001B[0;32m~/.local/lib/python3.8/site-packages/numpy/lib/format.py:741\u001B[0m, in \u001B[0;36mread_array\u001B[0;34m(fp, allow_pickle, pickle_kwargs)\u001B[0m\n\u001B[1;32m    738\u001B[0m \u001B[38;5;28;01mif\u001B[39;00m dtype\u001B[38;5;241m.\u001B[39mhasobject:\n\u001B[1;32m    739\u001B[0m     \u001B[38;5;66;03m# The array contained Python objects. We need to unpickle the data.\u001B[39;00m\n\u001B[1;32m    740\u001B[0m     \u001B[38;5;28;01mif\u001B[39;00m \u001B[38;5;129;01mnot\u001B[39;00m allow_pickle:\n\u001B[0;32m--> 741\u001B[0m         \u001B[38;5;28;01mraise\u001B[39;00m \u001B[38;5;167;01mValueError\u001B[39;00m(\u001B[38;5;124m\"\u001B[39m\u001B[38;5;124mObject arrays cannot be loaded when \u001B[39m\u001B[38;5;124m\"\u001B[39m\n\u001B[1;32m    742\u001B[0m                          \u001B[38;5;124m\"\u001B[39m\u001B[38;5;124mallow_pickle=False\u001B[39m\u001B[38;5;124m\"\u001B[39m)\n\u001B[1;32m    743\u001B[0m     \u001B[38;5;28;01mif\u001B[39;00m pickle_kwargs \u001B[38;5;129;01mis\u001B[39;00m \u001B[38;5;28;01mNone\u001B[39;00m:\n\u001B[1;32m    744\u001B[0m         pickle_kwargs \u001B[38;5;241m=\u001B[39m {}\n",
      "\u001B[0;31mValueError\u001B[0m: Object arrays cannot be loaded when allow_pickle=False"
     ]
    }
   ]
  },
  {
   "cell_type": "markdown",
   "metadata": {
    "id": "K0D_pU75yVQX"
   },
   "source": [
    "## Loading model"
   ]
  },
  {
   "cell_type": "code",
   "metadata": {
    "id": "BPjTrWlEyQkM",
    "colab": {
     "base_uri": "https://localhost:8080/"
    },
    "outputId": "4619de7b-68a1-4417-d7a3-84dd998f03a0"
   },
   "source": [
    "from beta_rec.recommenders import Triple2vec\n",
    "config = {\"config_file\": \"./configs/triple2vec_default.json\"}\n"
   ],
   "execution_count": 12,
   "outputs": []
  },
  {
   "cell_type": "code",
   "execution_count": 13,
   "outputs": [
    {
     "data": {
      "text/plain": "{'config_file': './configs/triple2vec_default.json'}"
     },
     "execution_count": 13,
     "metadata": {},
     "output_type": "execute_result"
    }
   ],
   "source": [
    "config"
   ],
   "metadata": {
    "collapsed": false
   }
  },
  {
   "cell_type": "code",
   "execution_count": null,
   "outputs": [],
   "source": [
    "model = Triple2vec(config)\n",
    "model.train(data)"
   ],
   "metadata": {
    "collapsed": false
   }
  },
  {
   "cell_type": "markdown",
   "metadata": {
    "id": "22K1GkdC0LFk"
   },
   "source": [
    "## Performance report"
   ]
  },
  {
   "cell_type": "code",
   "metadata": {
    "id": "Sk7I2Fb10Nqm",
    "colab": {
     "base_uri": "https://localhost:8080/"
    },
    "outputId": "b6e15d99-9a4d-492c-a250-c3743f50344a"
   },
   "source": [
    "model.test(data.test[0])"
   ],
   "execution_count": null,
   "outputs": [
    {
     "output_type": "execute_result",
     "data": {
      "text/plain": [
       "[{'batch_size': [256],\n",
       "  'data_split': ['temporal'],\n",
       "  'dataset': ['dunnhumby'],\n",
       "  'emb_dim': [64],\n",
       "  'lr': [0.0005],\n",
       "  'map@10': 0.16347118281861553,\n",
       "  'map@20': 0.19110270612728028,\n",
       "  'map@5': 0.1306961643639527,\n",
       "  'model': ['Triple2vec'],\n",
       "  'n_negative': [100],\n",
       "  'n_sample': [1000000],\n",
       "  'ndcg@10': 0.3318274526078527,\n",
       "  'ndcg@20': 0.3545122488423556,\n",
       "  'ndcg@5': 0.3555908598834414,\n",
       "  'optimizer': ['adam'],\n",
       "  'precision@10': 0.2461171662125341,\n",
       "  'precision@20': 0.17714577656675745,\n",
       "  'precision@5': 0.32111716621253406,\n",
       "  'recall@10': 0.2717724057660659,\n",
       "  'recall@20': 0.3787425138241306,\n",
       "  'recall@5': 0.18433865583641434,\n",
       "  'run_time': [3102.5337154865265],\n",
       "  'test_rate': [0.2]}]"
      ]
     },
     "metadata": {
      "tags": []
     },
     "execution_count": 6
    }
   ]
  }
 ]
}
