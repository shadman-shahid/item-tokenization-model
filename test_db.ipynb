{
 "cells": [
  {
   "cell_type": "code",
   "execution_count": 4,
   "metadata": {
    "collapsed": true
   },
   "outputs": [
    {
     "ename": "IndentationError",
     "evalue": "expected an indented block (utils.py, line 106)",
     "output_type": "error",
     "traceback": [
      "Traceback \u001B[0;36m(most recent call last)\u001B[0m:\n",
      "\u001B[0m  File \u001B[1;32m~/.local/lib/python3.8/site-packages/IPython/core/interactiveshell.py:3378\u001B[0m in \u001B[1;35mrun_code\u001B[0m\n    exec(code_obj, self.user_global_ns, self.user_ns)\u001B[0m\n",
      "\u001B[0;36m  Cell \u001B[0;32mIn [4], line 3\u001B[0;36m\n\u001B[0;31m    from utils import ExtractCalendar\u001B[0;36m\n",
      "\u001B[0;36m  File \u001B[0;32m~/Projects/item-tokenization-model/utils.py:106\u001B[0;36m\u001B[0m\n\u001B[0;31m    return\u001B[0m\n\u001B[0m    ^\u001B[0m\n\u001B[0;31mIndentationError\u001B[0m\u001B[0;31m:\u001B[0m expected an indented block\n"
     ]
    }
   ],
   "source": [
    "import pandas as pd\n",
    "\n",
    "from utils import ExtractCalendar\n",
    "from datetime import date\n",
    "import pandas as pd\n",
    "import os"
   ]
  },
  {
   "cell_type": "code",
   "execution_count": 3,
   "outputs": [
    {
     "ename": "NameError",
     "evalue": "name 'ExtractCalendar' is not defined",
     "output_type": "error",
     "traceback": [
      "\u001B[0;31m---------------------------------------------------------------------------\u001B[0m",
      "\u001B[0;31mNameError\u001B[0m                                 Traceback (most recent call last)",
      "Cell \u001B[0;32mIn [3], line 2\u001B[0m\n\u001B[1;32m      1\u001B[0m years \u001B[38;5;241m=\u001B[39m [\u001B[38;5;241m2016\u001B[39m, \u001B[38;5;241m2017\u001B[39m, \u001B[38;5;241m2018\u001B[39m, \u001B[38;5;241m2019\u001B[39m, \u001B[38;5;241m2020\u001B[39m]\n\u001B[0;32m----> 2\u001B[0m calendar \u001B[38;5;241m=\u001B[39m ExtractCalendar(years, \u001B[38;5;124m'\u001B[39m\u001B[38;5;124mbangladesh\u001B[39m\u001B[38;5;124m'\u001B[39m)\n\u001B[1;32m      3\u001B[0m \u001B[38;5;66;03m# calendar.store_holidays(years, ['bangladesh'], save_to_disk=True)\u001B[39;00m\n\u001B[1;32m      4\u001B[0m calendar\u001B[38;5;241m.\u001B[39mis_holiday(date(\u001B[38;5;241m2020\u001B[39m, \u001B[38;5;241m8\u001B[39m, \u001B[38;5;241m2\u001B[39m), \u001B[38;5;124m'\u001B[39m\u001B[38;5;124mbangladesh\u001B[39m\u001B[38;5;124m'\u001B[39m)\n",
      "\u001B[0;31mNameError\u001B[0m: name 'ExtractCalendar' is not defined"
     ]
    }
   ],
   "source": [
    "years = [2016, 2017, 2018, 2019, 2020]\n",
    "calendar = ExtractCalendar(years, 'bangladesh')\n",
    "# calendar.store_holidays(years, ['bangladesh'], save_to_disk=True)\n",
    "calendar.is_holiday(date(2020, 8, 2), 'bangladesh')"
   ],
   "metadata": {
    "collapsed": false
   }
  },
  {
   "cell_type": "code",
   "execution_count": 5,
   "outputs": [
    {
     "data": {
      "text/plain": "          Day       Date                      Holiday Name  \\\n0      Monday 2022-02-21             Language Martyrs' Day   \n1    Thursday 2022-03-17  Sheikh Mujibur Rahman's birthday   \n2      Friday 2022-03-18                      Shab e-Barat   \n3    Saturday 2022-03-26                  Independence Day   \n4    Thursday 2022-04-14                  Bengali New Year   \n5      Friday 2022-04-29                       Shab-e-Qadr   \n6      Friday 2022-04-29                     Jumatul Bidah   \n7      Sunday 2022-05-01                        Labour Day   \n8     Tuesday 2022-05-03                       Eid al-Fitr   \n9   Wednesday 2022-05-04               Eid al-Fitr Holiday   \n10   Thursday 2022-05-05               Eid al-Fitr Holiday   \n11     Monday 2022-05-16                    Buddha Purnima   \n12     Sunday 2022-07-10                       Eid-ul-Azha   \n13     Monday 2022-07-11               Eid-ul-Azha Holiday   \n14    Tuesday 2022-07-12               Eid-ul-Azha Holiday   \n15  Wednesday 2022-07-13               Eid-ul-Azha Holiday   \n16    Tuesday 2022-08-09                            Ashura   \n17     Monday 2022-08-15             National Mourning Day   \n18     Friday 2022-08-19                       Janmashtami   \n19  Wednesday 2022-10-05                        Durga Puja   \n20     Sunday 2022-10-09                 Eid-e-Miladunnabi   \n21     Friday 2022-12-16                       Victory Day   \n22     Sunday 2022-12-25                     Christmas Day   \n\n                  Type                               Comments  \n0     National Holiday                                    NaN  \n1     National Holiday                                    NaN  \n2   Government Holiday                            15 Sha'aban  \n3     National Holiday                                    NaN  \n4     National Holiday                                    NaN  \n5     National Holiday  Celebrated on the 27th day of Ramadan  \n6     National Holiday    Last Friday of the month of Ramadan  \n7     National Holiday             International Workers' Day  \n8     National Holiday                         End of Ramadan  \n9     National Holiday                                    NaN  \n10    National Holiday                                    NaN  \n11    National Holiday                        Birth of Buddha  \n12    National Holiday                 Feast of the Sacrifice  \n13    National Holiday                                    NaN  \n14    National Holiday                                    NaN  \n15    National Holiday                                    NaN  \n16    National Holiday                            10 Muharram  \n17    National Holiday                                    NaN  \n18    National Holiday                                    NaN  \n19    National Holiday                                    NaN  \n20    National Holiday           Birthday of Prophet Muhammad  \n21    National Holiday                                    NaN  \n22    National Holiday                                    NaN  ",
      "text/html": "<div>\n<style scoped>\n    .dataframe tbody tr th:only-of-type {\n        vertical-align: middle;\n    }\n\n    .dataframe tbody tr th {\n        vertical-align: top;\n    }\n\n    .dataframe thead th {\n        text-align: right;\n    }\n</style>\n<table border=\"1\" class=\"dataframe\">\n  <thead>\n    <tr style=\"text-align: right;\">\n      <th></th>\n      <th>Day</th>\n      <th>Date</th>\n      <th>Holiday Name</th>\n      <th>Type</th>\n      <th>Comments</th>\n    </tr>\n  </thead>\n  <tbody>\n    <tr>\n      <th>0</th>\n      <td>Monday</td>\n      <td>2022-02-21</td>\n      <td>Language Martyrs' Day</td>\n      <td>National Holiday</td>\n      <td>NaN</td>\n    </tr>\n    <tr>\n      <th>1</th>\n      <td>Thursday</td>\n      <td>2022-03-17</td>\n      <td>Sheikh Mujibur Rahman's birthday</td>\n      <td>National Holiday</td>\n      <td>NaN</td>\n    </tr>\n    <tr>\n      <th>2</th>\n      <td>Friday</td>\n      <td>2022-03-18</td>\n      <td>Shab e-Barat</td>\n      <td>Government Holiday</td>\n      <td>15 Sha'aban</td>\n    </tr>\n    <tr>\n      <th>3</th>\n      <td>Saturday</td>\n      <td>2022-03-26</td>\n      <td>Independence Day</td>\n      <td>National Holiday</td>\n      <td>NaN</td>\n    </tr>\n    <tr>\n      <th>4</th>\n      <td>Thursday</td>\n      <td>2022-04-14</td>\n      <td>Bengali New Year</td>\n      <td>National Holiday</td>\n      <td>NaN</td>\n    </tr>\n    <tr>\n      <th>5</th>\n      <td>Friday</td>\n      <td>2022-04-29</td>\n      <td>Shab-e-Qadr</td>\n      <td>National Holiday</td>\n      <td>Celebrated on the 27th day of Ramadan</td>\n    </tr>\n    <tr>\n      <th>6</th>\n      <td>Friday</td>\n      <td>2022-04-29</td>\n      <td>Jumatul Bidah</td>\n      <td>National Holiday</td>\n      <td>Last Friday of the month of Ramadan</td>\n    </tr>\n    <tr>\n      <th>7</th>\n      <td>Sunday</td>\n      <td>2022-05-01</td>\n      <td>Labour Day</td>\n      <td>National Holiday</td>\n      <td>International Workers' Day</td>\n    </tr>\n    <tr>\n      <th>8</th>\n      <td>Tuesday</td>\n      <td>2022-05-03</td>\n      <td>Eid al-Fitr</td>\n      <td>National Holiday</td>\n      <td>End of Ramadan</td>\n    </tr>\n    <tr>\n      <th>9</th>\n      <td>Wednesday</td>\n      <td>2022-05-04</td>\n      <td>Eid al-Fitr Holiday</td>\n      <td>National Holiday</td>\n      <td>NaN</td>\n    </tr>\n    <tr>\n      <th>10</th>\n      <td>Thursday</td>\n      <td>2022-05-05</td>\n      <td>Eid al-Fitr Holiday</td>\n      <td>National Holiday</td>\n      <td>NaN</td>\n    </tr>\n    <tr>\n      <th>11</th>\n      <td>Monday</td>\n      <td>2022-05-16</td>\n      <td>Buddha Purnima</td>\n      <td>National Holiday</td>\n      <td>Birth of Buddha</td>\n    </tr>\n    <tr>\n      <th>12</th>\n      <td>Sunday</td>\n      <td>2022-07-10</td>\n      <td>Eid-ul-Azha</td>\n      <td>National Holiday</td>\n      <td>Feast of the Sacrifice</td>\n    </tr>\n    <tr>\n      <th>13</th>\n      <td>Monday</td>\n      <td>2022-07-11</td>\n      <td>Eid-ul-Azha Holiday</td>\n      <td>National Holiday</td>\n      <td>NaN</td>\n    </tr>\n    <tr>\n      <th>14</th>\n      <td>Tuesday</td>\n      <td>2022-07-12</td>\n      <td>Eid-ul-Azha Holiday</td>\n      <td>National Holiday</td>\n      <td>NaN</td>\n    </tr>\n    <tr>\n      <th>15</th>\n      <td>Wednesday</td>\n      <td>2022-07-13</td>\n      <td>Eid-ul-Azha Holiday</td>\n      <td>National Holiday</td>\n      <td>NaN</td>\n    </tr>\n    <tr>\n      <th>16</th>\n      <td>Tuesday</td>\n      <td>2022-08-09</td>\n      <td>Ashura</td>\n      <td>National Holiday</td>\n      <td>10 Muharram</td>\n    </tr>\n    <tr>\n      <th>17</th>\n      <td>Monday</td>\n      <td>2022-08-15</td>\n      <td>National Mourning Day</td>\n      <td>National Holiday</td>\n      <td>NaN</td>\n    </tr>\n    <tr>\n      <th>18</th>\n      <td>Friday</td>\n      <td>2022-08-19</td>\n      <td>Janmashtami</td>\n      <td>National Holiday</td>\n      <td>NaN</td>\n    </tr>\n    <tr>\n      <th>19</th>\n      <td>Wednesday</td>\n      <td>2022-10-05</td>\n      <td>Durga Puja</td>\n      <td>National Holiday</td>\n      <td>NaN</td>\n    </tr>\n    <tr>\n      <th>20</th>\n      <td>Sunday</td>\n      <td>2022-10-09</td>\n      <td>Eid-e-Miladunnabi</td>\n      <td>National Holiday</td>\n      <td>Birthday of Prophet Muhammad</td>\n    </tr>\n    <tr>\n      <th>21</th>\n      <td>Friday</td>\n      <td>2022-12-16</td>\n      <td>Victory Day</td>\n      <td>National Holiday</td>\n      <td>NaN</td>\n    </tr>\n    <tr>\n      <th>22</th>\n      <td>Sunday</td>\n      <td>2022-12-25</td>\n      <td>Christmas Day</td>\n      <td>National Holiday</td>\n      <td>NaN</td>\n    </tr>\n  </tbody>\n</table>\n</div>"
     },
     "execution_count": 5,
     "metadata": {},
     "output_type": "execute_result"
    }
   ],
   "source": [
    "calendar.extract_calendar([2022], 'bangladesh')[2022]\n",
    "\n",
    "# os.path.isfile(\"./holidays/bangladesh_2022.csv\")"
   ],
   "metadata": {
    "collapsed": false
   }
  },
  {
   "cell_type": "code",
   "execution_count": 5,
   "outputs": [
    {
     "data": {
      "text/plain": "          Day        Date                      Holiday Name  \\\n0      Friday  2020-02-21             Language Martyrs' Day   \n1     Tuesday  2020-03-17  Sheikh Mujibur Rahman's birthday   \n2    Thursday  2020-03-26                  Independence Day   \n3      Sunday  2020-03-29                    Public Holiday   \n4      Monday  2020-03-30                    Public Holiday   \n..        ...         ...                               ...   \n57     Monday  2020-10-26                        Durga Puja   \n58     Friday  2020-10-30                 Eid-e-Miladunnabi   \n59  Wednesday  2020-12-16                       Victory Day   \n60     Friday  2020-12-25                     Christmas Day   \n61   Thursday  2020-12-31                      Bank Holiday   \n\n                    Type                      Comments  \n0       National Holiday                           NaN  \n1       National Holiday                           NaN  \n2       National Holiday                           NaN  \n3       National Holiday               General Holiday  \n4       National Holiday               General Holiday  \n..                   ...                           ...  \n57      National Holiday                           NaN  \n58      National Holiday  Birthday of Prophet Muhammad  \n59      National Holiday                           NaN  \n60      National Holiday                           NaN  \n61  Not A Public Holiday                    Banks only  \n\n[62 rows x 5 columns]",
      "text/html": "<div>\n<style scoped>\n    .dataframe tbody tr th:only-of-type {\n        vertical-align: middle;\n    }\n\n    .dataframe tbody tr th {\n        vertical-align: top;\n    }\n\n    .dataframe thead th {\n        text-align: right;\n    }\n</style>\n<table border=\"1\" class=\"dataframe\">\n  <thead>\n    <tr style=\"text-align: right;\">\n      <th></th>\n      <th>Day</th>\n      <th>Date</th>\n      <th>Holiday Name</th>\n      <th>Type</th>\n      <th>Comments</th>\n    </tr>\n  </thead>\n  <tbody>\n    <tr>\n      <th>0</th>\n      <td>Friday</td>\n      <td>2020-02-21</td>\n      <td>Language Martyrs' Day</td>\n      <td>National Holiday</td>\n      <td>NaN</td>\n    </tr>\n    <tr>\n      <th>1</th>\n      <td>Tuesday</td>\n      <td>2020-03-17</td>\n      <td>Sheikh Mujibur Rahman's birthday</td>\n      <td>National Holiday</td>\n      <td>NaN</td>\n    </tr>\n    <tr>\n      <th>2</th>\n      <td>Thursday</td>\n      <td>2020-03-26</td>\n      <td>Independence Day</td>\n      <td>National Holiday</td>\n      <td>NaN</td>\n    </tr>\n    <tr>\n      <th>3</th>\n      <td>Sunday</td>\n      <td>2020-03-29</td>\n      <td>Public Holiday</td>\n      <td>National Holiday</td>\n      <td>General Holiday</td>\n    </tr>\n    <tr>\n      <th>4</th>\n      <td>Monday</td>\n      <td>2020-03-30</td>\n      <td>Public Holiday</td>\n      <td>National Holiday</td>\n      <td>General Holiday</td>\n    </tr>\n    <tr>\n      <th>...</th>\n      <td>...</td>\n      <td>...</td>\n      <td>...</td>\n      <td>...</td>\n      <td>...</td>\n    </tr>\n    <tr>\n      <th>57</th>\n      <td>Monday</td>\n      <td>2020-10-26</td>\n      <td>Durga Puja</td>\n      <td>National Holiday</td>\n      <td>NaN</td>\n    </tr>\n    <tr>\n      <th>58</th>\n      <td>Friday</td>\n      <td>2020-10-30</td>\n      <td>Eid-e-Miladunnabi</td>\n      <td>National Holiday</td>\n      <td>Birthday of Prophet Muhammad</td>\n    </tr>\n    <tr>\n      <th>59</th>\n      <td>Wednesday</td>\n      <td>2020-12-16</td>\n      <td>Victory Day</td>\n      <td>National Holiday</td>\n      <td>NaN</td>\n    </tr>\n    <tr>\n      <th>60</th>\n      <td>Friday</td>\n      <td>2020-12-25</td>\n      <td>Christmas Day</td>\n      <td>National Holiday</td>\n      <td>NaN</td>\n    </tr>\n    <tr>\n      <th>61</th>\n      <td>Thursday</td>\n      <td>2020-12-31</td>\n      <td>Bank Holiday</td>\n      <td>Not A Public Holiday</td>\n      <td>Banks only</td>\n    </tr>\n  </tbody>\n</table>\n<p>62 rows × 5 columns</p>\n</div>"
     },
     "execution_count": 5,
     "metadata": {},
     "output_type": "execute_result"
    }
   ],
   "source": [
    "calendar.holiday[2020]"
   ],
   "metadata": {
    "collapsed": false
   }
  }
 ],
 "metadata": {
  "kernelspec": {
   "display_name": "Python 3",
   "language": "python",
   "name": "python3"
  },
  "language_info": {
   "codemirror_mode": {
    "name": "ipython",
    "version": 2
   },
   "file_extension": ".py",
   "mimetype": "text/x-python",
   "name": "python",
   "nbconvert_exporter": "python",
   "pygments_lexer": "ipython2",
   "version": "2.7.6"
  }
 },
 "nbformat": 4,
 "nbformat_minor": 0
}
