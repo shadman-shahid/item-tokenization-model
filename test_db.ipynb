{
 "cells": [
  {
   "cell_type": "code",
   "execution_count": 2,
   "metadata": {
    "collapsed": true
   },
   "outputs": [],
   "source": [
    "from utils import ExtractCalendar\n",
    "from datetime import date"
   ]
  },
  {
   "cell_type": "code",
   "execution_count": 4,
   "outputs": [
    {
     "data": {
      "text/plain": "True"
     },
     "execution_count": 4,
     "metadata": {},
     "output_type": "execute_result"
    }
   ],
   "source": [
    "years = [2016, 2017, 2018, 2019, 2020]\n",
    "calendar = ExtractCalendar()\n",
    "calendar.store_holidays(years, ['bangladesh'], save_to_disk=True)\n",
    "calendar.is_holiday(date(2020, 8, 2), 'bangladesh', live=True)"
   ],
   "metadata": {
    "collapsed": false
   }
  },
  {
   "cell_type": "code",
   "execution_count": 4,
   "outputs": [
    {
     "data": {
      "text/plain": "False"
     },
     "execution_count": 4,
     "metadata": {},
     "output_type": "execute_result"
    }
   ],
   "source": [],
   "metadata": {
    "collapsed": false
   }
  },
  {
   "cell_type": "code",
   "execution_count": 5,
   "outputs": [
    {
     "data": {
      "text/plain": "          Day        Date                      Holiday Name  \\\n0      Friday  2020-02-21             Language Martyrs' Day   \n1     Tuesday  2020-03-17  Sheikh Mujibur Rahman's birthday   \n2    Thursday  2020-03-26                  Independence Day   \n3      Sunday  2020-03-29                    Public Holiday   \n4      Monday  2020-03-30                    Public Holiday   \n..        ...         ...                               ...   \n57     Monday  2020-10-26                        Durga Puja   \n58     Friday  2020-10-30                 Eid-e-Miladunnabi   \n59  Wednesday  2020-12-16                       Victory Day   \n60     Friday  2020-12-25                     Christmas Day   \n61   Thursday  2020-12-31                      Bank Holiday   \n\n                    Type                      Comments  \n0       National Holiday                           NaN  \n1       National Holiday                           NaN  \n2       National Holiday                           NaN  \n3       National Holiday               General Holiday  \n4       National Holiday               General Holiday  \n..                   ...                           ...  \n57      National Holiday                           NaN  \n58      National Holiday  Birthday of Prophet Muhammad  \n59      National Holiday                           NaN  \n60      National Holiday                           NaN  \n61  Not A Public Holiday                    Banks only  \n\n[62 rows x 5 columns]",
      "text/html": "<div>\n<style scoped>\n    .dataframe tbody tr th:only-of-type {\n        vertical-align: middle;\n    }\n\n    .dataframe tbody tr th {\n        vertical-align: top;\n    }\n\n    .dataframe thead th {\n        text-align: right;\n    }\n</style>\n<table border=\"1\" class=\"dataframe\">\n  <thead>\n    <tr style=\"text-align: right;\">\n      <th></th>\n      <th>Day</th>\n      <th>Date</th>\n      <th>Holiday Name</th>\n      <th>Type</th>\n      <th>Comments</th>\n    </tr>\n  </thead>\n  <tbody>\n    <tr>\n      <th>0</th>\n      <td>Friday</td>\n      <td>2020-02-21</td>\n      <td>Language Martyrs' Day</td>\n      <td>National Holiday</td>\n      <td>NaN</td>\n    </tr>\n    <tr>\n      <th>1</th>\n      <td>Tuesday</td>\n      <td>2020-03-17</td>\n      <td>Sheikh Mujibur Rahman's birthday</td>\n      <td>National Holiday</td>\n      <td>NaN</td>\n    </tr>\n    <tr>\n      <th>2</th>\n      <td>Thursday</td>\n      <td>2020-03-26</td>\n      <td>Independence Day</td>\n      <td>National Holiday</td>\n      <td>NaN</td>\n    </tr>\n    <tr>\n      <th>3</th>\n      <td>Sunday</td>\n      <td>2020-03-29</td>\n      <td>Public Holiday</td>\n      <td>National Holiday</td>\n      <td>General Holiday</td>\n    </tr>\n    <tr>\n      <th>4</th>\n      <td>Monday</td>\n      <td>2020-03-30</td>\n      <td>Public Holiday</td>\n      <td>National Holiday</td>\n      <td>General Holiday</td>\n    </tr>\n    <tr>\n      <th>...</th>\n      <td>...</td>\n      <td>...</td>\n      <td>...</td>\n      <td>...</td>\n      <td>...</td>\n    </tr>\n    <tr>\n      <th>57</th>\n      <td>Monday</td>\n      <td>2020-10-26</td>\n      <td>Durga Puja</td>\n      <td>National Holiday</td>\n      <td>NaN</td>\n    </tr>\n    <tr>\n      <th>58</th>\n      <td>Friday</td>\n      <td>2020-10-30</td>\n      <td>Eid-e-Miladunnabi</td>\n      <td>National Holiday</td>\n      <td>Birthday of Prophet Muhammad</td>\n    </tr>\n    <tr>\n      <th>59</th>\n      <td>Wednesday</td>\n      <td>2020-12-16</td>\n      <td>Victory Day</td>\n      <td>National Holiday</td>\n      <td>NaN</td>\n    </tr>\n    <tr>\n      <th>60</th>\n      <td>Friday</td>\n      <td>2020-12-25</td>\n      <td>Christmas Day</td>\n      <td>National Holiday</td>\n      <td>NaN</td>\n    </tr>\n    <tr>\n      <th>61</th>\n      <td>Thursday</td>\n      <td>2020-12-31</td>\n      <td>Bank Holiday</td>\n      <td>Not A Public Holiday</td>\n      <td>Banks only</td>\n    </tr>\n  </tbody>\n</table>\n<p>62 rows × 5 columns</p>\n</div>"
     },
     "execution_count": 5,
     "metadata": {},
     "output_type": "execute_result"
    }
   ],
   "source": [
    "calendar.holiday[2020]"
   ],
   "metadata": {
    "collapsed": false
   }
  }
 ],
 "metadata": {
  "kernelspec": {
   "display_name": "Python 3",
   "language": "python",
   "name": "python3"
  },
  "language_info": {
   "codemirror_mode": {
    "name": "ipython",
    "version": 2
   },
   "file_extension": ".py",
   "mimetype": "text/x-python",
   "name": "python",
   "nbconvert_exporter": "python",
   "pygments_lexer": "ipython2",
   "version": "2.7.6"
  }
 },
 "nbformat": 4,
 "nbformat_minor": 0
}
